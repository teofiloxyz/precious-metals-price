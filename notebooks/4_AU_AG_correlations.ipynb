{
 "cells": [
  {
   "cell_type": "markdown",
   "id": "4f8204df-ce32-4bff-bd50-184da31da808",
   "metadata": {},
   "source": [
    "# Analysis of correlations of gold, silver and other datasets"
   ]
  },
  {
   "cell_type": "markdown",
   "id": "e7b99f2a-af4e-4ff6-be3e-8803762dd465",
   "metadata": {},
   "source": [
    "## Setup"
   ]
  },
  {
   "cell_type": "code",
   "execution_count": null,
   "id": "afd8b0ba-04fc-422c-b497-2ac0bbf69e6b",
   "metadata": {},
   "outputs": [],
   "source": [
    "import matplotlib.pyplot as plt\n",
    "import pandas as pd\n",
    "import seaborn as sns"
   ]
  },
  {
   "cell_type": "code",
   "execution_count": null,
   "id": "59cf75b6-9f4a-4d16-b087-615601777c7d",
   "metadata": {},
   "outputs": [],
   "source": [
    "# Get gold and silver dfs and several other dfs\n",
    "df_au = pd.read_csv(\"../data/AU.csv\")\n",
    "df_ag = pd.read_csv(\"../data/AG.csv\")\n",
    "\n",
    "df_au_fut = pd.read_csv(\"../data/AU_FUTURES.csv\")\n",
    "df_ag_fut = pd.read_csv(\"../data/AG_FUTURES.csv\")\n",
    "df_au_min = pd.read_csv(\"../data/AU_MINERS_ETF.csv\")\n",
    "df_ag_min = pd.read_csv(\"../data/AG_MINERS_ETF.csv\")\n",
    "df_au_res = pd.read_csv(\"../data/AU_WORLD_RESERVES_OZ_M.csv\")\n",
    "\n",
    "df_usgdp = pd.read_csv(\"../data/US_REAL_GDP_Q.csv\")\n",
    "df_cpi = pd.read_csv(\"../data/US_CPI_M.csv\")\n",
    "df_fed = pd.read_csv(\"../data/FED_FUNDS_EFFECTIVE_RATE_M.csv\")\n",
    "df_us10y = pd.read_csv(\"../data/US_10Y_TREASURY_YIELD.csv\")\n",
    "df_dxy = pd.read_csv(\"../data/DXY.csv\")\n",
    "\n",
    "df_sp500 = pd.read_csv(\"../data/SP500.csv\")\n",
    "df_vix = pd.read_csv(\"../data/VIX.csv\")\n",
    "df_btc = pd.read_csv(\"../data/BTC.csv\")"
   ]
  },
  {
   "cell_type": "code",
   "execution_count": null,
   "id": "b28455d9-30f7-4f6f-9d8e-fa7abbb6882b",
   "metadata": {},
   "outputs": [],
   "source": [
    "# Append the CPI estimate for April of 2024 to the CPI df\n",
    "new_row = pd.DataFrame({\"year_month\": [\"2024-04\"], \"rate\": [3.4]})\n",
    "df_cpi = pd.concat([df_cpi, new_row], ignore_index=True)"
   ]
  },
  {
   "cell_type": "code",
   "execution_count": null,
   "id": "f1f99f67-f483-4d79-a042-2aed232fb961",
   "metadata": {},
   "outputs": [],
   "source": [
    "# Set date as index for all dfs\n",
    "for df in df_au, df_ag, df_au_fut, df_ag_fut, df_au_min, df_ag_min, df_au_res, df_usgdp, df_cpi, df_fed, df_us10y, df_dxy, df_sp500, df_vix, df_btc:\n",
    "    date_col = df.columns[0]\n",
    "    df[date_col] = pd.to_datetime(df[date_col])\n",
    "    df.set_index(date_col, inplace=True)"
   ]
  },
  {
   "cell_type": "code",
   "execution_count": null,
   "id": "f5c1d764-e9a1-459d-af1b-6e99b7f92992",
   "metadata": {},
   "outputs": [],
   "source": [
    "# Set charts theme\n",
    "sns.set_theme(style=\"darkgrid\", rc={\"grid.alpha\": 0.33})\n",
    "plt.style.use(\"dark_background\")"
   ]
  },
  {
   "cell_type": "code",
   "execution_count": null,
   "id": "24f94ec2-6f37-4708-97a1-01b2ff9c1a53",
   "metadata": {},
   "outputs": [],
   "source": [
    "# Save chart as png function\n",
    "def save_chart_as_png(filename: str) -> None:\n",
    "    plt.savefig(\n",
    "        f\"../images/{filename}.png\",\n",
    "        format=\"png\",\n",
    "        dpi=300,\n",
    "        orientation=\"landscape\",\n",
    "        bbox_inches=\"tight\",\n",
    "    )"
   ]
  },
  {
   "cell_type": "markdown",
   "id": "d02a4bb6-c3a1-4b3b-908a-077e9df7d272",
   "metadata": {},
   "source": [
    "## Datasets basic info"
   ]
  },
  {
   "cell_type": "markdown",
   "id": "128957e6-1734-4204-ab8b-ba330a8d8758",
   "metadata": {},
   "source": [
    "*Only the ones that weren't presented yet.*"
   ]
  },
  {
   "cell_type": "markdown",
   "id": "3110815e-f9b0-4673-ad1f-d1e31e342651",
   "metadata": {},
   "source": [
    "### Gold futures"
   ]
  },
  {
   "cell_type": "code",
   "execution_count": null,
   "id": "b9ddb892-5840-489c-b446-12cef40138eb",
   "metadata": {},
   "outputs": [],
   "source": [
    "# First and last entries\n",
    "pd.concat([df_au_fut.head(1), df_au_fut.tail(1)]).T"
   ]
  },
  {
   "cell_type": "code",
   "execution_count": null,
   "id": "a77d3ea0-26a4-4629-a103-2ecfb35778f2",
   "metadata": {},
   "outputs": [],
   "source": [
    "df_au_fut.describe().T"
   ]
  },
  {
   "cell_type": "markdown",
   "id": "ba55acb5-67cf-48d5-846f-900d26cc4487",
   "metadata": {},
   "source": [
    "### Silver futures"
   ]
  },
  {
   "cell_type": "code",
   "execution_count": null,
   "id": "cb13d814-329c-423c-8ace-35bf3e220e19",
   "metadata": {},
   "outputs": [],
   "source": [
    "# First and last entries\n",
    "pd.concat([df_ag_fut.head(1), df_ag_fut.tail(1)]).T"
   ]
  },
  {
   "cell_type": "code",
   "execution_count": null,
   "id": "bb5a19a0-2050-461d-a6cf-d7ef75300e10",
   "metadata": {},
   "outputs": [],
   "source": [
    "df_ag_fut.describe().T"
   ]
  },
  {
   "cell_type": "markdown",
   "id": "a36fa6cf-8fc6-4617-8430-00183c8173fc",
   "metadata": {},
   "source": [
    "### Gold miners ETF"
   ]
  },
  {
   "cell_type": "code",
   "execution_count": null,
   "id": "7b280bc5-4325-48b9-b6c3-f1d2c79153fb",
   "metadata": {},
   "outputs": [],
   "source": [
    "# First and last entries\n",
    "pd.concat([df_au_min.head(1), df_au_min.tail(1)]).T"
   ]
  },
  {
   "cell_type": "code",
   "execution_count": null,
   "id": "cbdd6932-ad05-43da-b039-8d8f6ab0498a",
   "metadata": {},
   "outputs": [],
   "source": [
    "df_au_min.describe().T"
   ]
  },
  {
   "cell_type": "markdown",
   "id": "57000900-4b04-4a02-b84d-fc68449f3ae1",
   "metadata": {},
   "source": [
    "### Silver miners ETF"
   ]
  },
  {
   "cell_type": "code",
   "execution_count": null,
   "id": "ac7b3fad-e394-4e07-8d88-7e078a295f4e",
   "metadata": {},
   "outputs": [],
   "source": [
    "# First and last entries\n",
    "pd.concat([df_ag_min.head(1), df_ag_min.tail(1)]).T"
   ]
  },
  {
   "cell_type": "code",
   "execution_count": null,
   "id": "426ab4e7-89e6-430a-98ef-12380d57489e",
   "metadata": {},
   "outputs": [],
   "source": [
    "df_ag_min.describe().T"
   ]
  },
  {
   "cell_type": "markdown",
   "id": "585f961a-b85c-4974-8674-f8878a61b0dd",
   "metadata": {},
   "source": [
    "### Gold world reserves in central banks in troy ounces"
   ]
  },
  {
   "cell_type": "code",
   "execution_count": null,
   "id": "9fca4c8e-b5da-45a0-be84-e139a8356afd",
   "metadata": {
    "scrolled": true
   },
   "outputs": [],
   "source": [
    "# First and last entries\n",
    "pd.concat([df_au_res.head(1), df_au_res.tail(1)]).T"
   ]
  },
  {
   "cell_type": "code",
   "execution_count": null,
   "id": "a7f5b8d7-07e3-41ed-87b2-13638d3a8acf",
   "metadata": {
    "scrolled": true
   },
   "outputs": [],
   "source": [
    "df_au_res.describe().T"
   ]
  },
  {
   "cell_type": "markdown",
   "id": "82522ce9-dca2-459b-bc75-eceacf43d994",
   "metadata": {},
   "source": [
    "### US real GDP 2017 prices"
   ]
  },
  {
   "cell_type": "code",
   "execution_count": null,
   "id": "3ae3c1b2-9cb1-4229-ba04-5a10054c73c4",
   "metadata": {
    "scrolled": true
   },
   "outputs": [],
   "source": [
    "# First and last entries\n",
    "pd.concat([df_usgdp.head(1), df_usgdp.tail(1)]).T"
   ]
  },
  {
   "cell_type": "code",
   "execution_count": null,
   "id": "98ab6a46-c508-4add-aa71-44fdc63bf899",
   "metadata": {},
   "outputs": [],
   "source": [
    "df_usgdp.describe().T"
   ]
  },
  {
   "cell_type": "markdown",
   "id": "e95d7184-80d8-4a4f-9e92-dc633d6ac504",
   "metadata": {},
   "source": [
    "### US 10 year treasury bonds yield"
   ]
  },
  {
   "cell_type": "code",
   "execution_count": null,
   "id": "6f69ba26-6e0e-4615-b1e6-890e3fe45fb1",
   "metadata": {
    "scrolled": true
   },
   "outputs": [],
   "source": [
    "# First and last entries\n",
    "pd.concat([df_us10y.head(1), df_us10y.tail(1)]).T"
   ]
  },
  {
   "cell_type": "code",
   "execution_count": null,
   "id": "fd6ccf77-d86c-4a9a-b4c8-752c88dab811",
   "metadata": {},
   "outputs": [],
   "source": [
    "df_us10y.describe().T"
   ]
  },
  {
   "cell_type": "markdown",
   "id": "9da54cc7-d375-4789-acec-164278d56eaa",
   "metadata": {},
   "source": [
    "### Dollar index (DXY)"
   ]
  },
  {
   "cell_type": "code",
   "execution_count": null,
   "id": "7cde8560-50eb-4c1a-b7dc-d4296cb256cf",
   "metadata": {
    "scrolled": true
   },
   "outputs": [],
   "source": [
    "# First and last entries\n",
    "pd.concat([df_dxy.head(1), df_dxy.tail(1)]).T"
   ]
  },
  {
   "cell_type": "code",
   "execution_count": null,
   "id": "73dc5c73-4350-428e-8ee1-6e2dcaef5df4",
   "metadata": {},
   "outputs": [],
   "source": [
    "df_dxy.describe().T"
   ]
  },
  {
   "cell_type": "markdown",
   "id": "427d060f-b055-4537-80de-a1b15f96d6c8",
   "metadata": {},
   "source": [
    "### S&P 500 index"
   ]
  },
  {
   "cell_type": "code",
   "execution_count": null,
   "id": "35f14647-8a0e-4a78-83a6-a3ca1f9bcf17",
   "metadata": {
    "scrolled": true
   },
   "outputs": [],
   "source": [
    "# First and last entries\n",
    "pd.concat([df_sp500.head(1), df_sp500.tail(1)]).T"
   ]
  },
  {
   "cell_type": "code",
   "execution_count": null,
   "id": "1353069d-3fa1-4f55-a866-b75921cbd539",
   "metadata": {},
   "outputs": [],
   "source": [
    "df_sp500.describe().T"
   ]
  },
  {
   "cell_type": "markdown",
   "id": "f4a78702-4ad7-4910-ace6-a3cefd6fe6ea",
   "metadata": {},
   "source": [
    "*The \"open\" metric is unreliable, often showing as 0, which is incorrect. Therefore, we'll use the HLC mean instead of the OHLC mean.*"
   ]
  },
  {
   "cell_type": "markdown",
   "id": "06464649-a418-43b2-8b03-0c39893f6edd",
   "metadata": {},
   "source": [
    "### Volatility index (VIX)"
   ]
  },
  {
   "cell_type": "code",
   "execution_count": null,
   "id": "6076030b-c2e3-4856-a424-b90f0a490af7",
   "metadata": {
    "scrolled": true
   },
   "outputs": [],
   "source": [
    "# First and last entries\n",
    "pd.concat([df_vix.head(1), df_vix.tail(1)]).T"
   ]
  },
  {
   "cell_type": "code",
   "execution_count": null,
   "id": "82444b6b-110b-46fc-a8fa-d04671db9740",
   "metadata": {},
   "outputs": [],
   "source": [
    "df_vix.describe().T"
   ]
  },
  {
   "cell_type": "markdown",
   "id": "efd396a1-9d8a-4eae-8a29-0dbe7b064c08",
   "metadata": {},
   "source": [
    "### Bitcoin price (BTC)"
   ]
  },
  {
   "cell_type": "code",
   "execution_count": null,
   "id": "7ff81e31-ab1a-4626-91dc-a9b3b59b710a",
   "metadata": {
    "scrolled": true
   },
   "outputs": [],
   "source": [
    "# First and last entries\n",
    "pd.concat([df_btc.head(1), df_btc.tail(1)]).T"
   ]
  },
  {
   "cell_type": "code",
   "execution_count": null,
   "id": "198727d5-a202-471e-93e3-336757fb35cf",
   "metadata": {},
   "outputs": [],
   "source": [
    "df_btc.describe().T"
   ]
  },
  {
   "cell_type": "markdown",
   "id": "167d013a-9de6-4132-9a14-45496b47a8a3",
   "metadata": {},
   "source": [
    "## Preparing all data into a combined df"
   ]
  },
  {
   "cell_type": "code",
   "execution_count": null,
   "id": "e156e4d6-79ed-4823-aa28-10de1f99c063",
   "metadata": {},
   "outputs": [],
   "source": [
    "# Get OHLC average as price from dfs\n",
    "for df in df_au_fut, df_ag_fut, df_au_min, df_ag_min, df_dxy, df_vix, df_btc:\n",
    "    df[\"price\"] = df[[\"open\", \"high\", \"low\", \"close\"]].mean(axis=1)\n",
    "    df.drop(columns=[\"open\", \"high\", \"low\", \"close\"], inplace=True)\n",
    "\n",
    "# Get HLC average as price from S&P 500 df (due to zero values in the open col)\n",
    "df_sp500[\"price\"] = df_sp500[[\"high\", \"low\", \"close\"]].mean(axis=1)\n",
    "df_sp500.drop(columns=[\"open\", \"high\", \"low\", \"close\"], inplace=True)"
   ]
  },
  {
   "cell_type": "code",
   "execution_count": null,
   "id": "d928717b-3185-413a-840e-cb2c2c88ce37",
   "metadata": {},
   "outputs": [],
   "source": [
    "# Resample date of non-daily dfs \n",
    "df_au_res, df_usgdp, df_cpi, df_fed = [df.resample(\"D\").ffill() for df in [df_au_res, df_usgdp, df_cpi, df_fed]]"
   ]
  },
  {
   "cell_type": "code",
   "execution_count": null,
   "id": "afdb51d8-ba2b-4c17-9d74-57ceddfe35dc",
   "metadata": {},
   "outputs": [],
   "source": [
    "# Get 1-year volatility of gold and silver\n",
    "for df, name in [(df_au, \"au\"), (df_ag, \"ag\")]:\n",
    "    df[\"price_change\"] = df[\"price\"].pct_change()\n",
    "    df[f\"{name}_volatility\"] = df[\"price_change\"].rolling(window=252).std()\n",
    "    df.drop(columns=[\"price_change\"], inplace=True)"
   ]
  },
  {
   "cell_type": "code",
   "execution_count": null,
   "id": "bee46354-a7f2-4485-81a1-662024f66f3d",
   "metadata": {},
   "outputs": [],
   "source": [
    "# Rename dfs cols\n",
    "df_au.rename(columns={\"price\": \"au\"}, inplace=True)\n",
    "df_ag.rename(columns={\"price\": \"ag\"}, inplace=True)\n",
    "df_au_fut.rename(columns={\"price\": \"au_futures\"}, inplace=True)\n",
    "df_ag_fut.rename(columns={\"price\": \"ag_futures\"}, inplace=True)\n",
    "df_au_min.rename(columns={\"price\": \"au_minners\"}, inplace=True)\n",
    "df_ag_min.rename(columns={\"price\": \"ag_minners\"}, inplace=True)\n",
    "df_au_res.rename(columns={\"amount\": \"au_reserves\"}, inplace=True)\n",
    "df_usgdp.rename(columns={\"value\": \"us_real_gdp\"}, inplace=True)\n",
    "df_cpi.rename(columns={\"rate\": \"us_cpi\"}, inplace=True)\n",
    "df_fed.rename(columns={\"rate\": \"fed_rate\"}, inplace=True)\n",
    "df_us10y.rename(columns={\"yield\": \"us_10y_yield\"}, inplace=True)\n",
    "df_dxy.rename(columns={\"price\": \"dxy\"}, inplace=True)\n",
    "df_sp500.rename(columns={\"price\": \"sp500\"}, inplace=True)\n",
    "df_vix.rename(columns={\"price\": \"vix\"}, inplace=True)\n",
    "df_btc.rename(columns={\"price\": \"btc\"}, inplace=True)"
   ]
  },
  {
   "cell_type": "code",
   "execution_count": null,
   "id": "d9e7b1c7-6088-4eae-a0b2-f4d2cfb28ca8",
   "metadata": {},
   "outputs": [],
   "source": [
    "# Combine all in one df (null values do not need to be dropped because they are ignored in the calculations, this way no dataset will be shortened)\n",
    "df_all = pd.concat([df_au, df_ag, df_au_fut, df_ag_fut, df_au_min, df_ag_min, df_au_res, df_usgdp, df_cpi, df_fed, df_us10y, df_dxy, df_sp500, df_vix, df_btc], axis=1)"
   ]
  },
  {
   "cell_type": "markdown",
   "id": "dc412f4e-3317-4067-938f-6e3fbe1a35fc",
   "metadata": {},
   "source": [
    "## Covariance matrix"
   ]
  },
  {
   "cell_type": "code",
   "execution_count": null,
   "id": "77e42b5a-8b9a-4776-82bf-8aaa43235090",
   "metadata": {},
   "outputs": [],
   "source": [
    "# Get covariance matrix\n",
    "df_cov_matrix = df_all.cov()\n",
    "df_cov_matrix"
   ]
  },
  {
   "cell_type": "markdown",
   "id": "0efd19fe-d9be-4479-a481-2e57dc3f3ea8",
   "metadata": {},
   "source": [
    "**Not very insightful. We must check correlations.**"
   ]
  },
  {
   "cell_type": "markdown",
   "id": "b41b04c7-076c-42db-b66a-bbe9332e16ab",
   "metadata": {},
   "source": [
    "## Correlation matrix (Pearson method)"
   ]
  },
  {
   "cell_type": "code",
   "execution_count": null,
   "id": "e7f87dcb-a18b-495f-968e-0b922f437e30",
   "metadata": {},
   "outputs": [],
   "source": [
    "# Get correlation matrix\n",
    "df_corr_matrix = df_all.corr().round(3)\n",
    "df_corr_matrix"
   ]
  },
  {
   "cell_type": "markdown",
   "id": "a7654d70-f802-441c-b45e-ca5770dea223",
   "metadata": {},
   "source": [
    "### Heatmap"
   ]
  },
  {
   "cell_type": "code",
   "execution_count": null,
   "id": "078da631-529a-42b5-8c0b-0ec6d65cbe5e",
   "metadata": {},
   "outputs": [],
   "source": [
    "plt.figure(figsize=(13, 8))\n",
    "\n",
    "sns.heatmap(data=df_corr_matrix, annot=True, cmap=\"coolwarm\", center=0)\n",
    "\n",
    "plt.title(\"Correlation matrix heat map\")\n",
    "\n",
    "save_chart_as_png(\"4_AU_AG_correlations_matrix\")"
   ]
  },
  {
   "cell_type": "markdown",
   "id": "53ee13b9-b6a4-4aeb-b571-8ee07149b228",
   "metadata": {},
   "source": [
    "**Key takeaways:**\n",
    "- The spot and futures markets have a perfect correlation, as anticipated.\n",
    "- Gold and silver show a strong correlation, including their respective yearly volatilities.\n",
    "- Gold is strongly correlated with the S&P 500 and US real GDP, while silver has a moderate correlation with these indicators.\n",
    "- Gold has a strong correlation with Bitcoin, whereas silver shows no correlation.\n",
    "- Gold exhibits a moderate negative correlation with the Fed funds rate and the US 10-year Treasury yield, with silver showing a slightly weaker negative correlation.\n",
    "- Both metals have a weak to moderate negative correlation with the dollar index.\n",
    "- Gold shows no correlation with mining stocks, in contrast to silver, which has a strong correlation, particularly with its miners.\n",
    "- There is no correlation between central banks' gold reserves and the precious metals.\n",
    "- Both metals have little to no correlation with US inflation and the volatility index; however, the metals' volatilities, especially gold's, are moderately correlated with these indicators."
   ]
  },
  {
   "cell_type": "markdown",
   "id": "b9b3b8e7-44d2-4172-bc76-cf4991b24d36",
   "metadata": {},
   "source": [
    "### Top ten correlations"
   ]
  },
  {
   "cell_type": "markdown",
   "id": "bbf75fdb-c247-45ec-a80c-f4aa571101d3",
   "metadata": {},
   "source": [
    "**Gold price**"
   ]
  },
  {
   "cell_type": "code",
   "execution_count": null,
   "id": "f98235c1-45bc-44a8-ad87-7dc80979f165",
   "metadata": {},
   "outputs": [],
   "source": [
    "# Top 10 (abs) corr with gold price\n",
    "df_sorted_corr = df_corr_matrix.sort_values(by=\"au\", key=lambda x: x.abs(), ascending=False)\n",
    "df_sorted_corr.drop(\"au\", inplace=True)\n",
    "df_sorted_corr = df_sorted_corr.iloc[:10][[\"au\"]]\n",
    "df_sorted_corr.T"
   ]
  },
  {
   "cell_type": "code",
   "execution_count": null,
   "id": "52f6746c-fe0d-4e15-8c2e-7d80136a236c",
   "metadata": {},
   "outputs": [],
   "source": [
    "# Get type of correlation and absolute values for chart\n",
    "df_sorted_corr[\"type\"] = df_sorted_corr[\"au\"].apply(lambda x: \"Negative\" if x < 0 else \"Positive\")\n",
    "df_sorted_corr[\"au\"] = df_sorted_corr[\"au\"].abs()"
   ]
  },
  {
   "cell_type": "code",
   "execution_count": null,
   "id": "8013cdb5-2961-4009-8dc8-66ab4f16d2ab",
   "metadata": {},
   "outputs": [],
   "source": [
    "plt.figure(figsize=(10, 6))\n",
    "\n",
    "sns.barplot(data=df_sorted_corr, x=\"au\", y=df_sorted_corr.index, hue=\"type\", palette={\"Positive\": \"goldenrod\", \"Negative\": \"orangered\"})\n",
    "\n",
    "plt.title(\"Top 10 gold price correlations\")\n",
    "plt.xlabel(\"\")\n",
    "plt.ylabel(\"\")\n",
    "plt.legend(title=\"Correlation type\")"
   ]
  },
  {
   "cell_type": "markdown",
   "id": "4fc5eb9f-c9d7-4343-bd58-9bce2e82241b",
   "metadata": {},
   "source": [
    "**Gold 1-year volatility**"
   ]
  },
  {
   "cell_type": "code",
   "execution_count": null,
   "id": "3064d1be-23ef-44a1-b28d-b67d5a394647",
   "metadata": {},
   "outputs": [],
   "source": [
    "# Top 10 (abs) corr with gold 1-year volatility\n",
    "df_sorted_corr = df_corr_matrix.sort_values(by=\"au_volatility\", key=lambda x: x.abs(), ascending=False)\n",
    "df_sorted_corr.drop(\"au_volatility\", inplace=True)\n",
    "df_sorted_corr = df_sorted_corr.iloc[:10][[\"au_volatility\"]]\n",
    "df_sorted_corr.T"
   ]
  },
  {
   "cell_type": "code",
   "execution_count": null,
   "id": "024149f0-6535-4990-b1b3-cbdfee9a6ef6",
   "metadata": {},
   "outputs": [],
   "source": [
    "# Get type of correlation and absolute values for chart\n",
    "df_sorted_corr[\"type\"] = df_sorted_corr[\"au_volatility\"].apply(lambda x: \"Negative\" if x < 0 else \"Positive\")\n",
    "df_sorted_corr[\"au_volatility\"] = df_sorted_corr[\"au_volatility\"].abs()"
   ]
  },
  {
   "cell_type": "code",
   "execution_count": null,
   "id": "ab96050f-369e-4344-8724-9f36057ff071",
   "metadata": {},
   "outputs": [],
   "source": [
    "plt.figure(figsize=(10, 6))\n",
    "\n",
    "sns.barplot(data=df_sorted_corr, x=\"au_volatility\", y=df_sorted_corr.index, hue=\"type\", palette={\"Positive\": \"chocolate\", \"Negative\": \"red\"})\n",
    "\n",
    "plt.title(\"Top 10 gold price yearly volatility correlations\")\n",
    "plt.xlabel(\"\")\n",
    "plt.ylabel(\"\")\n",
    "plt.legend(title=\"Correlation type\")"
   ]
  },
  {
   "cell_type": "markdown",
   "id": "04bd672a-a8de-4712-9004-6aaab6f9d798",
   "metadata": {},
   "source": [
    "**Silver price**"
   ]
  },
  {
   "cell_type": "code",
   "execution_count": null,
   "id": "cc4a7a63-e865-44ab-adb1-ca06c97bbab4",
   "metadata": {},
   "outputs": [],
   "source": [
    "# Top 10 (abs) corr with silver price\n",
    "df_sorted_corr = df_corr_matrix.sort_values(by=\"ag\", key=lambda x: x.abs(), ascending=False)\n",
    "df_sorted_corr.drop(\"ag\", inplace=True)\n",
    "df_sorted_corr = df_sorted_corr.iloc[:10][[\"ag\"]]\n",
    "df_sorted_corr.T"
   ]
  },
  {
   "cell_type": "code",
   "execution_count": null,
   "id": "3541e091-1a7b-4247-91ee-e27383a03094",
   "metadata": {},
   "outputs": [],
   "source": [
    "# Get type of correlation and absolute values for chart\n",
    "df_sorted_corr[\"type\"] = df_sorted_corr[\"ag\"].apply(lambda x: \"Negative\" if x < 0 else \"Positive\")\n",
    "df_sorted_corr[\"ag\"] = df_sorted_corr[\"ag\"].abs()"
   ]
  },
  {
   "cell_type": "code",
   "execution_count": null,
   "id": "e3a2f635-03fb-4005-a9e6-78c0c6e2e27b",
   "metadata": {},
   "outputs": [],
   "source": [
    "plt.figure(figsize=(10, 6))\n",
    "\n",
    "sns.barplot(data=df_sorted_corr, x=\"ag\", y=df_sorted_corr.index, hue=\"type\", palette={\"Positive\": \"silver\", \"Negative\": \"lightcoral\"})\n",
    "\n",
    "plt.title(\"Top 10 silver price correlations\")\n",
    "plt.xlabel(\"\")\n",
    "plt.ylabel(\"\")\n",
    "plt.legend(title=\"Correlation type\")"
   ]
  },
  {
   "cell_type": "markdown",
   "id": "712cb744-641f-4b58-804a-803d9b2953c4",
   "metadata": {},
   "source": [
    "**Silver 1-year volatility**"
   ]
  },
  {
   "cell_type": "code",
   "execution_count": null,
   "id": "fcdb6cc2-cb5c-41e0-b256-941df11add59",
   "metadata": {},
   "outputs": [],
   "source": [
    "# Top 10 (abs) corr with silver 1-year volatility\n",
    "df_sorted_corr = df_corr_matrix.sort_values(by=\"ag_volatility\", key=lambda x: x.abs(), ascending=False)\n",
    "df_sorted_corr.drop(\"ag_volatility\", inplace=True)\n",
    "df_sorted_corr = df_sorted_corr.iloc[:10][[\"ag_volatility\"]]\n",
    "df_sorted_corr.T"
   ]
  },
  {
   "cell_type": "code",
   "execution_count": null,
   "id": "3c58c5b8-8e87-427e-bd08-00ee185b213a",
   "metadata": {},
   "outputs": [],
   "source": [
    "# Get type of correlation and absolute values for chart\n",
    "df_sorted_corr[\"type\"] = df_sorted_corr[\"ag_volatility\"].apply(lambda x: \"Negative\" if x < 0 else \"Positive\")\n",
    "df_sorted_corr[\"ag_volatility\"] = df_sorted_corr[\"ag_volatility\"].abs()"
   ]
  },
  {
   "cell_type": "code",
   "execution_count": null,
   "id": "fef73e25-3d5b-4a66-a164-a518a5459863",
   "metadata": {},
   "outputs": [],
   "source": [
    "plt.figure(figsize=(10, 6))\n",
    "\n",
    "sns.barplot(data=df_sorted_corr, x=\"ag_volatility\", y=df_sorted_corr.index, hue=\"type\", palette={\"Positive\": \"rosybrown\", \"Negative\": \"red\"})\n",
    "\n",
    "plt.title(\"Top 10 silver price yearly volatility correlations\")\n",
    "plt.xlabel(\"\")\n",
    "plt.ylabel(\"\")\n",
    "plt.legend(title=\"Correlation type\")"
   ]
  }
 ],
 "metadata": {
  "kernelspec": {
   "display_name": "Python 3 (ipykernel)",
   "language": "python",
   "name": "python3"
  },
  "language_info": {
   "codemirror_mode": {
    "name": "ipython",
    "version": 3
   },
   "file_extension": ".py",
   "mimetype": "text/x-python",
   "name": "python",
   "nbconvert_exporter": "python",
   "pygments_lexer": "ipython3",
   "version": "3.12.3"
  }
 },
 "nbformat": 4,
 "nbformat_minor": 5
}
