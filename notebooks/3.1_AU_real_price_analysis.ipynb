{
 "cells": [
  {
   "cell_type": "markdown",
   "id": "5434ed10-f8bd-4f7a-a251-fa6dd0841c18",
   "metadata": {},
   "source": [
    "# Analysis of the historical price of a troy ounce of gold adjusted for inflation"
   ]
  },
  {
   "cell_type": "markdown",
   "id": "c632e072-07d5-4910-92e5-21cedc833411",
   "metadata": {},
   "source": [
    "## Setup"
   ]
  },
  {
   "cell_type": "code",
   "execution_count": null,
   "id": "6584bb20-0201-4a7b-9ee9-2a999c631b38",
   "metadata": {},
   "outputs": [],
   "source": [
    "import matplotlib.pyplot as plt\n",
    "import numpy as np\n",
    "import pandas as pd\n",
    "import seaborn as sns\n",
    "from scipy import signal\n",
    "from statsmodels.tsa.seasonal import STL"
   ]
  },
  {
   "cell_type": "code",
   "execution_count": null,
   "id": "c355a7d1-dd45-478c-954d-288b2dd2c68c",
   "metadata": {},
   "outputs": [],
   "source": [
    "# Set charts theme\n",
    "sns.set_theme(style=\"darkgrid\", rc={\"grid.alpha\": 0.33})\n",
    "plt.style.use(\"dark_background\")"
   ]
  },
  {
   "cell_type": "code",
   "execution_count": null,
   "id": "025fb106-cd59-424d-a7bc-f062e7e7c428",
   "metadata": {},
   "outputs": [],
   "source": [
    "# Get  gold price and US CPI dfs\n",
    "df_au = pd.read_csv(\"../data/AU.csv\")\n",
    "df_cpi = pd.read_csv(\"../data/US_CPI_M.csv\")"
   ]
  },
  {
   "cell_type": "code",
   "execution_count": null,
   "id": "c64da55a-65b8-4e7e-8096-7693858b8028",
   "metadata": {},
   "outputs": [],
   "source": [
    "# Append the CPI estimate for April of 2024 to the CPI df\n",
    "new_row = pd.DataFrame({\"year_month\": [\"2024-04\"], \"rate\": [3.4]})\n",
    "df_cpi = pd.concat([df_cpi, new_row], ignore_index=True)"
   ]
  },
  {
   "cell_type": "code",
   "execution_count": null,
   "id": "d7353619-4ea0-4d69-ba04-b49fcc7a00e1",
   "metadata": {},
   "outputs": [],
   "source": [
    "# Set date as index for both dfs\n",
    "df_au[\"date\"] = pd.to_datetime(df_au[\"date\"])\n",
    "df_au.set_index(\"date\", inplace=True)\n",
    "df_cpi[\"year_month\"] = pd.to_datetime(df_cpi[\"year_month\"])\n",
    "df_cpi.set_index(\"year_month\", inplace=True)"
   ]
  },
  {
   "cell_type": "code",
   "execution_count": null,
   "id": "d88d1aa9-1700-4d32-995f-56d93510174b",
   "metadata": {},
   "outputs": [],
   "source": [
    "# let's adjust price to real price (using 2023 prices)"
   ]
  },
  {
   "cell_type": "code",
   "execution_count": null,
   "id": "9b0a0830-0f90-42c7-92c7-42857d269a82",
   "metadata": {},
   "outputs": [],
   "source": [
    "# Make CPI rates decimal\n",
    "df_cpi[\"rate\"] = df_cpi[\"rate\"] / 100"
   ]
  },
  {
   "cell_type": "code",
   "execution_count": null,
   "id": "d40122f5-3c57-4796-89e8-2fba5a3148cf",
   "metadata": {},
   "outputs": [],
   "source": [
    "# Cumulative product of rates until 2023 (which is the base year)\n",
    "all_months = []\n",
    "for month in range(1, 12 + 1):\n",
    "    # Cumulative product of year over year CPI rate for each month number\n",
    "    cumulative_product = np.cumprod((1 + df_cpi[:f\"2023-{month:02}\"][\"rate\"])[::-12])\n",
    "    # Shift the cumulative product to align with the prior year\n",
    "    cumulative_product = cumulative_product.shift(1).fillna(1)\n",
    "    all_months.append(cumulative_product)\n",
    "\n",
    "# Add cumulative CPI rates to the df\n",
    "df_cpi[\"cumulative_rate\"] = pd.concat(all_months)"
   ]
  },
  {
   "cell_type": "code",
   "execution_count": null,
   "id": "81a0481f-8f98-461d-ac04-53d91ad56a32",
   "metadata": {},
   "outputs": [],
   "source": [
    "# Get 2024 months cumulative rate by inverting respective rate\n",
    "df_cpi.loc[df_cpi.index.year == 2024, \"cumulative_rate\"] = 1 / (1 + df_cpi[\"rate\"])"
   ]
  },
  {
   "cell_type": "code",
   "execution_count": null,
   "id": "dd6e4aa0-38ef-42ba-83b2-81a924ac45d7",
   "metadata": {},
   "outputs": [],
   "source": [
    "# Add the cumulative CPI rates to the gold price df (May values will have the same rate as April)\n",
    "df_cpi_reindexed = df_cpi.reindex(df_au.index, method=\"ffill\")\n",
    "df_au[\"cpi_cumulative_rate\"] = df_cpi_reindexed[\"cumulative_rate\"]"
   ]
  },
  {
   "cell_type": "code",
   "execution_count": null,
   "id": "ded7d078-82c5-4da4-a79a-41a7c17fcaf5",
   "metadata": {},
   "outputs": [],
   "source": [
    "# Adjust all prices to 2023 dollars\n",
    "df_au[\"real_price\"] = df_au[\"price\"] * df_au[\"cpi_cumulative_rate\"]"
   ]
  },
  {
   "cell_type": "markdown",
   "id": "33961d18-e079-49b0-8003-64510390e08f",
   "metadata": {},
   "source": [
    "## The price of gold adjusted for inflation across time"
   ]
  },
  {
   "cell_type": "code",
   "execution_count": null,
   "id": "c7761a6e-c6e5-423e-b5ea-1b1103741e6e",
   "metadata": {},
   "outputs": [],
   "source": [
    "# 1-year moving average (252 trading days per year)\n",
    "df_au[\"real_price_1y_ma\"] = df_au[\"real_price\"].rolling(window=252).mean()"
   ]
  },
  {
   "cell_type": "code",
   "execution_count": null,
   "id": "b74090e5-4306-4b86-baea-ea39ce3a1c9a",
   "metadata": {},
   "outputs": [],
   "source": [
    "plt.figure(figsize=(14, 7))\n",
    "\n",
    "sns.lineplot(data=df_au,x=df_au.index,y=\"real_price\", label=\"Price\", color=\"yellow\", linewidth=0.25)\n",
    "sns.lineplot(data=df_au,x=df_au.index,y=\"real_price_1y_ma\", label=\"Moving average (1-year)\", color=\"cyan\", linewidth=0.75)\n",
    "\n",
    "plt.title(\"Price of a troy ounce of gold across time in 2023 dollars\")\n",
    "plt.xlabel(\"Date\")\n",
    "plt.ylabel(\"Price per troy ounce\")\n",
    "\n",
    "plt.tight_layout()\n",
    "plt.show()"
   ]
  },
  {
   "cell_type": "code",
   "execution_count": null,
   "id": "4d5db850-8e9c-440c-9808-ad2ed0f4dded",
   "metadata": {},
   "outputs": [],
   "source": [
    "# let's look at price and real price together"
   ]
  },
  {
   "cell_type": "code",
   "execution_count": null,
   "id": "9ccd39e8-39ea-4f69-9bb9-9cae7965986d",
   "metadata": {},
   "outputs": [],
   "source": [
    "plt.figure(figsize=(14, 7))\n",
    "\n",
    "sns.lineplot(data=df_au,x=df_au.index,y=\"real_price\", label=\"Price adjusted for inflation\", color=\"yellow\", linewidth=0.4)\n",
    "sns.lineplot(data=df_au,x=df_au.index,y=\"price\", label=\"Price\", color=\"aqua\", linewidth=0.4)\n",
    "\n",
    "plt.title(\"Price of a troy ounce of gold across time\")\n",
    "plt.xlabel(\"Date\")\n",
    "plt.ylabel(\"Price per troy ounce\")\n",
    "\n",
    "plt.tight_layout()\n",
    "plt.show()"
   ]
  },
  {
   "cell_type": "code",
   "execution_count": null,
   "id": "184dcced-3bd8-4aaf-b622-8604694fa91f",
   "metadata": {},
   "outputs": [],
   "source": [
    "# huge valley 80s-10s"
   ]
  },
  {
   "cell_type": "code",
   "execution_count": null,
   "id": "0d4bc7cf-897e-4457-a834-c54bf419656f",
   "metadata": {},
   "outputs": [],
   "source": [
    "# well is it a good inflation hedge?"
   ]
  },
  {
   "cell_type": "code",
   "execution_count": null,
   "id": "946da8e2-42a9-4160-b7b7-1140192abcee",
   "metadata": {},
   "outputs": [],
   "source": [
    "df_au.loc[df_au[\"real_price\"].idxmin()]"
   ]
  },
  {
   "cell_type": "code",
   "execution_count": null,
   "id": "967e62d8-db6c-49e7-86e4-dc02a16fe989",
   "metadata": {},
   "outputs": [],
   "source": [
    "df_au.loc[df_au[\"real_price\"].idxmax()]"
   ]
  },
  {
   "cell_type": "code",
   "execution_count": null,
   "id": "3514f0a5-c609-4f58-acfe-8f82f8f9de35",
   "metadata": {},
   "outputs": [],
   "source": [
    "# the all time high is different now. instead of being on 2024-04-12."
   ]
  },
  {
   "cell_type": "code",
   "execution_count": null,
   "id": "3edf6703-a483-4ed6-9267-83ca38a78063",
   "metadata": {},
   "outputs": [],
   "source": [
    "# Highest 4 peaks\n",
    "peaks, _ = signal.find_peaks(df_au[\"real_price\"], distance=500)\n",
    "df_au.iloc[peaks].nlargest(4, \"real_price\").sort_values(\"date\").transpose()"
   ]
  },
  {
   "cell_type": "code",
   "execution_count": null,
   "id": "cd94c860-659e-4e08-8581-aa0212b33216",
   "metadata": {},
   "outputs": [],
   "source": [
    "# Lowest 4 valleys\n",
    "valleys , _ = signal.find_peaks(-df_au[\"real_price\"], distance=1500)\n",
    "df_au.iloc[valleys].nsmallest(4, \"real_price\").sort_values(\"date\").transpose()"
   ]
  },
  {
   "cell_type": "markdown",
   "id": "153f168b-d1df-47cf-8b8b-3ca590195fbb",
   "metadata": {},
   "source": [
    " no need to check anything related to volatility or short-term price analysis."
   ]
  },
  {
   "cell_type": "markdown",
   "id": "d3afe4e6-5b05-4ca3-9e4e-9340d7fe073e",
   "metadata": {},
   "source": [
    "## Time series STL decomposition to observe trend, seasonality, and residuals"
   ]
  },
  {
   "cell_type": "code",
   "execution_count": null,
   "id": "7eddac5c-f944-4e51-8763-8455eb6129e8",
   "metadata": {},
   "outputs": [],
   "source": [
    "stl = STL(df_au[\"real_price\"], period=252)\n",
    "result = stl.fit()\n",
    "\n",
    "fig, axes = plt.subplots(4, 1, figsize=(14, 8), sharex=True)\n",
    "\n",
    "axes[0].plot(df_au.index, df_au[\"real_price\"], label=\"Original\", linewidth=0.5)\n",
    "axes[0].set_title(\"Original real price\")\n",
    "\n",
    "axes[1].plot(df_au.index, result.trend, label=\"Trend\", color=\"C1\", linewidth=1)\n",
    "axes[1].set_title(\"Trend component\")\n",
    "\n",
    "axes[2].plot(df_au.index, result.seasonal, label=\"Seasonal\", color=\"C2\", linewidth=0.5)\n",
    "axes[2].set_title(\"Seasonal component\")\n",
    "\n",
    "axes[3].plot(df_au.index, result.resid, label=\"Residual\", color=\"C3\", linewidth=0.5)\n",
    "axes[3].set_title(\"Residual component\")\n",
    "\n",
    "plt.tight_layout()\n",
    "plt.show()"
   ]
  },
  {
   "cell_type": "code",
   "execution_count": null,
   "id": "d95215b9-b4b2-42a8-8a32-efc21bb6209a",
   "metadata": {},
   "outputs": [],
   "source": [
    "plt.figure(figsize=(18, 7))\n",
    "\n",
    "plt.plot(result.trend, color=\"gold\", linewidth=1)\n",
    "\n",
    "plt.title(\"Trend\")\n",
    "plt.xlabel(\"Date\")\n",
    "plt.ylabel(\"Gold real price trend\")\n",
    "\n",
    "plt.tight_layout()\n",
    "plt.show()"
   ]
  },
  {
   "cell_type": "code",
   "execution_count": null,
   "id": "0f6adc04-33ac-4ae0-8c16-d6b428585876",
   "metadata": {},
   "outputs": [],
   "source": [
    "# valley is more clear, judging by trend. the 2010s peak is actually higher than 80s peak.\n",
    "# get the value"
   ]
  },
  {
   "cell_type": "code",
   "execution_count": null,
   "id": "36106666-777f-49a9-8d38-009bc6bb37c4",
   "metadata": {},
   "outputs": [],
   "source": [
    "seasonal = result.seasonal\n",
    "specific_year = 2008\n",
    "seasonal_year = seasonal[seasonal.index.year == specific_year]\n",
    "\n",
    "plt.figure(figsize=(16, 7))\n",
    "\n",
    "plt.plot(seasonal_year.index, seasonal_year, color=\"lightblue\", linewidth=0.75)\n",
    "\n",
    "plt.title(f\"Seasonal component for the year {specific_year}\")\n",
    "plt.xlabel(\"Date\")\n",
    "plt.ylabel(\"Seasonality\")\n",
    "\n",
    "plt.tight_layout()\n",
    "plt.show()"
   ]
  },
  {
   "cell_type": "code",
   "execution_count": null,
   "id": "b69cd300-55e9-486d-b850-995563f3634c",
   "metadata": {},
   "outputs": [],
   "source": []
  }
 ],
 "metadata": {
  "kernelspec": {
   "display_name": "Python 3 (ipykernel)",
   "language": "python",
   "name": "python3"
  },
  "language_info": {
   "codemirror_mode": {
    "name": "ipython",
    "version": 3
   },
   "file_extension": ".py",
   "mimetype": "text/x-python",
   "name": "python",
   "nbconvert_exporter": "python",
   "pygments_lexer": "ipython3",
   "version": "3.12.3"
  }
 },
 "nbformat": 4,
 "nbformat_minor": 5
}
