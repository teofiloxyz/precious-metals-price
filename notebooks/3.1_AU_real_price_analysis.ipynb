{
 "cells": [
  {
   "cell_type": "markdown",
   "id": "5434ed10-f8bd-4f7a-a251-fa6dd0841c18",
   "metadata": {},
   "source": [
    "# Analysis of the historical price of a troy ounce of gold adjusted for inflation"
   ]
  },
  {
   "cell_type": "markdown",
   "id": "c632e072-07d5-4910-92e5-21cedc833411",
   "metadata": {},
   "source": [
    "## Setup"
   ]
  },
  {
   "cell_type": "code",
   "execution_count": null,
   "id": "6584bb20-0201-4a7b-9ee9-2a999c631b38",
   "metadata": {},
   "outputs": [],
   "source": [
    "import matplotlib.pyplot as plt\n",
    "import numpy as np\n",
    "import pandas as pd\n",
    "import seaborn as sns\n",
    "from scipy import signal\n",
    "from statsmodels.tsa.seasonal import STL"
   ]
  },
  {
   "cell_type": "code",
   "execution_count": null,
   "id": "025fb106-cd59-424d-a7bc-f062e7e7c428",
   "metadata": {},
   "outputs": [],
   "source": [
    "# Get gold price and US CPI dfs\n",
    "df_au = pd.read_csv(\"../data/AU.csv\")\n",
    "df_cpi = pd.read_csv(\"../data/US_CPI_M.csv\")"
   ]
  },
  {
   "cell_type": "code",
   "execution_count": null,
   "id": "c64da55a-65b8-4e7e-8096-7693858b8028",
   "metadata": {},
   "outputs": [],
   "source": [
    "# Append the CPI estimate for April of 2024 to the CPI df\n",
    "new_row = pd.DataFrame({\"year_month\": [\"2024-04\"], \"rate\": [3.4]})\n",
    "df_cpi = pd.concat([df_cpi, new_row], ignore_index=True)"
   ]
  },
  {
   "cell_type": "code",
   "execution_count": null,
   "id": "d7353619-4ea0-4d69-ba04-b49fcc7a00e1",
   "metadata": {},
   "outputs": [],
   "source": [
    "# Set date as index for both dfs\n",
    "df_au[\"date\"] = pd.to_datetime(df_au[\"date\"])\n",
    "df_au.set_index(\"date\", inplace=True)\n",
    "df_cpi[\"year_month\"] = pd.to_datetime(df_cpi[\"year_month\"])\n",
    "df_cpi.set_index(\"year_month\", inplace=True)"
   ]
  },
  {
   "cell_type": "code",
   "execution_count": null,
   "id": "c355a7d1-dd45-478c-954d-288b2dd2c68c",
   "metadata": {},
   "outputs": [],
   "source": [
    "# Set charts theme\n",
    "sns.set_theme(style=\"darkgrid\", rc={\"grid.alpha\": 0.33})\n",
    "plt.style.use(\"dark_background\")"
   ]
  },
  {
   "cell_type": "markdown",
   "id": "03208797-9396-4321-92ea-d1305910cb64",
   "metadata": {},
   "source": [
    "### Adjustment of gold price for inflation (using 2023 prices)"
   ]
  },
  {
   "cell_type": "code",
   "execution_count": null,
   "id": "9b0a0830-0f90-42c7-92c7-42857d269a82",
   "metadata": {},
   "outputs": [],
   "source": [
    "# Make CPI rates decimal\n",
    "df_cpi[\"rate\"] = df_cpi[\"rate\"] / 100"
   ]
  },
  {
   "cell_type": "code",
   "execution_count": null,
   "id": "d40122f5-3c57-4796-89e8-2fba5a3148cf",
   "metadata": {},
   "outputs": [],
   "source": [
    "# Get cumulative product of rates until 2023 (which is the base year)\n",
    "all_months = []\n",
    "for month in range(1, 12 + 1):\n",
    "    # Cumulative product of year over year CPI rate for each month number\n",
    "    cumulative_product = np.cumprod((1 + df_cpi[:f\"2023-{month:02}\"][\"rate\"])[::-12])\n",
    "    # Shift the cumulative product to align with the prior year\n",
    "    cumulative_product = cumulative_product.shift(1).fillna(1)\n",
    "    all_months.append(cumulative_product)"
   ]
  },
  {
   "cell_type": "code",
   "execution_count": null,
   "id": "f3889d5a-ed09-4adc-be0f-2614e6ce68b9",
   "metadata": {},
   "outputs": [],
   "source": [
    "# Add cumulative CPI rates to the df\n",
    "df_cpi[\"cumulative_rate\"] = pd.concat(all_months)"
   ]
  },
  {
   "cell_type": "code",
   "execution_count": null,
   "id": "81a0481f-8f98-461d-ac04-53d91ad56a32",
   "metadata": {},
   "outputs": [],
   "source": [
    "# Get 2024 months cumulative rate by just inverting respective rate\n",
    "df_cpi.loc[df_cpi.index.year == 2024, \"cumulative_rate\"] = 1 / (1 + df_cpi[\"rate\"])"
   ]
  },
  {
   "cell_type": "code",
   "execution_count": null,
   "id": "dd6e4aa0-38ef-42ba-83b2-81a924ac45d7",
   "metadata": {},
   "outputs": [],
   "source": [
    "# Add the cumulative CPI rates to the gold price df (May values will have the same rate as April)\n",
    "df_cpi_reindexed = df_cpi.reindex(df_au.index, method=\"ffill\")\n",
    "df_au[\"cpi_cumulative_rate\"] = df_cpi_reindexed[\"cumulative_rate\"]"
   ]
  },
  {
   "cell_type": "code",
   "execution_count": null,
   "id": "ded7d078-82c5-4da4-a79a-41a7c17fcaf5",
   "metadata": {},
   "outputs": [],
   "source": [
    "# Adjust all prices to 2023 dollars\n",
    "df_au[\"real_price\"] = df_au[\"price\"] * df_au[\"cpi_cumulative_rate\"]"
   ]
  },
  {
   "cell_type": "markdown",
   "id": "33961d18-e079-49b0-8003-64510390e08f",
   "metadata": {},
   "source": [
    "## The price of gold adjusted for inflation across time"
   ]
  },
  {
   "cell_type": "code",
   "execution_count": null,
   "id": "c7761a6e-c6e5-423e-b5ea-1b1103741e6e",
   "metadata": {},
   "outputs": [],
   "source": [
    "# Get 1-year moving average\n",
    "df_au[\"real_price_1y_ma\"] = df_au[\"real_price\"].rolling(window=252).mean()"
   ]
  },
  {
   "cell_type": "code",
   "execution_count": null,
   "id": "b74090e5-4306-4b86-baea-ea39ce3a1c9a",
   "metadata": {},
   "outputs": [],
   "source": [
    "plt.figure(figsize=(14, 8))\n",
    "\n",
    "sns.lineplot(data=df_au, x=df_au.index, y=\"real_price\", label=\"Price\", color=\"yellow\", linewidth=0.25)\n",
    "sns.lineplot(data=df_au, x=df_au.index, y=\"real_price_1y_ma\", label=\"Moving average (1-year)\", color=\"aqua\", linewidth=0.75)\n",
    "\n",
    "plt.title(\"Price of a troy ounce of gold across time in 2023 dollars\")\n",
    "plt.xlabel(\"Date\")\n",
    "plt.ylabel(\"Price\")\n",
    "\n",
    "plt.show()"
   ]
  },
  {
   "cell_type": "markdown",
   "id": "86a01e59-9f92-4e58-ba5a-94e59c6aba72",
   "metadata": {},
   "source": [
    "### Comparison of real price with nominal price"
   ]
  },
  {
   "cell_type": "code",
   "execution_count": null,
   "id": "9ccd39e8-39ea-4f69-9bb9-9cae7965986d",
   "metadata": {},
   "outputs": [],
   "source": [
    "plt.figure(figsize=(14, 8))\n",
    "\n",
    "sns.lineplot(data=df_au, x=df_au.index, y=\"real_price\", label=\"Price adjusted for inflation\", color=\"yellow\", linewidth=0.4)\n",
    "sns.lineplot(data=df_au, x=df_au.index, y=\"price\", label=\"Nominal price\", color=\"violet\", linewidth=0.4)\n",
    "\n",
    "plt.title(\"Price of a troy ounce of gold across time\")\n",
    "plt.xlabel(\"Date\")\n",
    "plt.ylabel(\"Price\")\n",
    "\n",
    "plt.show()"
   ]
  },
  {
   "cell_type": "code",
   "execution_count": null,
   "id": "bd6cadb7-5c51-48b0-82e1-ad15b96effeb",
   "metadata": {},
   "outputs": [],
   "source": [
    "# All time high\n",
    "ath_date = df_au[\"real_price\"].idxmax()\n",
    "df_au.loc[[ath_date], [\"real_price\"]]"
   ]
  },
  {
   "cell_type": "code",
   "execution_count": null,
   "id": "92449343-b4c1-4f88-9272-9b413835d534",
   "metadata": {},
   "outputs": [],
   "source": [
    "# All time low\n",
    "atl_date = df_au[\"real_price\"].idxmin()\n",
    "df_au.loc[[atl_date], [\"real_price\"]]"
   ]
  },
  {
   "cell_type": "code",
   "execution_count": null,
   "id": "3edf6703-a483-4ed6-9267-83ca38a78063",
   "metadata": {},
   "outputs": [],
   "source": [
    "# Peaks\n",
    "peaks, _ = signal.find_peaks(df_au[\"real_price\"], distance=800)\n",
    "df_au.iloc[peaks].nlargest(10, \"real_price\").sort_values(\"date\")[[\"real_price\"]].transpose()"
   ]
  },
  {
   "cell_type": "code",
   "execution_count": null,
   "id": "cd94c860-659e-4e08-8581-aa0212b33216",
   "metadata": {},
   "outputs": [],
   "source": [
    "# Valleys\n",
    "valleys, _ = signal.find_peaks(-df_au[\"real_price\"], distance=1000)\n",
    "df_au.iloc[valleys].nsmallest(10, \"real_price\").sort_values(\"date\")[[\"real_price\"]].transpose()"
   ]
  },
  {
   "cell_type": "code",
   "execution_count": null,
   "id": "70723fdb-b417-4bda-8f6b-db13d08edde3",
   "metadata": {},
   "outputs": [],
   "source": [
    "# Real price appreciation since first entry\n",
    "first_entry_price = df_au.iloc[0][\"real_price\"]\n",
    "last_entry_price = df_au.iloc[-1][\"real_price\"]\n",
    "(last_entry_price - first_entry_price) / first_entry_price"
   ]
  },
  {
   "cell_type": "markdown",
   "id": "c26d5dbc-f17a-4529-8d05-68b077a1b73b",
   "metadata": {},
   "source": [
    "- the real price does not rise consistently on long term (15 year +) unlike the equities market (that do not have 30y valleys).\n",
    "- the price still fluctuated a lot on the long term, but ultimately accompanying inflation.\n",
    "- huge valley 80s-10s and small valley 2010s and 2020 and even smaller valley after.\n",
    "- there is some resistance or ceiling at 2.5k\n",
    "- is it a good inflation hedge? well if since the early 80s, the value is practically the same!\n",
    "- gold is a store of value.\n",
    "- the all time high is different now. instead of being on 2024-04-12."
   ]
  },
  {
   "cell_type": "markdown",
   "id": "7a3a1f03-fd7c-46ef-a7b5-f4552edf16e0",
   "metadata": {},
   "source": [
    "### Real price change year over year"
   ]
  },
  {
   "cell_type": "code",
   "execution_count": null,
   "id": "9a1364dc-39a1-4149-96b1-bdb925e2109f",
   "metadata": {},
   "outputs": [],
   "source": [
    "# Get year over year real returns\n",
    "# Get yearly gold real price df with first and last prices\n",
    "df_au_yearly = df_au.groupby(df_au.index.year)[\"real_price\"].agg(\n",
    "    first_price=\"first\",\n",
    "    last_price=\"last\"\n",
    ")\n",
    "# Get year over year return\n",
    "df_au_yearly[\"real_price_change\"] = (df_au_yearly[\"last_price\"] - df_au_yearly[\"first_price\"]) / df_au_yearly[\"first_price\"]"
   ]
  },
  {
   "cell_type": "code",
   "execution_count": null,
   "id": "8ad0f773-8dbc-4c65-b4b7-0259c9ffafaa",
   "metadata": {},
   "outputs": [],
   "source": [
    "plt.figure(figsize=(14, 8))\n",
    "\n",
    "sns.barplot(data=df_au_yearly, x=df_au_yearly.index, y=\"real_price_change\", color=\"gold\")\n",
    "\n",
    "plt.title(\"Year over year real return of gold across time\")\n",
    "plt.xlabel(\"Year\")\n",
    "plt.ylabel(\"Return\")\n",
    "\n",
    "# Show only beginning of decade\n",
    "ax = plt.gca()\n",
    "for index, label in enumerate(ax.get_xticklabels()):\n",
    "    if index % 10 - 2 != 0:\n",
    "        label.set_visible(False)\n",
    "\n",
    "plt.show()"
   ]
  },
  {
   "cell_type": "code",
   "execution_count": null,
   "id": "ee9cdc7d-ea04-45a9-8156-6ee39d280575",
   "metadata": {},
   "outputs": [],
   "source": [
    "# Average year over year real return\n",
    "df_au_yearly[\"real_price_change\"].mean().round(4)"
   ]
  },
  {
   "cell_type": "code",
   "execution_count": null,
   "id": "4a57957c-3072-45d6-b70f-acd596c08d49",
   "metadata": {},
   "outputs": [],
   "source": [
    "# Average year over year real return since 1980\n",
    "df_au_yearly.loc[\"1980\":][\"real_price_change\"].mean().round(4)"
   ]
  },
  {
   "cell_type": "code",
   "execution_count": null,
   "id": "e9ce1670-4f9e-4e9e-ad9d-1279a714bf5b",
   "metadata": {},
   "outputs": [],
   "source": [
    "# Average year over year real return since 2000\n",
    "df_au_yearly.loc[\"2000\":][\"real_price_change\"].mean().round(4)"
   ]
  },
  {
   "cell_type": "code",
   "execution_count": null,
   "id": "09c0247b-d27d-4d9e-86ab-697c10992b54",
   "metadata": {},
   "outputs": [],
   "source": [
    "# Average year over year real return per decade\n",
    "df_au_dec = df_au_yearly.groupby((df_au_yearly.index // 10) * 10)\n",
    "df_au_dec = df_au_dec[\"real_price_change\"].mean().round(4).reset_index()\n",
    "df_au_dec.columns = [\"decade\", \"average_yoy_real_price_change\"]\n",
    "df_au_dec.set_index(\"decade\").transpose()"
   ]
  },
  {
   "cell_type": "markdown",
   "id": "b85bd795-905d-41ed-a886-0d2ff3ff6699",
   "metadata": {},
   "source": [
    "**Real price change**\n",
    "- as espected the bar chart of the real price return is very similar, only the rates really change.\n",
    "- if we check the average since the 80s it becomes half."
   ]
  },
  {
   "cell_type": "markdown",
   "id": "d3afe4e6-5b05-4ca3-9e4e-9340d7fe073e",
   "metadata": {},
   "source": [
    "### STL decomposition (trend, seasonality, and residuals)"
   ]
  },
  {
   "cell_type": "code",
   "execution_count": null,
   "id": "7eddac5c-f944-4e51-8763-8455eb6129e8",
   "metadata": {},
   "outputs": [],
   "source": [
    "stl = STL(df_au[\"real_price\"], period=252).fit()"
   ]
  },
  {
   "cell_type": "code",
   "execution_count": null,
   "id": "1ba8fe4b-0334-4e3a-b0dc-905fde76e25b",
   "metadata": {},
   "outputs": [],
   "source": [
    "fig, axes = plt.subplots(4, 1, figsize=(14, 8), sharex=True)\n",
    "\n",
    "axes[0].plot(df_au.index, df_au[\"real_price\"], label=\"Original\", color=\"yellow\", linewidth=0.5)\n",
    "axes[0].set_title(\"Price of a troy ounce of gold across time in 2023 dollars\")\n",
    "\n",
    "axes[1].plot(df_au.index, stl.trend, label=\"Trend\", color=\"aqua\", linewidth=1)\n",
    "axes[1].set_title(\"Trend component\")\n",
    "\n",
    "axes[2].plot(df_au.index, stl.seasonal, label=\"Seasonal\", color=\"fuchsia\", linewidth=0.5)\n",
    "axes[2].set_title(\"Seasonal component\")\n",
    "\n",
    "axes[3].plot(df_au.index, stl.resid, label=\"Residual\", color=\"red\", linewidth=0.5)\n",
    "axes[3].set_title(\"Residual component\")\n",
    "\n",
    "plt.xlabel(\"Date\")\n",
    "\n",
    "# plt.tight_layout()\n",
    "plt.show()"
   ]
  },
  {
   "cell_type": "code",
   "execution_count": null,
   "id": "d95215b9-b4b2-42a8-8a32-efc21bb6209a",
   "metadata": {},
   "outputs": [],
   "source": [
    "plt.figure(figsize=(14, 8))\n",
    "\n",
    "plt.plot(stl.trend, color=\"aqua\", linewidth=1)\n",
    "\n",
    "plt.title(\"Trend component of the real price of gold across time\")\n",
    "plt.xlabel(\"Date\")\n",
    "plt.ylabel(\"Trend\")\n",
    "\n",
    "plt.show()"
   ]
  },
  {
   "cell_type": "code",
   "execution_count": null,
   "id": "0fa2e6f9-4d29-4f2d-92a5-1c41e4de9e44",
   "metadata": {},
   "outputs": [],
   "source": [
    "# Top 3 peaks\n",
    "peaks, _ = signal.find_peaks(stl.trend, distance=800)\n",
    "stl.trend.iloc[peaks].nlargest(3)"
   ]
  },
  {
   "cell_type": "markdown",
   "id": "2b3dd79b-fddb-45db-baf1-c158ba74ca72",
   "metadata": {},
   "source": [
    "- valley is more clear, judging by trend. the 2010s peak is actually higher than 80s peak (interesting...)."
   ]
  },
  {
   "cell_type": "code",
   "execution_count": null,
   "id": "36106666-777f-49a9-8d38-009bc6bb37c4",
   "metadata": {},
   "outputs": [],
   "source": [
    "seasonal = stl.seasonal\n",
    "monthly_avgs = seasonal.groupby(seasonal.index.month).mean()\n",
    "\n",
    "plt.figure(figsize=(14, 8))\n",
    "\n",
    "plt.plot(monthly_avgs.index, monthly_avgs.values, marker='o', color=\"fuchsia\", linewidth=1)\n",
    "\n",
    "plt.title(\"Average of the seasonal component of the real price of gold over the year\")\n",
    "plt.xlabel(\"Month\")\n",
    "plt.ylabel(\"Seasonality\")\n",
    "\n",
    "plt.show()"
   ]
  },
  {
   "cell_type": "markdown",
   "id": "4f12aa63-202c-429f-8c4f-b3a4544285d2",
   "metadata": {},
   "source": [
    "- seasonality is different when adjusting for inflation, and looks more like the description of some analysts."
   ]
  },
  {
   "cell_type": "markdown",
   "id": "153f168b-d1df-47cf-8b8b-3ca590195fbb",
   "metadata": {},
   "source": [
    " No need to check anything related to volatility or short-term price analysis."
   ]
  }
 ],
 "metadata": {
  "kernelspec": {
   "display_name": "Python 3 (ipykernel)",
   "language": "python",
   "name": "python3"
  },
  "language_info": {
   "codemirror_mode": {
    "name": "ipython",
    "version": 3
   },
   "file_extension": ".py",
   "mimetype": "text/x-python",
   "name": "python",
   "nbconvert_exporter": "python",
   "pygments_lexer": "ipython3",
   "version": "3.12.3"
  }
 },
 "nbformat": 4,
 "nbformat_minor": 5
}
