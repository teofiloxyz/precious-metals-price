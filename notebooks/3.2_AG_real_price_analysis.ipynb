{
 "cells": [
  {
   "cell_type": "markdown",
   "id": "5434ed10-f8bd-4f7a-a251-fa6dd0841c18",
   "metadata": {},
   "source": [
    "# Analysis of the historical price of a troy ounce of silver adjusted for inflation"
   ]
  },
  {
   "cell_type": "markdown",
   "id": "c632e072-07d5-4910-92e5-21cedc833411",
   "metadata": {},
   "source": [
    "## Setup"
   ]
  },
  {
   "cell_type": "code",
   "execution_count": null,
   "id": "6584bb20-0201-4a7b-9ee9-2a999c631b38",
   "metadata": {},
   "outputs": [],
   "source": [
    "from matplotlib.lines import Line2D\n",
    "import matplotlib.pyplot as plt\n",
    "import numpy as np\n",
    "import pandas as pd\n",
    "import seaborn as sns\n",
    "from scipy import signal\n",
    "from statsmodels.tsa.seasonal import STL"
   ]
  },
  {
   "cell_type": "code",
   "execution_count": null,
   "id": "025fb106-cd59-424d-a7bc-f062e7e7c428",
   "metadata": {},
   "outputs": [],
   "source": [
    "# Get silver price and US CPI dfs\n",
    "df_ag = pd.read_csv(\"../data/AG.csv\")\n",
    "df_cpi = pd.read_csv(\"../data/US_CPI_M.csv\")"
   ]
  },
  {
   "cell_type": "code",
   "execution_count": null,
   "id": "c64da55a-65b8-4e7e-8096-7693858b8028",
   "metadata": {},
   "outputs": [],
   "source": [
    "# Append the CPI estimate for April of 2024 to the CPI df\n",
    "new_row = pd.DataFrame({\"year_month\": [\"2024-04\"], \"rate\": [3.4]})\n",
    "df_cpi = pd.concat([df_cpi, new_row], ignore_index=True)"
   ]
  },
  {
   "cell_type": "code",
   "execution_count": null,
   "id": "d7353619-4ea0-4d69-ba04-b49fcc7a00e1",
   "metadata": {},
   "outputs": [],
   "source": [
    "# Set date as index for both dfs\n",
    "for df in df_ag, df_cpi:\n",
    "    date_col = df.columns[0]\n",
    "    df[date_col] = pd.to_datetime(df[date_col])\n",
    "    df.set_index(date_col, inplace=True)"
   ]
  },
  {
   "cell_type": "code",
   "execution_count": null,
   "id": "c355a7d1-dd45-478c-954d-288b2dd2c68c",
   "metadata": {},
   "outputs": [],
   "source": [
    "# Set charts theme\n",
    "sns.set_theme(style=\"darkgrid\", rc={\"grid.alpha\": 0.33})\n",
    "plt.style.use(\"dark_background\")"
   ]
  },
  {
   "cell_type": "code",
   "execution_count": null,
   "id": "725e1ae6-706e-4e3a-883a-467dc2d48375",
   "metadata": {},
   "outputs": [],
   "source": [
    "# Save chart as png function\n",
    "def save_chart_as_png(filename: str) -> None:\n",
    "    plt.savefig(\n",
    "        f\"../images/{filename}.png\",\n",
    "        format=\"png\",\n",
    "        dpi=300,\n",
    "        orientation=\"landscape\",\n",
    "        bbox_inches=\"tight\",\n",
    "    )"
   ]
  },
  {
   "cell_type": "markdown",
   "id": "03208797-9396-4321-92ea-d1305910cb64",
   "metadata": {},
   "source": [
    "## Adjustment of silver price for inflation (using 2023 prices)"
   ]
  },
  {
   "cell_type": "code",
   "execution_count": null,
   "id": "9b0a0830-0f90-42c7-92c7-42857d269a82",
   "metadata": {},
   "outputs": [],
   "source": [
    "# Make CPI rates decimal\n",
    "df_cpi[\"rate\"] = df_cpi[\"rate\"] / 100"
   ]
  },
  {
   "cell_type": "code",
   "execution_count": null,
   "id": "d40122f5-3c57-4796-89e8-2fba5a3148cf",
   "metadata": {},
   "outputs": [],
   "source": [
    "# Get cumulative product of rates until 2023 (which is the base year)\n",
    "all_months = []\n",
    "for month in range(1, 12 + 1):\n",
    "    # Cumulative product of year over year CPI rate for each month number\n",
    "    cumulative_product = np.cumprod((1 + df_cpi[:f\"2023-{month:02}\"][\"rate\"])[::-12])\n",
    "    # Shift the cumulative product to align with the prior year\n",
    "    cumulative_product = cumulative_product.shift(1).fillna(1)\n",
    "    all_months.append(cumulative_product)"
   ]
  },
  {
   "cell_type": "code",
   "execution_count": null,
   "id": "f3889d5a-ed09-4adc-be0f-2614e6ce68b9",
   "metadata": {},
   "outputs": [],
   "source": [
    "# Add cumulative CPI rates to the df\n",
    "df_cpi[\"cumulative_rate\"] = pd.concat(all_months)"
   ]
  },
  {
   "cell_type": "code",
   "execution_count": null,
   "id": "81a0481f-8f98-461d-ac04-53d91ad56a32",
   "metadata": {},
   "outputs": [],
   "source": [
    "# Get 2024 months cumulative rate by just inverting respective rate\n",
    "df_cpi.loc[df_cpi.index.year == 2024, \"cumulative_rate\"] = 1 / (1 + df_cpi[\"rate\"])"
   ]
  },
  {
   "cell_type": "code",
   "execution_count": null,
   "id": "dd6e4aa0-38ef-42ba-83b2-81a924ac45d7",
   "metadata": {},
   "outputs": [],
   "source": [
    "# Add the cumulative CPI rates to the silver price df (May values will have the same rate as April)\n",
    "df_cpi_reindexed = df_cpi.reindex(df_ag.index, method=\"ffill\")\n",
    "df_ag[\"cpi_cumulative_rate\"] = df_cpi_reindexed[\"cumulative_rate\"]"
   ]
  },
  {
   "cell_type": "code",
   "execution_count": null,
   "id": "ded7d078-82c5-4da4-a79a-41a7c17fcaf5",
   "metadata": {},
   "outputs": [],
   "source": [
    "# Adjust all prices to 2023 dollars\n",
    "df_ag[\"real_price\"] = df_ag[\"price\"] * df_ag[\"cpi_cumulative_rate\"]"
   ]
  },
  {
   "cell_type": "markdown",
   "id": "33961d18-e079-49b0-8003-64510390e08f",
   "metadata": {},
   "source": [
    "## Price of silver adjusted for inflation across time"
   ]
  },
  {
   "cell_type": "code",
   "execution_count": null,
   "id": "c7761a6e-c6e5-423e-b5ea-1b1103741e6e",
   "metadata": {},
   "outputs": [],
   "source": [
    "# Get 1-year moving average\n",
    "df_ag[\"real_price_1y_ma\"] = df_ag[\"real_price\"].rolling(window=252).mean()"
   ]
  },
  {
   "cell_type": "code",
   "execution_count": null,
   "id": "b74090e5-4306-4b86-baea-ea39ce3a1c9a",
   "metadata": {},
   "outputs": [],
   "source": [
    "plt.figure(figsize=(10, 6))\n",
    "\n",
    "sns.lineplot(data=df_ag, x=df_ag.index, y=\"real_price\", color=\"lightgrey\", linewidth=0.25)\n",
    "sns.lineplot(data=df_ag, x=df_ag.index, y=\"real_price_1y_ma\", label=\"Moving average (1-year)\", color=\"aqua\", linewidth=0.75)\n",
    "\n",
    "# Compress the y axis to see early price fluctuations\n",
    "plt.yscale(\"log\")\n",
    "\n",
    "plt.title(\"Price of a troy ounce of silver across time in 2023 dollars\")\n",
    "plt.xlabel(\"\")\n",
    "plt.ylabel(\"\")\n",
    "\n",
    "save_chart_as_png(\"3.2_AG_real_price\")\n",
    "plt.show()"
   ]
  },
  {
   "cell_type": "markdown",
   "id": "86a01e59-9f92-4e58-ba5a-94e59c6aba72",
   "metadata": {},
   "source": [
    "**Comparison of real price with nominal price**"
   ]
  },
  {
   "cell_type": "code",
   "execution_count": null,
   "id": "9ccd39e8-39ea-4f69-9bb9-9cae7965986d",
   "metadata": {},
   "outputs": [],
   "source": [
    "plt.figure(figsize=(10, 6))\n",
    "\n",
    "real_color = \"lightgrey\"\n",
    "nominal_color = \"violet\"\n",
    "\n",
    "sns.lineplot(data=df_ag, x=df_ag.index, y=\"real_price\", color=real_color, linewidth=0.4)\n",
    "sns.lineplot(data=df_ag, x=df_ag.index, y=\"price\", color=nominal_color, linewidth=0.4)\n",
    "\n",
    "# Compress the y axis to see early price fluctuations\n",
    "plt.yscale(\"log\")\n",
    "\n",
    "plt.title(\"Price of a troy ounce of silver across time\")\n",
    "plt.xlabel(\"\")\n",
    "plt.ylabel(\"\")\n",
    "\n",
    "# Manually create legend handles with a larger linewidth just to be able to see it\n",
    "legend_handles = [Line2D([0], [0], color=real_color, lw=1.5, label=\"Price adjusted for inflation\"),\n",
    "                  Line2D([0], [0], color=nominal_color, lw=1.5, label=\"Nominal price\")]\n",
    "plt.legend(handles=legend_handles)\n",
    "\n",
    "save_chart_as_png(\"3.2_AG_real_and_nominal_price\")\n",
    "plt.show()"
   ]
  },
  {
   "cell_type": "code",
   "execution_count": null,
   "id": "bd6cadb7-5c51-48b0-82e1-ad15b96effeb",
   "metadata": {},
   "outputs": [],
   "source": [
    "# All-time high\n",
    "ath_date = df_ag[\"real_price\"].idxmax()\n",
    "df_ag.loc[[ath_date], [\"real_price\"]]"
   ]
  },
  {
   "cell_type": "code",
   "execution_count": null,
   "id": "92449343-b4c1-4f88-9272-9b413835d534",
   "metadata": {},
   "outputs": [],
   "source": [
    "# All-time low\n",
    "atl_date = df_ag[\"real_price\"].idxmin()\n",
    "df_ag.loc[[atl_date], [\"real_price\"]]"
   ]
  },
  {
   "cell_type": "code",
   "execution_count": null,
   "id": "3edf6703-a483-4ed6-9267-83ca38a78063",
   "metadata": {},
   "outputs": [],
   "source": [
    "# Peaks\n",
    "peaks, _ = signal.find_peaks(df_ag[\"real_price\"], distance=800)\n",
    "df_ag.iloc[peaks].nlargest(10, \"real_price\").sort_values(\"date\")[[\"real_price\"]].T"
   ]
  },
  {
   "cell_type": "code",
   "execution_count": null,
   "id": "cd94c860-659e-4e08-8581-aa0212b33216",
   "metadata": {},
   "outputs": [],
   "source": [
    "# Valleys\n",
    "valleys, _ = signal.find_peaks(-df_ag[\"real_price\"], distance=1000)\n",
    "df_ag.iloc[valleys].nsmallest(10, \"real_price\").sort_values(\"date\")[[\"real_price\"]].T"
   ]
  },
  {
   "cell_type": "code",
   "execution_count": null,
   "id": "70723fdb-b417-4bda-8f6b-db13d08edde3",
   "metadata": {},
   "outputs": [],
   "source": [
    "# Real price appreciation since first entry\n",
    "first_entry_price = df_ag.iloc[0][\"real_price\"]\n",
    "last_entry_price = df_ag.iloc[-1][\"real_price\"]\n",
    "(last_entry_price - first_entry_price) / first_entry_price"
   ]
  },
  {
   "cell_type": "markdown",
   "id": "b7b12de8-e6ed-400f-942f-af9e43629a8d",
   "metadata": {},
   "source": [
    "**Key takeaways:**\n",
    "- The real price of silver shows significant fluctuations without substantial long-term increases.\n",
    "- Silver's price has not kept pace with inflation as effectively as gold.\n",
    "- Unlike gold, silver's all-time high remains unchanged, while the all-time low shifted to 2001.\n",
    "- Similar to gold, silver experienced a major valley between the 1980s and 2010s, a smaller valley in the 2010s, and an even smaller valley after 2020. However, the peaks have become progressively smaller.\n",
    "- Since the initial point, the real price of silver has only appreciated by approximately 50%."
   ]
  },
  {
   "cell_type": "markdown",
   "id": "7a3a1f03-fd7c-46ef-a7b5-f4552edf16e0",
   "metadata": {},
   "source": [
    "### Real price change year-over-year"
   ]
  },
  {
   "cell_type": "code",
   "execution_count": null,
   "id": "9a1364dc-39a1-4149-96b1-bdb925e2109f",
   "metadata": {},
   "outputs": [],
   "source": [
    "# Get YoY real returns\n",
    "# Get yearly silver real price df with first and last prices\n",
    "df_ag_yearly = df_ag.groupby(df_ag.index.year)[\"real_price\"].agg(\n",
    "    first_price=\"first\",\n",
    "    last_price=\"last\"\n",
    ")\n",
    "# Get YoY return\n",
    "df_ag_yearly[\"real_price_change\"] = (df_ag_yearly[\"last_price\"] - df_ag_yearly[\"first_price\"]) / df_ag_yearly[\"first_price\"]"
   ]
  },
  {
   "cell_type": "code",
   "execution_count": null,
   "id": "8ad0f773-8dbc-4c65-b4b7-0259c9ffafaa",
   "metadata": {},
   "outputs": [],
   "source": [
    "plt.figure(figsize=(10, 6))\n",
    "\n",
    "sns.barplot(data=df_ag_yearly, x=df_ag_yearly.index, y=\"real_price_change\", color=\"silver\")\n",
    "\n",
    "# Compress the y axis to see smaller bars\n",
    "plt.yscale(\"symlog\")\n",
    "\n",
    "plt.title(\"Year-over-year real return of silver across time\")\n",
    "plt.xlabel(\"\")\n",
    "plt.ylabel(\"\")\n",
    "\n",
    "# Show only beginning of decade\n",
    "ax = plt.gca()\n",
    "for index, label in enumerate(ax.get_xticklabels()):\n",
    "    if index % 10 - 2 != 0:\n",
    "        label.set_visible(False)\n",
    "\n",
    "#save_chart_as_png(\"3.2_AG_YoY_real_return\")\n",
    "plt.show()"
   ]
  },
  {
   "cell_type": "code",
   "execution_count": null,
   "id": "ee9cdc7d-ea04-45a9-8156-6ee39d280575",
   "metadata": {},
   "outputs": [],
   "source": [
    "# Average YoY real return\n",
    "df_ag_yearly[\"real_price_change\"].mean().round(4)"
   ]
  },
  {
   "cell_type": "code",
   "execution_count": null,
   "id": "4a57957c-3072-45d6-b70f-acd596c08d49",
   "metadata": {},
   "outputs": [],
   "source": [
    "# Average YoY real return since 1980\n",
    "df_ag_yearly.loc[1980:][\"real_price_change\"].mean().round(4)"
   ]
  },
  {
   "cell_type": "code",
   "execution_count": null,
   "id": "e9ce1670-4f9e-4e9e-ad9d-1279a714bf5b",
   "metadata": {},
   "outputs": [],
   "source": [
    "# Average YoY real return since 2000\n",
    "df_ag_yearly.loc[2000:][\"real_price_change\"].mean().round(4)"
   ]
  },
  {
   "cell_type": "code",
   "execution_count": null,
   "id": "61414ef1-835c-4d21-b4f6-260be2ae84b2",
   "metadata": {},
   "outputs": [],
   "source": [
    "# Median YoY real return\n",
    "df_ag_yearly[\"real_price_change\"].median().round(4)"
   ]
  },
  {
   "cell_type": "code",
   "execution_count": null,
   "id": "0bd52c05",
   "metadata": {},
   "outputs": [],
   "source": [
    "# Standard deviation YoY real return\n",
    "df_ag_yearly[\"real_price_change\"].std().round(4)"
   ]
  },
  {
   "cell_type": "code",
   "execution_count": null,
   "id": "1ec5bb07-bea2-44f5-969b-c196dbd9c61e",
   "metadata": {},
   "outputs": [],
   "source": [
    "# Cumulative product YoY real return\n",
    "(1 + df_ag_yearly[\"real_price_change\"]).cumprod().iloc[-1].round(4) - 1"
   ]
  },
  {
   "cell_type": "code",
   "execution_count": null,
   "id": "aff6a0f5-9350-4730-b1aa-3fbeaedb4408",
   "metadata": {},
   "outputs": [],
   "source": [
    "# Get average, median, standard deviation and cumulative product YoY return per decade\n",
    "df_ag_yearly[\"decade\"] = (df_ag_yearly.index // 10) * 10\n",
    "df_ag_yearly.groupby(\"decade\").agg(\n",
    "    avg_yoy_price_change=(\"real_price_change\", lambda x: x.mean().round(4)),\n",
    "    median_yoy_price_change=(\"real_price_change\", lambda x: x.median().round(4)),\n",
    "    std_yoy_price_change=(\"real_price_change\", lambda x: x.std().round(4)),\n",
    "    cumprod_yoy_price_change=(\"real_price_change\", lambda x: (1 + x).cumprod().iloc[-1].round(4) - 1),\n",
    "    dod_price_change=(\"decade\", lambda x: (df_ag_yearly.loc[x.index, \"last_price\"].iloc[-1] - df_ag_yearly.loc[x.index, \"first_price\"].iloc[0]) / df_ag_yearly.loc[x.index, \"first_price\"].iloc[0])\n",
    ").T"
   ]
  },
  {
   "cell_type": "markdown",
   "id": "599a2090-8544-43ab-838e-44e02f10cdd9",
   "metadata": {},
   "source": [
    "**Key takeaways:**\n",
    "- The average year-over-year real return of silver is 10.3%, which is notably high, although the median is 0%.\n",
    "- When considering data since the 1980s, the average real return of silver drops to 2.6%.\n",
    "- Since the 2000s, the real return averages 10%, aligning with gold's performance."
   ]
  },
  {
   "cell_type": "markdown",
   "id": "d3afe4e6-5b05-4ca3-9e4e-9340d7fe073e",
   "metadata": {},
   "source": [
    "### STL decomposition (trend, seasonality, and residuals)"
   ]
  },
  {
   "cell_type": "code",
   "execution_count": null,
   "id": "7eddac5c-f944-4e51-8763-8455eb6129e8",
   "metadata": {},
   "outputs": [],
   "source": [
    "stl = STL(df_ag[\"real_price\"], period=252).fit()"
   ]
  },
  {
   "cell_type": "code",
   "execution_count": null,
   "id": "1ba8fe4b-0334-4e3a-b0dc-905fde76e25b",
   "metadata": {},
   "outputs": [],
   "source": [
    "fig, axes = plt.subplots(4, 1, figsize=(10, 6), sharex=True)\n",
    "\n",
    "axes[0].plot(df_ag.index, df_ag[\"real_price\"], label=\"Original\", color=\"lightgrey\", linewidth=0.5)\n",
    "axes[0].set_title(\"Price of a troy ounce of silver across time in 2023 dollars\")\n",
    "\n",
    "axes[1].plot(df_ag.index, stl.trend, label=\"Trend\", color=\"aqua\", linewidth=1)\n",
    "axes[1].set_title(\"Trend component\")\n",
    "\n",
    "axes[2].plot(df_ag.index, stl.seasonal, label=\"Seasonal\", color=\"fuchsia\", linewidth=0.5)\n",
    "axes[2].set_title(\"Seasonal component\")\n",
    "\n",
    "axes[3].plot(df_ag.index, stl.resid, label=\"Residual\", color=\"red\", linewidth=0.5)\n",
    "axes[3].set_title(\"Residual component\")\n",
    "\n",
    "plt.tight_layout()\n",
    "plt.show()"
   ]
  },
  {
   "cell_type": "markdown",
   "id": "dccba151-d461-487c-b627-b0841acce0fa",
   "metadata": {},
   "source": [
    "#### Trend analysis"
   ]
  },
  {
   "cell_type": "code",
   "execution_count": null,
   "id": "d95215b9-b4b2-42a8-8a32-efc21bb6209a",
   "metadata": {},
   "outputs": [],
   "source": [
    "plt.figure(figsize=(10, 6))\n",
    "\n",
    "plt.plot(stl.trend, color=\"aqua\", linewidth=1)\n",
    "\n",
    "plt.title(\"Trend component of the price of silver across time in 2023 dollars\")\n",
    "plt.xlabel(\"\")\n",
    "plt.ylabel(\"Trend\")\n",
    "\n",
    "save_chart_as_png(\"3.2_AG_real_trend\")\n",
    "plt.show()"
   ]
  },
  {
   "cell_type": "code",
   "execution_count": null,
   "id": "0fa2e6f9-4d29-4f2d-92a5-1c41e4de9e44",
   "metadata": {},
   "outputs": [],
   "source": [
    "# Top 5 peaks\n",
    "peaks, _ = signal.find_peaks(stl.trend, distance=500)\n",
    "top_peaks = stl.trend.iloc[peaks].nlargest(5)\n",
    "pd.DataFrame({\"value\": top_peaks}).T"
   ]
  },
  {
   "cell_type": "markdown",
   "id": "2b3dd79b-fddb-45db-baf1-c158ba74ca72",
   "metadata": {},
   "source": [
    "**Similar to gold, silver exhibits a clearer valley in its trend, but its second peak is significantly smaller than the first, and the third is smaller than the second.**"
   ]
  },
  {
   "cell_type": "markdown",
   "id": "aed55605-7ce8-48df-95ed-9d21c530e029",
   "metadata": {},
   "source": [
    "#### Seasonality analysis"
   ]
  },
  {
   "cell_type": "code",
   "execution_count": null,
   "id": "36106666-777f-49a9-8d38-009bc6bb37c4",
   "metadata": {},
   "outputs": [],
   "source": [
    "seasonal = stl.seasonal\n",
    "monthly_avgs = seasonal.groupby(seasonal.index.month).mean()\n",
    "\n",
    "plt.figure(figsize=(10, 6))\n",
    "\n",
    "plt.plot(monthly_avgs.index, monthly_avgs.values, marker='o', color=\"fuchsia\", linewidth=1)\n",
    "\n",
    "plt.title(\"Average seasonal component of the real price of silver throughout the year\")\n",
    "plt.xlabel(\"Month\")\n",
    "plt.ylabel(\"Seasonality\")\n",
    "\n",
    "save_chart_as_png(\"3.2_AG_real_seasonal\")\n",
    "plt.show()"
   ]
  },
  {
   "cell_type": "markdown",
   "id": "4f12aa63-202c-429f-8c4f-b3a4544285d2",
   "metadata": {},
   "source": [
    "**Adjusting for inflation, silver's average seasonality shows significant changes. Notable decline in April and a rise in the last quarter.**"
   ]
  },
  {
   "cell_type": "markdown",
   "id": "153f168b-d1df-47cf-8b8b-3ca590195fbb",
   "metadata": {},
   "source": [
    "*No need to check anything related to volatility or short-term price analysis.*"
   ]
  }
 ],
 "metadata": {
  "kernelspec": {
   "display_name": "Python 3 (ipykernel)",
   "language": "python",
   "name": "python3"
  },
  "language_info": {
   "codemirror_mode": {
    "name": "ipython",
    "version": 3
   },
   "file_extension": ".py",
   "mimetype": "text/x-python",
   "name": "python",
   "nbconvert_exporter": "python",
   "pygments_lexer": "ipython3",
   "version": "3.12.3"
  }
 },
 "nbformat": 4,
 "nbformat_minor": 5
}
