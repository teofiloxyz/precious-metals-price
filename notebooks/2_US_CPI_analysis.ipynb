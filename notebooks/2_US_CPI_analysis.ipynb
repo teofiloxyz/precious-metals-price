{
 "cells": [
  {
   "cell_type": "markdown",
   "id": "e7c1a41e-d1bc-4a23-a26d-cd84d511eb1a",
   "metadata": {},
   "source": [
    "# Brief analysis of the US consumer price index (CPI) "
   ]
  },
  {
   "cell_type": "markdown",
   "id": "18dabc1b-1a11-4e6e-8863-b22814e07180",
   "metadata": {},
   "source": [
    "## Setup"
   ]
  },
  {
   "cell_type": "code",
   "execution_count": null,
   "id": "4865b262-5f1c-4402-9c88-b586a922775f",
   "metadata": {},
   "outputs": [],
   "source": [
    "import matplotlib.pyplot as plt\n",
    "import pandas as pd\n",
    "import seaborn as sns\n",
    "from scipy import signal"
   ]
  },
  {
   "cell_type": "code",
   "execution_count": null,
   "id": "7450536b-24ea-4212-b38a-f9e5e55d5848",
   "metadata": {},
   "outputs": [],
   "source": [
    "# Get US CPI and fed funds effective rate dfs\n",
    "df_cpi = pd.read_csv(\"../data/US_CPI_M.csv\")\n",
    "df_fed = pd.read_csv(\"../data/FED_FUNDS_EFFECTIVE_RATE_M.csv\")"
   ]
  },
  {
   "cell_type": "code",
   "execution_count": null,
   "id": "9d9fcbe3-683d-42b3-9f45-f1607bf0db29",
   "metadata": {},
   "outputs": [],
   "source": [
    "# Append the CPI estimate for April of 2024 to the CPI df\n",
    "new_row = pd.DataFrame({\"year_month\": [\"2024-04\"], \"rate\": [3.4]})\n",
    "df_cpi = pd.concat([df_cpi, new_row], ignore_index=True)"
   ]
  },
  {
   "cell_type": "code",
   "execution_count": null,
   "id": "24fbb716-bd80-4190-9891-ec851a9b5818",
   "metadata": {},
   "outputs": [],
   "source": [
    "# Set date as index for both dfs\n",
    "for df in df_cpi, df_fed:\n",
    "    df[\"year_month\"] = pd.to_datetime(df[\"year_month\"])\n",
    "    df.set_index(\"year_month\", inplace=True)"
   ]
  },
  {
   "cell_type": "code",
   "execution_count": null,
   "id": "88980fec-fc1f-4209-97bb-90a306096c25",
   "metadata": {},
   "outputs": [],
   "source": [
    "# Set charts theme\n",
    "sns.set_theme(style=\"darkgrid\", rc={\"grid.alpha\": 0.33})\n",
    "plt.style.use(\"dark_background\")"
   ]
  },
  {
   "cell_type": "code",
   "execution_count": null,
   "id": "32b88d6c-817a-4c3e-9a30-5464a6b5dce3",
   "metadata": {},
   "outputs": [],
   "source": [
    "# Save chart as png function\n",
    "def save_chart_as_png(filename: str) -> None:\n",
    "    plt.savefig(\n",
    "        f\"../images/{filename}.png\",\n",
    "        format=\"png\",\n",
    "        dpi=300,\n",
    "        orientation=\"landscape\",\n",
    "        bbox_inches=\"tight\",\n",
    "    )"
   ]
  },
  {
   "cell_type": "markdown",
   "id": "87c447c7-b037-4e02-9399-260c233fa399",
   "metadata": {},
   "source": [
    "## Datasets basic info"
   ]
  },
  {
   "cell_type": "markdown",
   "id": "90017e19-2fd9-4ea4-9ff0-d508f33cc771",
   "metadata": {},
   "source": [
    "### US consumer price index (CPI)"
   ]
  },
  {
   "cell_type": "code",
   "execution_count": null,
   "id": "0ea5f90b-7c21-410d-b209-4de1279c11d8",
   "metadata": {},
   "outputs": [],
   "source": [
    "# First and last entries\n",
    "pd.concat([df_cpi.head(1), df_cpi.tail(1)]).T"
   ]
  },
  {
   "cell_type": "code",
   "execution_count": null,
   "id": "b6ef25be-6071-4c51-afd1-3662a835f636",
   "metadata": {},
   "outputs": [],
   "source": [
    "df_cpi.describe().T"
   ]
  },
  {
   "cell_type": "markdown",
   "id": "9ac40049-7104-42e3-9642-dbcf8b989c3e",
   "metadata": {},
   "source": [
    "### Federal Reserve funds effective rate"
   ]
  },
  {
   "cell_type": "code",
   "execution_count": null,
   "id": "28ee68f0-b6e5-4cc5-9264-7cd2e4d6e97f",
   "metadata": {},
   "outputs": [],
   "source": [
    "# First and last entries\n",
    "pd.concat([df_fed.head(1), df_fed.tail(1)]).T"
   ]
  },
  {
   "cell_type": "code",
   "execution_count": null,
   "id": "75ad9045-4c94-4fa4-9281-3e7513c67ce0",
   "metadata": {},
   "outputs": [],
   "source": [
    "df_fed.describe().T"
   ]
  },
  {
   "cell_type": "markdown",
   "id": "0316af5b-283b-4575-95cc-6d9f06f6435e",
   "metadata": {},
   "source": [
    "## CPI long-term analysis"
   ]
  },
  {
   "cell_type": "code",
   "execution_count": null,
   "id": "c2a9a755-802f-4f7d-a538-818eacec1d45",
   "metadata": {},
   "outputs": [],
   "source": [
    "plt.figure(figsize=(14, 8))\n",
    "\n",
    "sns.lineplot(data=df_cpi, x=df_cpi.index, y=\"rate\", label=\"CPI\", color=\"lime\", linewidth=0.75)\n",
    "plt.axhline(y=2, label=\"Fed 2% target\", color=\"red\", linewidth=1)\n",
    "\n",
    "plt.title(\"US consumer price index (CPI) over time\")\n",
    "plt.xlabel(\"Date\")\n",
    "plt.ylabel(\"Rate (%)\")\n",
    "plt.legend()\n",
    "\n",
    "plt.show()"
   ]
  },
  {
   "cell_type": "code",
   "execution_count": null,
   "id": "589aecd2-4b53-4391-a043-a407cee12b15",
   "metadata": {},
   "outputs": [],
   "source": [
    "# All time high\n",
    "ath_ym = df_cpi[\"rate\"].idxmax().strftime(\"%Y-%m\")\n",
    "df_cpi.loc[ath_ym]"
   ]
  },
  {
   "cell_type": "code",
   "execution_count": null,
   "id": "89bf5678-7bc7-46b3-b1e5-1a6f52c39d06",
   "metadata": {},
   "outputs": [],
   "source": [
    "# All time low\n",
    "atl_ym = df_cpi[\"rate\"].idxmin().strftime(\"%Y-%m\")\n",
    "df_cpi.loc[atl_ym]"
   ]
  },
  {
   "cell_type": "code",
   "execution_count": null,
   "id": "cd2a72d8-816b-478d-a55d-478e4ce3f72a",
   "metadata": {},
   "outputs": [],
   "source": [
    "# Highest 6 peaks\n",
    "peaks, _ = signal.find_peaks(df_cpi[\"rate\"], distance=36)\n",
    "df_cpi.iloc[peaks].nlargest(6, \"rate\").sort_values(\"year_month\").T"
   ]
  },
  {
   "cell_type": "code",
   "execution_count": null,
   "id": "27492fa0-79ee-4e05-96af-b736d139006a",
   "metadata": {},
   "outputs": [],
   "source": [
    "# Lowest 6 valleys\n",
    "valleys, _ = signal.find_peaks(-df_cpi[\"rate\"], distance=36)\n",
    "df_cpi.iloc[valleys].nsmallest(6, \"rate\").sort_values(\"year_month\").T"
   ]
  },
  {
   "cell_type": "code",
   "execution_count": null,
   "id": "4ab11933-f193-49f0-9f94-c88c5ac198bc",
   "metadata": {},
   "outputs": [],
   "source": [
    "# Get deflationary periods table\n",
    "# Get negative rates df\n",
    "df_cpi_def = df_cpi.loc[df_cpi[\"rate\"] < 0].copy()\n",
    "# Get periods of consecutive dates\n",
    "df_cpi_def[\"period\"] = (df_cpi_def.index.diff().days > 31).cumsum() + 1\n",
    "# Get begin, end and avg rate of each period into another df\n",
    "df_cpi_def.groupby(\"period\").agg(\n",
    "    begin_date=(\"rate\", lambda x: x.index.min()),\n",
    "    end_date=(\"rate\", lambda x: x.index.max()),\n",
    "    average_rate=(\"rate\", \"mean\")\n",
    ")"
   ]
  },
  {
   "cell_type": "code",
   "execution_count": null,
   "id": "e56e046c-d129-4c16-a4d6-e0021e791506",
   "metadata": {},
   "outputs": [],
   "source": [
    "# Get longest 5 periods (and respective avg rate) in which the rate was closest to the 2% target (with a 1 percentage point deviation margin)\n",
    "# Get df with rates close to 2%\n",
    "df_cpi_close_to_2 = df_cpi[df_cpi[\"rate\"].sub(2).abs().lt(1)].copy()\n",
    "# Get periods of consecutive dates\n",
    "df_cpi_close_to_2[\"period\"] = (df_cpi_close_to_2.index.diff().days > 31).cumsum() + 1\n",
    "# Get begin, end and avg rate of each period into another df\n",
    "df_close_to_2_periods = df_cpi_close_to_2.groupby(\"period\").agg(\n",
    "    begin_date=(\"rate\", lambda x: x.index.min()),\n",
    "    end_date=(\"rate\", lambda x: x.index.max()),\n",
    "    average_rate=(\"rate\", \"mean\")\n",
    ")\n",
    "# Get the 5 longest periods\n",
    "longest_periods = df_cpi_close_to_2[\"period\"].value_counts().nlargest(5).index\n",
    "df_close_to_2_periods.loc[longest_periods]"
   ]
  },
  {
   "cell_type": "code",
   "execution_count": null,
   "id": "8c02c987-6946-435a-b5fc-bc12baef84ae",
   "metadata": {},
   "outputs": [],
   "source": [
    "# Get average inflation rate of each decade\n",
    "df_cpi_dec = df_cpi.groupby((df_cpi.index.year // 10) * 10)\n",
    "df_cpi_dec = df_cpi_dec[\"rate\"].mean().round(2).reset_index()\n",
    "df_cpi_dec.columns = [\"decade\", \"avg_cpi\"]\n",
    "df_cpi_dec.set_index(\"decade\").T"
   ]
  },
  {
   "cell_type": "markdown",
   "id": "b1ace08f-d262-4b62-849e-113c3053e5f8",
   "metadata": {},
   "source": [
    "- inflation started rising in the second half of 60s, up until 80 all time high. then quickly fell.\n",
    "- only during the first hald of the 60s inflation was below the 2% target (considered a ceiling in the past).\n",
    "- also during the 2010s until the end of the pandemic lockdowns inflation was sort of contained below that.\n",
    "- most of the time, especially during the 70s and early 80s, inflation rate was really high.\n",
    "- deflation only on 2009 and 2015."
   ]
  },
  {
   "cell_type": "markdown",
   "id": "d0967659-5011-41f3-ac43-1a3057a3d31c",
   "metadata": {},
   "source": [
    "## CPI + fed rates since 2020 analysis"
   ]
  },
  {
   "cell_type": "code",
   "execution_count": null,
   "id": "1e64a833-758e-4455-afbe-a94c5fb0dbc4",
   "metadata": {},
   "outputs": [],
   "source": [
    "# Get dfs since 2020\n",
    "df_cpi_2020 = df_cpi[\"2020\":].copy()\n",
    "df_fed_2020 = df_fed[\"2020\":].copy()"
   ]
  },
  {
   "cell_type": "code",
   "execution_count": null,
   "id": "942f6ae0-2967-4f43-a144-0f4ec451f107",
   "metadata": {},
   "outputs": [],
   "source": [
    "plt.figure(figsize=(14, 8))\n",
    "\n",
    "sns.lineplot(data=df_cpi_2020, x=df_cpi_2020.index, y=\"rate\", label=\"CPI\", color=\"lime\", linewidth=1)\n",
    "sns.lineplot(data=df_fed_2020, x=df_fed_2020.index, y=\"rate\", label=\"Fed funds effective rate\", color=\"violet\", linewidth=1)\n",
    "plt.axhline(y=2, label=\"Fed 2% target\", color=\"red\", linewidth=2)\n",
    "\n",
    "plt.title(\"US consumer price index (CPI) and Federal Reserve funds effective rate since 2020\")\n",
    "plt.xlabel(\"Date\")\n",
    "plt.ylabel(\"Rate (%)\")\n",
    "plt.legend()\n",
    "\n",
    "plt.show()"
   ]
  },
  {
   "cell_type": "code",
   "execution_count": null,
   "id": "0b01ac7e-0805-48ab-89bd-184480f9c062",
   "metadata": {},
   "outputs": [],
   "source": [
    "# When inflation quickly began to rise\n",
    "cpi_rise_start = df_cpi_2020.loc[df_cpi_2020[\"rate\"].diff() > 0.8].index[0].strftime(\"%Y-%m\")\n",
    "df_cpi_2020.loc[cpi_rise_start].round(2)"
   ]
  },
  {
   "cell_type": "code",
   "execution_count": null,
   "id": "7264a21e-c513-40dc-b900-6eae48ab54bf",
   "metadata": {},
   "outputs": [],
   "source": [
    "# When inflation rate peaked\n",
    "df_cpi_2020.loc[df_cpi_2020[\"rate\"].idxmax().strftime(\"%Y-%m\")]"
   ]
  },
  {
   "cell_type": "code",
   "execution_count": null,
   "id": "0fd42b38-d9db-4584-89a3-5e91007aecf6",
   "metadata": {},
   "outputs": [],
   "source": [
    "# When inflation started to become sticky\n",
    "# Reverse df\n",
    "df_cpi_2020_rev = df_cpi_2020.iloc[::-1].copy()\n",
    "# Get its moving std\n",
    "df_cpi_2020_rev[\"rate_moving_std\"] = df_cpi_2020_rev[\"rate\"].rolling(window=10).std()\n",
    "# Get that reversed moving std (std of the next year-months) on the original df\n",
    "df_cpi_2020[\"reverse_rate_moving_std\"] = df_cpi_2020_rev[\"rate_moving_std\"].iloc[::-1].values\n",
    "# Get when reverse moving std goes above 0.3\n",
    "cpi_sticky_start = df_cpi_2020[df_cpi_2020[\"reverse_rate_moving_std\"] < 0.3].index[0].strftime(\"%Y-%m\")\n",
    "df_cpi_2020.loc[cpi_sticky_start][[\"rate\"]]"
   ]
  },
  {
   "cell_type": "code",
   "execution_count": null,
   "id": "7dd5de5a-c33d-4393-916c-d6daf2f2f22a",
   "metadata": {},
   "outputs": [],
   "source": [
    "# Average inflation since started to become sticky\n",
    "df_cpi[cpi_sticky_start:][\"rate\"].mean().round(2)"
   ]
  },
  {
   "cell_type": "code",
   "execution_count": null,
   "id": "22c57925-c782-4536-b1b3-4bdbf3f93bf9",
   "metadata": {
    "scrolled": true
   },
   "outputs": [],
   "source": [
    "# When the fed rate hikes started\n",
    "fed_rise_start = df_fed_2020.loc[df_fed_2020[\"rate\"].diff() > 0.1].index[0].strftime(\"%Y-%m\")\n",
    "df_fed_2020.loc[fed_rise_start]"
   ]
  },
  {
   "cell_type": "code",
   "execution_count": null,
   "id": "575bc55e-e773-44cd-a946-d76ef8a46251",
   "metadata": {},
   "outputs": [],
   "source": [
    "# When the fed big rate hikes started\n",
    "fed_big_rise_start = df_fed_2020.loc[df_fed_2020[\"rate\"].diff() > 0.4].index[0].strftime(\"%Y-%m\")\n",
    "df_fed_2020.loc[fed_big_rise_start]"
   ]
  },
  {
   "cell_type": "code",
   "execution_count": null,
   "id": "df54250f-cdcb-4a1c-866b-c87a49918375",
   "metadata": {},
   "outputs": [],
   "source": [
    "# When fed rate peaked\n",
    "df_fed_2020.loc[df_fed_2020[\"rate\"].idxmax().strftime(\"%Y-%m\")]"
   ]
  },
  {
   "cell_type": "code",
   "execution_count": null,
   "id": "8fdb03e8-e725-4583-9660-2e46fcfcfad6",
   "metadata": {},
   "outputs": [],
   "source": [
    "# Average difference between rates since inflation started to become sticky\n",
    "(df_fed[cpi_sticky_start:][\"rate\"].mean() - df_cpi[cpi_sticky_start:][\"rate\"].mean()).round(2)"
   ]
  },
  {
   "cell_type": "markdown",
   "id": "30baa42f-8a84-4777-85fe-19a5064ba6f6",
   "metadata": {},
   "source": [
    "- As we can see CPI went above 2% on march of 2021, and the next month jumped to 4.16, peaking at about 9% on june of 2022\n",
    "- the fed took about a year to start rising the rates, when inflation was no longer perceived as transitory.\n",
    "- rates increased very slowly at first on march of 22, and on may started rising fast, until it peaked on august of 2023, staynin the same since.\n",
    "- inflation came down until june of 2023, where it stabilized at about 3,3% (still above 2% mark) and became \"sticky\" since. \n",
    "- about 2 percentage points on average the diff"
   ]
  }
 ],
 "metadata": {
  "kernelspec": {
   "display_name": "Python 3 (ipykernel)",
   "language": "python",
   "name": "python3"
  },
  "language_info": {
   "codemirror_mode": {
    "name": "ipython",
    "version": 3
   },
   "file_extension": ".py",
   "mimetype": "text/x-python",
   "name": "python",
   "nbconvert_exporter": "python",
   "pygments_lexer": "ipython3",
   "version": "3.12.3"
  }
 },
 "nbformat": 4,
 "nbformat_minor": 5
}
