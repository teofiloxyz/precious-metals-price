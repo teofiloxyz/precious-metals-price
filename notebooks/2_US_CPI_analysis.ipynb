{
 "cells": [
  {
   "cell_type": "markdown",
   "id": "e7c1a41e-d1bc-4a23-a26d-cd84d511eb1a",
   "metadata": {},
   "source": [
    "# Brief analysis of the US consumer price index (CPI) "
   ]
  },
  {
   "cell_type": "markdown",
   "id": "18dabc1b-1a11-4e6e-8863-b22814e07180",
   "metadata": {},
   "source": [
    "## Setup"
   ]
  },
  {
   "cell_type": "code",
   "execution_count": 1,
   "id": "4865b262-5f1c-4402-9c88-b586a922775f",
   "metadata": {},
   "outputs": [],
   "source": [
    "import matplotlib.pyplot as plt\n",
    "import pandas as pd\n",
    "import seaborn as sns\n",
    "from scipy import signal"
   ]
  },
  {
   "cell_type": "code",
   "execution_count": 2,
   "id": "7450536b-24ea-4212-b38a-f9e5e55d5848",
   "metadata": {},
   "outputs": [],
   "source": [
    "# Get US CPI and fed funds effective rate dfs and set year_month as index\n",
    "df_cpi = pd.read_csv(\"../data/US_CPI_M.csv\", index_col=\"year_month\", parse_dates=True)\n",
    "df_fed = pd.read_csv(\"../data/FED_FUNDS_EFFECTIVE_RATE_M.csv\", index_col=\"year_month\", parse_dates=True)"
   ]
  },
  {
   "cell_type": "code",
   "execution_count": 3,
   "id": "9d9fcbe3-683d-42b3-9f45-f1607bf0db29",
   "metadata": {},
   "outputs": [],
   "source": [
    "# Append the CPI estimate for April of 2024 to the CPI df\n",
    "df_cpi.loc[pd.to_datetime(\"2024-04\")] = {\"rate\": 3.4}"
   ]
  },
  {
   "cell_type": "code",
   "execution_count": 4,
   "id": "f1a09c22-d30a-47ca-9c6a-fe118fef5156",
   "metadata": {},
   "outputs": [],
   "source": [
    "# Set charts theme\n",
    "sns.set_theme(style=\"darkgrid\", rc={\"grid.alpha\": 0.33})\n",
    "plt.style.use(\"dark_background\")\n",
    "\n",
    "# Save chart as png function\n",
    "def save_chart_as_png(filename: str) -> None:\n",
    "    plt.savefig(\n",
    "        f\"../images/{filename}.png\",\n",
    "        format=\"png\",\n",
    "        dpi=300,\n",
    "        orientation=\"landscape\",\n",
    "        bbox_inches=\"tight\",\n",
    "    )"
   ]
  },
  {
   "cell_type": "markdown",
   "id": "87c447c7-b037-4e02-9399-260c233fa399",
   "metadata": {},
   "source": [
    "## Datasets basic info"
   ]
  },
  {
   "cell_type": "markdown",
   "id": "90017e19-2fd9-4ea4-9ff0-d508f33cc771",
   "metadata": {},
   "source": [
    "### US consumer price index (CPI)"
   ]
  },
  {
   "cell_type": "code",
   "execution_count": 5,
   "id": "0ea5f90b-7c21-410d-b209-4de1279c11d8",
   "metadata": {},
   "outputs": [
    {
     "data": {
      "text/html": [
       "<div>\n",
       "<style scoped>\n",
       "    .dataframe tbody tr th:only-of-type {\n",
       "        vertical-align: middle;\n",
       "    }\n",
       "\n",
       "    .dataframe tbody tr th {\n",
       "        vertical-align: top;\n",
       "    }\n",
       "\n",
       "    .dataframe thead th {\n",
       "        text-align: right;\n",
       "    }\n",
       "</style>\n",
       "<table border=\"1\" class=\"dataframe\">\n",
       "  <thead>\n",
       "    <tr style=\"text-align: right;\">\n",
       "      <th>year_month</th>\n",
       "      <th>1956-01-01</th>\n",
       "      <th>2024-04-01</th>\n",
       "    </tr>\n",
       "  </thead>\n",
       "  <tbody>\n",
       "    <tr>\n",
       "      <th>rate</th>\n",
       "      <td>0.374532</td>\n",
       "      <td>3.4</td>\n",
       "    </tr>\n",
       "  </tbody>\n",
       "</table>\n",
       "</div>"
      ],
      "text/plain": [
       "year_month  1956-01-01  2024-04-01\n",
       "rate          0.374532         3.4"
      ]
     },
     "execution_count": 5,
     "metadata": {},
     "output_type": "execute_result"
    }
   ],
   "source": [
    "# First and last entries\n",
    "pd.concat([df_cpi.head(1), df_cpi.tail(1)]).T"
   ]
  },
  {
   "cell_type": "code",
   "execution_count": 6,
   "id": "b6ef25be-6071-4c51-afd1-3662a835f636",
   "metadata": {},
   "outputs": [
    {
     "data": {
      "text/html": [
       "<div>\n",
       "<style scoped>\n",
       "    .dataframe tbody tr th:only-of-type {\n",
       "        vertical-align: middle;\n",
       "    }\n",
       "\n",
       "    .dataframe tbody tr th {\n",
       "        vertical-align: top;\n",
       "    }\n",
       "\n",
       "    .dataframe thead th {\n",
       "        text-align: right;\n",
       "    }\n",
       "</style>\n",
       "<table border=\"1\" class=\"dataframe\">\n",
       "  <thead>\n",
       "    <tr style=\"text-align: right;\">\n",
       "      <th></th>\n",
       "      <th>count</th>\n",
       "      <th>mean</th>\n",
       "      <th>std</th>\n",
       "      <th>min</th>\n",
       "      <th>25%</th>\n",
       "      <th>50%</th>\n",
       "      <th>75%</th>\n",
       "      <th>max</th>\n",
       "    </tr>\n",
       "  </thead>\n",
       "  <tbody>\n",
       "    <tr>\n",
       "      <th>rate</th>\n",
       "      <td>820.0</td>\n",
       "      <td>3.675305</td>\n",
       "      <td>2.779924</td>\n",
       "      <td>-2.097161</td>\n",
       "      <td>1.753234</td>\n",
       "      <td>2.985075</td>\n",
       "      <td>4.589179</td>\n",
       "      <td>14.756447</td>\n",
       "    </tr>\n",
       "  </tbody>\n",
       "</table>\n",
       "</div>"
      ],
      "text/plain": [
       "      count      mean       std       min       25%       50%       75%  \\\n",
       "rate  820.0  3.675305  2.779924 -2.097161  1.753234  2.985075  4.589179   \n",
       "\n",
       "            max  \n",
       "rate  14.756447  "
      ]
     },
     "execution_count": 6,
     "metadata": {},
     "output_type": "execute_result"
    }
   ],
   "source": [
    "df_cpi.describe().T"
   ]
  },
  {
   "cell_type": "markdown",
   "id": "9ac40049-7104-42e3-9642-dbcf8b989c3e",
   "metadata": {},
   "source": [
    "### Federal Reserve funds effective rate"
   ]
  },
  {
   "cell_type": "code",
   "execution_count": 7,
   "id": "28ee68f0-b6e5-4cc5-9264-7cd2e4d6e97f",
   "metadata": {},
   "outputs": [
    {
     "data": {
      "text/html": [
       "<div>\n",
       "<style scoped>\n",
       "    .dataframe tbody tr th:only-of-type {\n",
       "        vertical-align: middle;\n",
       "    }\n",
       "\n",
       "    .dataframe tbody tr th {\n",
       "        vertical-align: top;\n",
       "    }\n",
       "\n",
       "    .dataframe thead th {\n",
       "        text-align: right;\n",
       "    }\n",
       "</style>\n",
       "<table border=\"1\" class=\"dataframe\">\n",
       "  <thead>\n",
       "    <tr style=\"text-align: right;\">\n",
       "      <th>year_month</th>\n",
       "      <th>1954-07-01</th>\n",
       "      <th>2024-04-01</th>\n",
       "    </tr>\n",
       "  </thead>\n",
       "  <tbody>\n",
       "    <tr>\n",
       "      <th>rate</th>\n",
       "      <td>0.8</td>\n",
       "      <td>5.33</td>\n",
       "    </tr>\n",
       "  </tbody>\n",
       "</table>\n",
       "</div>"
      ],
      "text/plain": [
       "year_month  1954-07-01  2024-04-01\n",
       "rate               0.8        5.33"
      ]
     },
     "execution_count": 7,
     "metadata": {},
     "output_type": "execute_result"
    }
   ],
   "source": [
    "# First and last entries\n",
    "pd.concat([df_fed.head(1), df_fed.tail(1)]).T"
   ]
  },
  {
   "cell_type": "code",
   "execution_count": 8,
   "id": "75ad9045-4c94-4fa4-9281-3e7513c67ce0",
   "metadata": {},
   "outputs": [
    {
     "data": {
      "text/html": [
       "<div>\n",
       "<style scoped>\n",
       "    .dataframe tbody tr th:only-of-type {\n",
       "        vertical-align: middle;\n",
       "    }\n",
       "\n",
       "    .dataframe tbody tr th {\n",
       "        vertical-align: top;\n",
       "    }\n",
       "\n",
       "    .dataframe thead th {\n",
       "        text-align: right;\n",
       "    }\n",
       "</style>\n",
       "<table border=\"1\" class=\"dataframe\">\n",
       "  <thead>\n",
       "    <tr style=\"text-align: right;\">\n",
       "      <th></th>\n",
       "      <th>count</th>\n",
       "      <th>mean</th>\n",
       "      <th>std</th>\n",
       "      <th>min</th>\n",
       "      <th>25%</th>\n",
       "      <th>50%</th>\n",
       "      <th>75%</th>\n",
       "      <th>max</th>\n",
       "    </tr>\n",
       "  </thead>\n",
       "  <tbody>\n",
       "    <tr>\n",
       "      <th>rate</th>\n",
       "      <td>838.0</td>\n",
       "      <td>4.605143</td>\n",
       "      <td>3.584196</td>\n",
       "      <td>0.05</td>\n",
       "      <td>1.8125</td>\n",
       "      <td>4.225</td>\n",
       "      <td>6.23</td>\n",
       "      <td>19.1</td>\n",
       "    </tr>\n",
       "  </tbody>\n",
       "</table>\n",
       "</div>"
      ],
      "text/plain": [
       "      count      mean       std   min     25%    50%   75%   max\n",
       "rate  838.0  4.605143  3.584196  0.05  1.8125  4.225  6.23  19.1"
      ]
     },
     "execution_count": 8,
     "metadata": {},
     "output_type": "execute_result"
    }
   ],
   "source": [
    "df_fed.describe().T"
   ]
  },
  {
   "cell_type": "markdown",
   "id": "0316af5b-283b-4575-95cc-6d9f06f6435e",
   "metadata": {},
   "source": [
    "## CPI long-term analysis"
   ]
  },
  {
   "cell_type": "code",
   "execution_count": 9,
   "id": "c2a9a755-802f-4f7d-a538-818eacec1d45",
   "metadata": {},
   "outputs": [
    {
     "data": {
      "image/png": "[encoded data removed]",
      "text/plain": [
       "<Figure size 1000x600 with 1 Axes>"
      ]
     },
     "metadata": {},
     "output_type": "display_data"
    }
   ],
   "source": [
    "plt.figure(figsize=(10, 6))\n",
    "\n",
    "sns.lineplot(data=df_cpi, x=df_cpi.index, y=\"rate\", label=\"CPI\", color=\"lime\", linewidth=0.75)\n",
    "plt.axhline(y=2, label=\"Fed 2% target\", color=\"red\", linewidth=1, linestyle=\"--\")\n",
    "\n",
    "plt.title(\"US consumer price index (CPI) over time\")\n",
    "plt.xlabel(\"\")\n",
    "plt.ylabel(\"Rate (%)\")\n",
    "plt.legend()\n",
    "\n",
    "save_chart_as_png(\"2_US_CPI\")"
   ]
  },
  {
   "cell_type": "code",
   "execution_count": 10,
   "id": "589aecd2-4b53-4391-a043-a407cee12b15",
   "metadata": {},
   "outputs": [
    {
     "data": {
      "text/html": [
       "<div>\n",
       "<style scoped>\n",
       "    .dataframe tbody tr th:only-of-type {\n",
       "        vertical-align: middle;\n",
       "    }\n",
       "\n",
       "    .dataframe tbody tr th {\n",
       "        vertical-align: top;\n",
       "    }\n",
       "\n",
       "    .dataframe thead th {\n",
       "        text-align: right;\n",
       "    }\n",
       "</style>\n",
       "<table border=\"1\" class=\"dataframe\">\n",
       "  <thead>\n",
       "    <tr style=\"text-align: right;\">\n",
       "      <th></th>\n",
       "      <th>rate</th>\n",
       "    </tr>\n",
       "    <tr>\n",
       "      <th>year_month</th>\n",
       "      <th></th>\n",
       "    </tr>\n",
       "  </thead>\n",
       "  <tbody>\n",
       "    <tr>\n",
       "      <th>1980-03-01</th>\n",
       "      <td>14.756447</td>\n",
       "    </tr>\n",
       "  </tbody>\n",
       "</table>\n",
       "</div>"
      ],
      "text/plain": [
       "                 rate\n",
       "year_month           \n",
       "1980-03-01  14.756447"
      ]
     },
     "execution_count": 10,
     "metadata": {},
     "output_type": "execute_result"
    }
   ],
   "source": [
    "# All-time high\n",
    "ath_ym = df_cpi[\"rate\"].idxmax().strftime(\"%Y-%m\")\n",
    "df_cpi.loc[ath_ym]"
   ]
  },
  {
   "cell_type": "code",
   "execution_count": 11,
   "id": "89bf5678-7bc7-46b3-b1e5-1a6f52c39d06",
   "metadata": {},
   "outputs": [
    {
     "data": {
      "text/html": [
       "<div>\n",
       "<style scoped>\n",
       "    .dataframe tbody tr th:only-of-type {\n",
       "        vertical-align: middle;\n",
       "    }\n",
       "\n",
       "    .dataframe tbody tr th {\n",
       "        vertical-align: top;\n",
       "    }\n",
       "\n",
       "    .dataframe thead th {\n",
       "        text-align: right;\n",
       "    }\n",
       "</style>\n",
       "<table border=\"1\" class=\"dataframe\">\n",
       "  <thead>\n",
       "    <tr style=\"text-align: right;\">\n",
       "      <th></th>\n",
       "      <th>rate</th>\n",
       "    </tr>\n",
       "    <tr>\n",
       "      <th>year_month</th>\n",
       "      <th></th>\n",
       "    </tr>\n",
       "  </thead>\n",
       "  <tbody>\n",
       "    <tr>\n",
       "      <th>2009-07-01</th>\n",
       "      <td>-2.097161</td>\n",
       "    </tr>\n",
       "  </tbody>\n",
       "</table>\n",
       "</div>"
      ],
      "text/plain": [
       "                rate\n",
       "year_month          \n",
       "2009-07-01 -2.097161"
      ]
     },
     "execution_count": 11,
     "metadata": {},
     "output_type": "execute_result"
    }
   ],
   "source": [
    "# All-time low\n",
    "atl_ym = df_cpi[\"rate\"].idxmin().strftime(\"%Y-%m\")\n",
    "df_cpi.loc[atl_ym]"
   ]
  },
  {
   "cell_type": "code",
   "execution_count": 12,
   "id": "cd2a72d8-816b-478d-a55d-478e4ce3f72a",
   "metadata": {},
   "outputs": [
    {
     "data": {
      "text/html": [
       "<div>\n",
       "<style scoped>\n",
       "    .dataframe tbody tr th:only-of-type {\n",
       "        vertical-align: middle;\n",
       "    }\n",
       "\n",
       "    .dataframe tbody tr th {\n",
       "        vertical-align: top;\n",
       "    }\n",
       "\n",
       "    .dataframe thead th {\n",
       "        text-align: right;\n",
       "    }\n",
       "</style>\n",
       "<table border=\"1\" class=\"dataframe\">\n",
       "  <thead>\n",
       "    <tr style=\"text-align: right;\">\n",
       "      <th>year_month</th>\n",
       "      <th>1969-12-01</th>\n",
       "      <th>1974-12-01</th>\n",
       "      <th>1980-03-01</th>\n",
       "      <th>1990-10-01</th>\n",
       "      <th>2008-07-01</th>\n",
       "      <th>2022-06-01</th>\n",
       "    </tr>\n",
       "  </thead>\n",
       "  <tbody>\n",
       "    <tr>\n",
       "      <th>rate</th>\n",
       "      <td>6.197183</td>\n",
       "      <td>12.337662</td>\n",
       "      <td>14.756447</td>\n",
       "      <td>6.289809</td>\n",
       "      <td>5.600123</td>\n",
       "      <td>9.059758</td>\n",
       "    </tr>\n",
       "  </tbody>\n",
       "</table>\n",
       "</div>"
      ],
      "text/plain": [
       "year_month  1969-12-01  1974-12-01  1980-03-01  1990-10-01  2008-07-01  \\\n",
       "rate          6.197183   12.337662   14.756447    6.289809    5.600123   \n",
       "\n",
       "year_month  2022-06-01  \n",
       "rate          9.059758  "
      ]
     },
     "execution_count": 12,
     "metadata": {},
     "output_type": "execute_result"
    }
   ],
   "source": [
    "# Highest 6 peaks\n",
    "peaks, _ = signal.find_peaks(df_cpi[\"rate\"], distance=36)\n",
    "df_cpi.iloc[peaks].nlargest(6, \"rate\").sort_values(\"year_month\").T"
   ]
  },
  {
   "cell_type": "code",
   "execution_count": 13,
   "id": "27492fa0-79ee-4e05-96af-b736d139006a",
   "metadata": {},
   "outputs": [
    {
     "data": {
      "text/html": [
       "<div>\n",
       "<style scoped>\n",
       "    .dataframe tbody tr th:only-of-type {\n",
       "        vertical-align: middle;\n",
       "    }\n",
       "\n",
       "    .dataframe tbody tr th {\n",
       "        vertical-align: top;\n",
       "    }\n",
       "\n",
       "    .dataframe thead th {\n",
       "        text-align: right;\n",
       "    }\n",
       "</style>\n",
       "<table border=\"1\" class=\"dataframe\">\n",
       "  <thead>\n",
       "    <tr style=\"text-align: right;\">\n",
       "      <th>year_month</th>\n",
       "      <th>1959-04-01</th>\n",
       "      <th>1965-01-01</th>\n",
       "      <th>2002-06-01</th>\n",
       "      <th>2009-07-01</th>\n",
       "      <th>2015-04-01</th>\n",
       "      <th>2020-05-01</th>\n",
       "    </tr>\n",
       "  </thead>\n",
       "  <tbody>\n",
       "    <tr>\n",
       "      <th>rate</th>\n",
       "      <td>0.346021</td>\n",
       "      <td>0.970874</td>\n",
       "      <td>1.067416</td>\n",
       "      <td>-2.097161</td>\n",
       "      <td>-0.199517</td>\n",
       "      <td>0.117926</td>\n",
       "    </tr>\n",
       "  </tbody>\n",
       "</table>\n",
       "</div>"
      ],
      "text/plain": [
       "year_month  1959-04-01  1965-01-01  2002-06-01  2009-07-01  2015-04-01  \\\n",
       "rate          0.346021    0.970874    1.067416   -2.097161   -0.199517   \n",
       "\n",
       "year_month  2020-05-01  \n",
       "rate          0.117926  "
      ]
     },
     "execution_count": 13,
     "metadata": {},
     "output_type": "execute_result"
    }
   ],
   "source": [
    "# Lowest 6 valleys\n",
    "valleys, _ = signal.find_peaks(-df_cpi[\"rate\"], distance=36)\n",
    "df_cpi.iloc[valleys].nsmallest(6, \"rate\").sort_values(\"year_month\").T"
   ]
  },
  {
   "cell_type": "code",
   "execution_count": 14,
   "id": "4ab11933-f193-49f0-9f94-c88c5ac198bc",
   "metadata": {},
   "outputs": [
    {
     "data": {
      "text/html": [
       "<div>\n",
       "<style scoped>\n",
       "    .dataframe tbody tr th:only-of-type {\n",
       "        vertical-align: middle;\n",
       "    }\n",
       "\n",
       "    .dataframe tbody tr th {\n",
       "        vertical-align: top;\n",
       "    }\n",
       "\n",
       "    .dataframe thead th {\n",
       "        text-align: right;\n",
       "    }\n",
       "</style>\n",
       "<table border=\"1\" class=\"dataframe\">\n",
       "  <thead>\n",
       "    <tr style=\"text-align: right;\">\n",
       "      <th></th>\n",
       "      <th>begin_date</th>\n",
       "      <th>end_date</th>\n",
       "      <th>average_rate</th>\n",
       "    </tr>\n",
       "    <tr>\n",
       "      <th>period</th>\n",
       "      <th></th>\n",
       "      <th></th>\n",
       "      <th></th>\n",
       "    </tr>\n",
       "  </thead>\n",
       "  <tbody>\n",
       "    <tr>\n",
       "      <th>1</th>\n",
       "      <td>2009-03-01</td>\n",
       "      <td>2009-10-01</td>\n",
       "      <td>-1.109902</td>\n",
       "    </tr>\n",
       "    <tr>\n",
       "      <th>2</th>\n",
       "      <td>2015-01-01</td>\n",
       "      <td>2015-05-01</td>\n",
       "      <td>-0.085513</td>\n",
       "    </tr>\n",
       "    <tr>\n",
       "      <th>3</th>\n",
       "      <td>2015-09-01</td>\n",
       "      <td>2015-09-01</td>\n",
       "      <td>-0.036130</td>\n",
       "    </tr>\n",
       "  </tbody>\n",
       "</table>\n",
       "</div>"
      ],
      "text/plain": [
       "       begin_date   end_date  average_rate\n",
       "period                                    \n",
       "1      2009-03-01 2009-10-01     -1.109902\n",
       "2      2015-01-01 2015-05-01     -0.085513\n",
       "3      2015-09-01 2015-09-01     -0.036130"
      ]
     },
     "execution_count": 14,
     "metadata": {},
     "output_type": "execute_result"
    }
   ],
   "source": [
    "# Get deflationary periods table\n",
    "# Get negative rates df\n",
    "df_cpi_def = df_cpi.loc[df_cpi[\"rate\"] < 0].copy()\n",
    "# Get periods of consecutive dates\n",
    "df_cpi_def[\"period\"] = (df_cpi_def.index.diff().days > 31).cumsum() + 1\n",
    "# Get begin, end and avg rate of each period into another df\n",
    "df_cpi_def.groupby(\"period\").agg(\n",
    "    begin_date=(\"rate\", lambda x: x.index.min()),\n",
    "    end_date=(\"rate\", lambda x: x.index.max()),\n",
    "    average_rate=(\"rate\", \"mean\")\n",
    ")"
   ]
  },
  {
   "cell_type": "code",
   "execution_count": 15,
   "id": "e56e046c-d129-4c16-a4d6-e0021e791506",
   "metadata": {},
   "outputs": [
    {
     "data": {
      "text/html": [
       "<div>\n",
       "<style scoped>\n",
       "    .dataframe tbody tr th:only-of-type {\n",
       "        vertical-align: middle;\n",
       "    }\n",
       "\n",
       "    .dataframe tbody tr th {\n",
       "        vertical-align: top;\n",
       "    }\n",
       "\n",
       "    .dataframe thead th {\n",
       "        text-align: right;\n",
       "    }\n",
       "</style>\n",
       "<table border=\"1\" class=\"dataframe\">\n",
       "  <thead>\n",
       "    <tr style=\"text-align: right;\">\n",
       "      <th></th>\n",
       "      <th>begin_date</th>\n",
       "      <th>end_date</th>\n",
       "      <th>average_rate</th>\n",
       "    </tr>\n",
       "    <tr>\n",
       "      <th>period</th>\n",
       "      <th></th>\n",
       "      <th></th>\n",
       "      <th></th>\n",
       "    </tr>\n",
       "  </thead>\n",
       "  <tbody>\n",
       "    <tr>\n",
       "      <th>40</th>\n",
       "      <td>2016-08-01</td>\n",
       "      <td>2020-03-01</td>\n",
       "      <td>2.066459</td>\n",
       "    </tr>\n",
       "    <tr>\n",
       "      <th>26</th>\n",
       "      <td>1997-03-01</td>\n",
       "      <td>2000-01-01</td>\n",
       "      <td>1.989031</td>\n",
       "    </tr>\n",
       "    <tr>\n",
       "      <th>23</th>\n",
       "      <td>1993-06-01</td>\n",
       "      <td>1995-03-01</td>\n",
       "      <td>2.691187</td>\n",
       "    </tr>\n",
       "    <tr>\n",
       "      <th>36</th>\n",
       "      <td>2011-12-01</td>\n",
       "      <td>2013-09-01</td>\n",
       "      <td>1.896857</td>\n",
       "    </tr>\n",
       "    <tr>\n",
       "      <th>5</th>\n",
       "      <td>1959-08-01</td>\n",
       "      <td>1961-05-01</td>\n",
       "      <td>1.419526</td>\n",
       "    </tr>\n",
       "  </tbody>\n",
       "</table>\n",
       "</div>"
      ],
      "text/plain": [
       "       begin_date   end_date  average_rate\n",
       "period                                    \n",
       "40     2016-08-01 2020-03-01      2.066459\n",
       "26     1997-03-01 2000-01-01      1.989031\n",
       "23     1993-06-01 1995-03-01      2.691187\n",
       "36     2011-12-01 2013-09-01      1.896857\n",
       "5      1959-08-01 1961-05-01      1.419526"
      ]
     },
     "execution_count": 15,
     "metadata": {},
     "output_type": "execute_result"
    }
   ],
   "source": [
    "# Get longest 5 periods (and respective avg rate) in which the rate was closest to the 2% target (with a 1 percentage point deviation margin)\n",
    "# Get df with rates close to 2%\n",
    "df_cpi_close_to_2 = df_cpi[df_cpi[\"rate\"].sub(2).abs().lt(1)].copy()\n",
    "# Get periods of consecutive dates\n",
    "df_cpi_close_to_2[\"period\"] = (df_cpi_close_to_2.index.diff().days > 31).cumsum() + 1\n",
    "# Get begin, end and avg rate of each period into another df\n",
    "df_close_to_2_periods = df_cpi_close_to_2.groupby(\"period\").agg(\n",
    "    begin_date=(\"rate\", lambda x: x.index.min()),\n",
    "    end_date=(\"rate\", lambda x: x.index.max()),\n",
    "    average_rate=(\"rate\", \"mean\")\n",
    ")\n",
    "# Get the 5 longest periods\n",
    "longest_periods = df_cpi_close_to_2[\"period\"].value_counts().nlargest(5).index\n",
    "df_close_to_2_periods.loc[longest_periods]"
   ]
  },
  {
   "cell_type": "code",
   "execution_count": 16,
   "id": "8c02c987-6946-435a-b5fc-bc12baef84ae",
   "metadata": {},
   "outputs": [
    {
     "data": {
      "text/html": [
       "<div>\n",
       "<style scoped>\n",
       "    .dataframe tbody tr th:only-of-type {\n",
       "        vertical-align: middle;\n",
       "    }\n",
       "\n",
       "    .dataframe tbody tr th {\n",
       "        vertical-align: top;\n",
       "    }\n",
       "\n",
       "    .dataframe thead th {\n",
       "        text-align: right;\n",
       "    }\n",
       "</style>\n",
       "<table border=\"1\" class=\"dataframe\">\n",
       "  <thead>\n",
       "    <tr style=\"text-align: right;\">\n",
       "      <th>decade</th>\n",
       "      <th>1950</th>\n",
       "      <th>1960</th>\n",
       "      <th>1970</th>\n",
       "      <th>1980</th>\n",
       "      <th>1990</th>\n",
       "      <th>2000</th>\n",
       "      <th>2010</th>\n",
       "      <th>2020</th>\n",
       "    </tr>\n",
       "  </thead>\n",
       "  <tbody>\n",
       "    <tr>\n",
       "      <th>avg_cpi</th>\n",
       "      <td>2.15</td>\n",
       "      <td>2.33</td>\n",
       "      <td>7.09</td>\n",
       "      <td>5.56</td>\n",
       "      <td>3.0</td>\n",
       "      <td>2.57</td>\n",
       "      <td>1.77</td>\n",
       "      <td>4.42</td>\n",
       "    </tr>\n",
       "  </tbody>\n",
       "</table>\n",
       "</div>"
      ],
      "text/plain": [
       "decade   1950  1960  1970  1980  1990  2000  2010  2020\n",
       "avg_cpi  2.15  2.33  7.09  5.56   3.0  2.57  1.77  4.42"
      ]
     },
     "execution_count": 16,
     "metadata": {},
     "output_type": "execute_result"
    }
   ],
   "source": [
    "# Get average inflation rate of each decade\n",
    "df_cpi_dec = df_cpi.groupby((df_cpi.index.year // 10) * 10)\n",
    "df_cpi_dec = df_cpi_dec[\"rate\"].mean().round(2).reset_index()\n",
    "df_cpi_dec.columns = [\"decade\", \"avg_cpi\"]\n",
    "df_cpi_dec.set_index(\"decade\").T"
   ]
  },
  {
   "cell_type": "markdown",
   "id": "b1ace08f-d262-4b62-849e-113c3053e5f8",
   "metadata": {},
   "source": [
    "**Key takeaways:**\n",
    "- Inflation surged through the late 1960s, peaking at a historic high of 14.8% in 1980, before rapidly declining.\n",
    "- During the early 1960s, CPI remained consistently below the 2% target, a level once considered a ceiling by the central bank.\n",
    "- Throughout 1970s and early 1980s, inflation rates soared significantly, posing economic challenges.\n",
    "- Throughout the 1990s and between the 2010s and the end of the pandemic lockdowns, inflation remained relatively contained.\n",
    "- The 2010s marked the decade with the lowest average CPI rate, settling at 1.8%.\n",
    "- Instances of deflation occurred only in 2009 and 2015.\n",
    "- Recently, inflation has reemerged as a notable concern."
   ]
  },
  {
   "cell_type": "markdown",
   "id": "d0967659-5011-41f3-ac43-1a3057a3d31c",
   "metadata": {},
   "source": [
    "## CPI + fed rates since 2020 analysis"
   ]
  },
  {
   "cell_type": "code",
   "execution_count": 17,
   "id": "1e64a833-758e-4455-afbe-a94c5fb0dbc4",
   "metadata": {},
   "outputs": [],
   "source": [
    "# Get dfs since 2020\n",
    "df_cpi_2020 = df_cpi[\"2020\":].copy()\n",
    "df_fed_2020 = df_fed[\"2020\":].copy()"
   ]
  },
  {
   "cell_type": "code",
   "execution_count": 18,
   "id": "942f6ae0-2967-4f43-a144-0f4ec451f107",
   "metadata": {},
   "outputs": [
    {
     "data": {
      "image/png": "[encoded data removed]",
      "text/plain": [
       "<Figure size 1000x600 with 1 Axes>"
      ]
     },
     "metadata": {},
     "output_type": "display_data"
    }
   ],
   "source": [
    "plt.figure(figsize=(10, 6))\n",
    "\n",
    "sns.lineplot(data=df_cpi_2020, x=df_cpi_2020.index, y=\"rate\", label=\"CPI\", color=\"lime\", linewidth=1)\n",
    "sns.lineplot(data=df_fed_2020, x=df_fed_2020.index, y=\"rate\", label=\"Fed funds effective rate\", color=\"violet\", linewidth=1)\n",
    "plt.axhline(y=2, label=\"Fed 2% target\", color=\"red\", linewidth=1.5, linestyle=\"--\")\n",
    "\n",
    "plt.xticks(fontsize=8)\n",
    "\n",
    "plt.title(\"US consumer price index (CPI) and Federal Reserve funds effective rate since 2020\")\n",
    "plt.xlabel(\"\")\n",
    "plt.ylabel(\"Rate (%)\")\n",
    "plt.legend()\n",
    "\n",
    "save_chart_as_png(\"2_US_CPI_2020\")"
   ]
  },
  {
   "cell_type": "code",
   "execution_count": 19,
   "id": "0b01ac7e-0805-48ab-89bd-184480f9c062",
   "metadata": {},
   "outputs": [
    {
     "data": {
      "text/html": [
       "<div>\n",
       "<style scoped>\n",
       "    .dataframe tbody tr th:only-of-type {\n",
       "        vertical-align: middle;\n",
       "    }\n",
       "\n",
       "    .dataframe tbody tr th {\n",
       "        vertical-align: top;\n",
       "    }\n",
       "\n",
       "    .dataframe thead th {\n",
       "        text-align: right;\n",
       "    }\n",
       "</style>\n",
       "<table border=\"1\" class=\"dataframe\">\n",
       "  <thead>\n",
       "    <tr style=\"text-align: right;\">\n",
       "      <th></th>\n",
       "      <th>rate</th>\n",
       "    </tr>\n",
       "    <tr>\n",
       "      <th>year_month</th>\n",
       "      <th></th>\n",
       "    </tr>\n",
       "  </thead>\n",
       "  <tbody>\n",
       "    <tr>\n",
       "      <th>2021-03-01</th>\n",
       "      <td>2.62</td>\n",
       "    </tr>\n",
       "  </tbody>\n",
       "</table>\n",
       "</div>"
      ],
      "text/plain": [
       "            rate\n",
       "year_month      \n",
       "2021-03-01  2.62"
      ]
     },
     "execution_count": 19,
     "metadata": {},
     "output_type": "execute_result"
    }
   ],
   "source": [
    "# When inflation quickly began to rise\n",
    "cpi_rise_start = df_cpi_2020.loc[df_cpi_2020[\"rate\"].diff() > 0.8].index[0].strftime(\"%Y-%m\")\n",
    "df_cpi_2020.loc[cpi_rise_start].round(2)"
   ]
  },
  {
   "cell_type": "code",
   "execution_count": 20,
   "id": "7264a21e-c513-40dc-b900-6eae48ab54bf",
   "metadata": {},
   "outputs": [
    {
     "data": {
      "text/html": [
       "<div>\n",
       "<style scoped>\n",
       "    .dataframe tbody tr th:only-of-type {\n",
       "        vertical-align: middle;\n",
       "    }\n",
       "\n",
       "    .dataframe tbody tr th {\n",
       "        vertical-align: top;\n",
       "    }\n",
       "\n",
       "    .dataframe thead th {\n",
       "        text-align: right;\n",
       "    }\n",
       "</style>\n",
       "<table border=\"1\" class=\"dataframe\">\n",
       "  <thead>\n",
       "    <tr style=\"text-align: right;\">\n",
       "      <th></th>\n",
       "      <th>rate</th>\n",
       "    </tr>\n",
       "    <tr>\n",
       "      <th>year_month</th>\n",
       "      <th></th>\n",
       "    </tr>\n",
       "  </thead>\n",
       "  <tbody>\n",
       "    <tr>\n",
       "      <th>2022-06-01</th>\n",
       "      <td>9.059758</td>\n",
       "    </tr>\n",
       "  </tbody>\n",
       "</table>\n",
       "</div>"
      ],
      "text/plain": [
       "                rate\n",
       "year_month          \n",
       "2022-06-01  9.059758"
      ]
     },
     "execution_count": 20,
     "metadata": {},
     "output_type": "execute_result"
    }
   ],
   "source": [
    "# When inflation rate peaked\n",
    "df_cpi_2020.loc[df_cpi_2020[\"rate\"].idxmax().strftime(\"%Y-%m\")]"
   ]
  },
  {
   "cell_type": "code",
   "execution_count": 21,
   "id": "0fd42b38-d9db-4584-89a3-5e91007aecf6",
   "metadata": {},
   "outputs": [
    {
     "data": {
      "text/html": [
       "<div>\n",
       "<style scoped>\n",
       "    .dataframe tbody tr th:only-of-type {\n",
       "        vertical-align: middle;\n",
       "    }\n",
       "\n",
       "    .dataframe tbody tr th {\n",
       "        vertical-align: top;\n",
       "    }\n",
       "\n",
       "    .dataframe thead th {\n",
       "        text-align: right;\n",
       "    }\n",
       "</style>\n",
       "<table border=\"1\" class=\"dataframe\">\n",
       "  <thead>\n",
       "    <tr style=\"text-align: right;\">\n",
       "      <th></th>\n",
       "      <th>rate</th>\n",
       "    </tr>\n",
       "    <tr>\n",
       "      <th>year_month</th>\n",
       "      <th></th>\n",
       "    </tr>\n",
       "  </thead>\n",
       "  <tbody>\n",
       "    <tr>\n",
       "      <th>2023-06-01</th>\n",
       "      <td>2.969178</td>\n",
       "    </tr>\n",
       "  </tbody>\n",
       "</table>\n",
       "</div>"
      ],
      "text/plain": [
       "                rate\n",
       "year_month          \n",
       "2023-06-01  2.969178"
      ]
     },
     "execution_count": 21,
     "metadata": {},
     "output_type": "execute_result"
    }
   ],
   "source": [
    "# When inflation started to become sticky\n",
    "# Reverse df\n",
    "df_cpi_2020_rev = df_cpi_2020.iloc[::-1].copy()\n",
    "# Get its moving std\n",
    "df_cpi_2020_rev[\"rate_moving_std\"] = df_cpi_2020_rev[\"rate\"].rolling(window=10).std()\n",
    "# Get that reversed moving std (std of the next year-months) on the original df\n",
    "df_cpi_2020[\"reverse_rate_moving_std\"] = df_cpi_2020_rev[\"rate_moving_std\"].iloc[::-1].values\n",
    "# Get when reverse moving std goes above 0.3\n",
    "cpi_sticky_start = df_cpi_2020[df_cpi_2020[\"reverse_rate_moving_std\"] < 0.3].index[0].strftime(\"%Y-%m\")\n",
    "df_cpi_2020.loc[cpi_sticky_start][[\"rate\"]]"
   ]
  },
  {
   "cell_type": "code",
   "execution_count": 22,
   "id": "7dd5de5a-c33d-4393-916c-d6daf2f2f22a",
   "metadata": {},
   "outputs": [
    {
     "data": {
      "text/plain": [
       "3.3"
      ]
     },
     "execution_count": 22,
     "metadata": {},
     "output_type": "execute_result"
    }
   ],
   "source": [
    "# Average inflation since started to become sticky\n",
    "df_cpi[cpi_sticky_start:][\"rate\"].mean().round(2)"
   ]
  },
  {
   "cell_type": "code",
   "execution_count": 23,
   "id": "22c57925-c782-4536-b1b3-4bdbf3f93bf9",
   "metadata": {
    "scrolled": true
   },
   "outputs": [
    {
     "data": {
      "text/html": [
       "<div>\n",
       "<style scoped>\n",
       "    .dataframe tbody tr th:only-of-type {\n",
       "        vertical-align: middle;\n",
       "    }\n",
       "\n",
       "    .dataframe tbody tr th {\n",
       "        vertical-align: top;\n",
       "    }\n",
       "\n",
       "    .dataframe thead th {\n",
       "        text-align: right;\n",
       "    }\n",
       "</style>\n",
       "<table border=\"1\" class=\"dataframe\">\n",
       "  <thead>\n",
       "    <tr style=\"text-align: right;\">\n",
       "      <th></th>\n",
       "      <th>rate</th>\n",
       "    </tr>\n",
       "    <tr>\n",
       "      <th>year_month</th>\n",
       "      <th></th>\n",
       "    </tr>\n",
       "  </thead>\n",
       "  <tbody>\n",
       "    <tr>\n",
       "      <th>2022-03-01</th>\n",
       "      <td>0.2</td>\n",
       "    </tr>\n",
       "  </tbody>\n",
       "</table>\n",
       "</div>"
      ],
      "text/plain": [
       "            rate\n",
       "year_month      \n",
       "2022-03-01   0.2"
      ]
     },
     "execution_count": 23,
     "metadata": {},
     "output_type": "execute_result"
    }
   ],
   "source": [
    "# When the fed rate hikes started\n",
    "fed_rise_start = df_fed_2020.loc[df_fed_2020[\"rate\"].diff() > 0.1].index[0].strftime(\"%Y-%m\")\n",
    "df_fed_2020.loc[fed_rise_start]"
   ]
  },
  {
   "cell_type": "code",
   "execution_count": 24,
   "id": "575bc55e-e773-44cd-a946-d76ef8a46251",
   "metadata": {},
   "outputs": [
    {
     "data": {
      "text/html": [
       "<div>\n",
       "<style scoped>\n",
       "    .dataframe tbody tr th:only-of-type {\n",
       "        vertical-align: middle;\n",
       "    }\n",
       "\n",
       "    .dataframe tbody tr th {\n",
       "        vertical-align: top;\n",
       "    }\n",
       "\n",
       "    .dataframe thead th {\n",
       "        text-align: right;\n",
       "    }\n",
       "</style>\n",
       "<table border=\"1\" class=\"dataframe\">\n",
       "  <thead>\n",
       "    <tr style=\"text-align: right;\">\n",
       "      <th></th>\n",
       "      <th>rate</th>\n",
       "    </tr>\n",
       "    <tr>\n",
       "      <th>year_month</th>\n",
       "      <th></th>\n",
       "    </tr>\n",
       "  </thead>\n",
       "  <tbody>\n",
       "    <tr>\n",
       "      <th>2022-05-01</th>\n",
       "      <td>0.77</td>\n",
       "    </tr>\n",
       "  </tbody>\n",
       "</table>\n",
       "</div>"
      ],
      "text/plain": [
       "            rate\n",
       "year_month      \n",
       "2022-05-01  0.77"
      ]
     },
     "execution_count": 24,
     "metadata": {},
     "output_type": "execute_result"
    }
   ],
   "source": [
    "# When the fed big rate hikes started\n",
    "fed_big_rise_start = df_fed_2020.loc[df_fed_2020[\"rate\"].diff() > 0.4].index[0].strftime(\"%Y-%m\")\n",
    "df_fed_2020.loc[fed_big_rise_start]"
   ]
  },
  {
   "cell_type": "code",
   "execution_count": 25,
   "id": "df54250f-cdcb-4a1c-866b-c87a49918375",
   "metadata": {},
   "outputs": [
    {
     "data": {
      "text/html": [
       "<div>\n",
       "<style scoped>\n",
       "    .dataframe tbody tr th:only-of-type {\n",
       "        vertical-align: middle;\n",
       "    }\n",
       "\n",
       "    .dataframe tbody tr th {\n",
       "        vertical-align: top;\n",
       "    }\n",
       "\n",
       "    .dataframe thead th {\n",
       "        text-align: right;\n",
       "    }\n",
       "</style>\n",
       "<table border=\"1\" class=\"dataframe\">\n",
       "  <thead>\n",
       "    <tr style=\"text-align: right;\">\n",
       "      <th></th>\n",
       "      <th>rate</th>\n",
       "    </tr>\n",
       "    <tr>\n",
       "      <th>year_month</th>\n",
       "      <th></th>\n",
       "    </tr>\n",
       "  </thead>\n",
       "  <tbody>\n",
       "    <tr>\n",
       "      <th>2023-08-01</th>\n",
       "      <td>5.33</td>\n",
       "    </tr>\n",
       "  </tbody>\n",
       "</table>\n",
       "</div>"
      ],
      "text/plain": [
       "            rate\n",
       "year_month      \n",
       "2023-08-01  5.33"
      ]
     },
     "execution_count": 25,
     "metadata": {},
     "output_type": "execute_result"
    }
   ],
   "source": [
    "# When fed rate peaked\n",
    "df_fed_2020.loc[df_fed_2020[\"rate\"].idxmax().strftime(\"%Y-%m\")]"
   ]
  },
  {
   "cell_type": "code",
   "execution_count": 26,
   "id": "8fdb03e8-e725-4583-9660-2e46fcfcfad6",
   "metadata": {},
   "outputs": [
    {
     "data": {
      "text/plain": [
       "1.99"
      ]
     },
     "execution_count": 26,
     "metadata": {},
     "output_type": "execute_result"
    }
   ],
   "source": [
    "# Average difference between rates since inflation started to become sticky\n",
    "(df_fed[cpi_sticky_start:][\"rate\"].mean() - df_cpi[cpi_sticky_start:][\"rate\"].mean()).round(2)"
   ]
  },
  {
   "cell_type": "markdown",
   "id": "30baa42f-8a84-4777-85fe-19a5064ba6f6",
   "metadata": {},
   "source": [
    "**Key takeaways:**\n",
    "- In March 2021, the CPI breached 2%, quickly escalating to 4.16% the following month, culminating at about 9% by June 2022.\n",
    "- The Federal Reserve took about a year from the initial inflationary pressure to start the rate hikes, when inflation was no longer perceived as transitory.\n",
    "- Initially, the Fed's rate adjustments were gradual, beginning in March 2022, but gained momentum by May, reaching a peak in August 2023 before stabilizing.\n",
    "- Inflation decreased until June 2023, stabilizing at approximately 3.3%, still above the 2% target, and has remained \"sticky\" at this level.\n",
    "- During this \"sticky\" period, there was an average gap of about 2 percentage points between the Fed's interest rates and the CPI rate."
   ]
  }
 ],
 "metadata": {
  "kernelspec": {
   "display_name": "Python 3 (ipykernel)",
   "language": "python",
   "name": "python3"
  },
  "language_info": {
   "codemirror_mode": {
    "name": "ipython",
    "version": 3
   },
   "file_extension": ".py",
   "mimetype": "text/x-python",
   "name": "python",
   "nbconvert_exporter": "python",
   "pygments_lexer": "ipython3",
   "version": "3.12.5"
  }
 },
 "nbformat": 4,
 "nbformat_minor": 5
}
