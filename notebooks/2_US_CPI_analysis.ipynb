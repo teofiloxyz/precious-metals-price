{
 "cells": [
  {
   "cell_type": "markdown",
   "id": "e7c1a41e-d1bc-4a23-a26d-cd84d511eb1a",
   "metadata": {},
   "source": [
    "# Brief analysis of the US consumer price index (CPI) "
   ]
  },
  {
   "cell_type": "markdown",
   "id": "18dabc1b-1a11-4e6e-8863-b22814e07180",
   "metadata": {},
   "source": [
    "## Setup"
   ]
  },
  {
   "cell_type": "code",
   "execution_count": null,
   "id": "4865b262-5f1c-4402-9c88-b586a922775f",
   "metadata": {},
   "outputs": [],
   "source": [
    "import matplotlib.pyplot as plt\n",
    "import numpy as np\n",
    "import pandas as pd\n",
    "import seaborn as sns\n",
    "from scipy import signal"
   ]
  },
  {
   "cell_type": "code",
   "execution_count": null,
   "id": "88980fec-fc1f-4209-97bb-90a306096c25",
   "metadata": {},
   "outputs": [],
   "source": [
    "# Set charts theme\n",
    "sns.set_theme(style=\"darkgrid\", rc={\"grid.alpha\": 0.33})\n",
    "plt.style.use(\"dark_background\")"
   ]
  },
  {
   "cell_type": "code",
   "execution_count": null,
   "id": "7450536b-24ea-4212-b38a-f9e5e55d5848",
   "metadata": {},
   "outputs": [],
   "source": [
    "# Get US CPI and fed funds effective rate dfs\n",
    "df_cpi = pd.read_csv(\"../data/US_CPI_M.csv\")\n",
    "df_fed = pd.read_csv(\"../data/FED_FUNDS_EFFECTIVE_RATE_M.csv\")"
   ]
  },
  {
   "cell_type": "code",
   "execution_count": null,
   "id": "9d9fcbe3-683d-42b3-9f45-f1607bf0db29",
   "metadata": {},
   "outputs": [],
   "source": [
    "# Append the CPI estimate for April of 2024 to the CPI df\n",
    "new_row = pd.DataFrame({\"year_month\": [\"2024-04\"], \"rate\": [3.4]})\n",
    "df_cpi = pd.concat([df_cpi, new_row], ignore_index=True)"
   ]
  },
  {
   "cell_type": "code",
   "execution_count": null,
   "id": "24fbb716-bd80-4190-9891-ec851a9b5818",
   "metadata": {},
   "outputs": [],
   "source": [
    "# Set date as index for both dfs\n",
    "df_cpi[\"year_month\"] = pd.to_datetime(df_cpi[\"year_month\"])\n",
    "df_cpi.set_index(\"year_month\", inplace=True)\n",
    "df_fed[\"year_month\"] = pd.to_datetime(df_fed[\"year_month\"])\n",
    "df_fed.set_index(\"year_month\", inplace=True)"
   ]
  },
  {
   "cell_type": "markdown",
   "id": "0316af5b-283b-4575-95cc-6d9f06f6435e",
   "metadata": {},
   "source": [
    "## CPI analysis"
   ]
  },
  {
   "cell_type": "code",
   "execution_count": null,
   "id": "6bafa4b5-60b8-4efa-957b-dfb5fd22a0ec",
   "metadata": {},
   "outputs": [],
   "source": [
    "plt.figure(figsize=(14, 7))\n",
    "\n",
    "sns.lineplot(data=df_cpi,x=df_cpi.index,y=\"rate\", label=\"CPI\", color=\"yellow\", linewidth=0.75)\n",
    "plt.axhline(y=2, label=\"Fed 2% target\", color=\"red\", linewidth=1)\n",
    "\n",
    "plt.title(\"US consumer price index over time\")\n",
    "plt.xlabel(\"Date\")\n",
    "plt.ylabel(\"Rate (%)\")\n",
    "plt.legend()\n",
    "\n",
    "plt.tight_layout()\n",
    "plt.show()"
   ]
  },
  {
   "cell_type": "code",
   "execution_count": null,
   "id": "89bf5678-7bc7-46b3-b1e5-1a6f52c39d06",
   "metadata": {},
   "outputs": [],
   "source": [
    "# All time low\n",
    "df_cpi.loc[df_cpi[\"rate\"].idxmin()]"
   ]
  },
  {
   "cell_type": "code",
   "execution_count": null,
   "id": "589aecd2-4b53-4391-a043-a407cee12b15",
   "metadata": {},
   "outputs": [],
   "source": [
    "# All time high\n",
    "df_cpi.loc[df_cpi[\"rate\"].idxmax()]"
   ]
  },
  {
   "cell_type": "code",
   "execution_count": null,
   "id": "cd2a72d8-816b-478d-a55d-478e4ce3f72a",
   "metadata": {},
   "outputs": [],
   "source": [
    "# Highest 6 peaks\n",
    "peaks, _ = signal.find_peaks(df_cpi[\"rate\"], distance=36)\n",
    "df_cpi.iloc[peaks].nlargest(6, \"rate\").sort_values(\"year_month\").transpose()"
   ]
  },
  {
   "cell_type": "code",
   "execution_count": null,
   "id": "27492fa0-79ee-4e05-96af-b736d139006a",
   "metadata": {},
   "outputs": [],
   "source": [
    "# Lowest 6 valleys\n",
    "valleys , _ = signal.find_peaks(-df_cpi[\"rate\"], distance=36)\n",
    "df_cpi.iloc[valleys].nsmallest(6, \"rate\").sort_values(\"year_month\").transpose()"
   ]
  },
  {
   "cell_type": "code",
   "execution_count": null,
   "id": "8c02c987-6946-435a-b5fc-bc12baef84ae",
   "metadata": {},
   "outputs": [],
   "source": [
    "# get average inflation rate of each decade"
   ]
  },
  {
   "cell_type": "code",
   "execution_count": null,
   "id": "4ab11933-f193-49f0-9f94-c88c5ac198bc",
   "metadata": {},
   "outputs": [],
   "source": [
    "# Deflationary periods table (make into the periods and respective rate avg)\n",
    "df_cpi_def = df_cpi.loc[df_cpi[\"rate\"] < 0]"
   ]
  },
  {
   "cell_type": "code",
   "execution_count": null,
   "id": "e56e046c-d129-4c16-a4d6-e0021e791506",
   "metadata": {},
   "outputs": [],
   "source": [
    "# get longest period in which it was closest to the 2% target"
   ]
  },
  {
   "cell_type": "markdown",
   "id": "b1ace08f-d262-4b62-849e-113c3053e5f8",
   "metadata": {},
   "source": [
    "inflation started rising in the second half of 60s, up until 80 all time high. then quickly fell.\n",
    "only during the first hald of the 60s inflation was below the 2% target (considered a ceiling in the past). also during the 2010s until the end of the pandemic lockdowns inflation was sort of contained below that.\n",
    "most of the time, especially during the 70s and early 80s, inflation rate was really high.\n",
    "deflation only on 2009 and 2015."
   ]
  },
  {
   "cell_type": "markdown",
   "id": "d0967659-5011-41f3-ac43-1a3057a3d31c",
   "metadata": {},
   "source": [
    "## CPI (+ fed rate) since 2020 analysis"
   ]
  },
  {
   "cell_type": "markdown",
   "id": "36b81dd4-483a-4b96-9c7b-41d637a3f159",
   "metadata": {},
   "source": [
    "let's have a better look at inflation since 2020.\n",
    "let's also add the fed's rate"
   ]
  },
  {
   "cell_type": "code",
   "execution_count": null,
   "id": "942f6ae0-2967-4f43-a144-0f4ec451f107",
   "metadata": {},
   "outputs": [],
   "source": [
    "plt.figure(figsize=(14, 7))\n",
    "\n",
    "sns.lineplot(data=df_cpi[\"2020-01\":],x=df_cpi[\"2020-01\":].index,y=\"rate\", label=\"CPI\", color=\"yellow\", linewidth=1)\n",
    "sns.lineplot(data=df_fed[\"2020-01\":],x=df_fed[\"2020-01\":].index,y=\"rate\", label=\"Fed funds effective rate\", color=\"aqua\", linewidth=1)\n",
    "plt.axhline(y=2, label=\"Fed 2% target\", color=\"red\", linewidth=1)\n",
    "\n",
    "plt.title(\"US consumer price index and fed funds effective rate since 2020\")\n",
    "plt.xlabel(\"Date\")\n",
    "plt.ylabel(\"Rate (%)\")\n",
    "plt.legend()\n",
    "\n",
    "plt.tight_layout()\n",
    "plt.show()"
   ]
  },
  {
   "cell_type": "code",
   "execution_count": null,
   "id": "0b01ac7e-0805-48ab-89bd-184480f9c062",
   "metadata": {},
   "outputs": [],
   "source": [
    "df_cpi[\"2021-01-01\":\"2021-05-01\"]"
   ]
  },
  {
   "cell_type": "code",
   "execution_count": null,
   "id": "7264a21e-c513-40dc-b900-6eae48ab54bf",
   "metadata": {},
   "outputs": [],
   "source": [
    "df_cpi.loc[df_cpi[\"rate\"].idxmax()]"
   ]
  },
  {
   "cell_type": "markdown",
   "id": "f821cffc-460c-4902-a9a8-ad3805edd6de",
   "metadata": {},
   "source": [
    "As we can see CPI went above 2% on march of 2021, and the next month jumped to 4.16, peaking at about 9% on june of 2022"
   ]
  },
  {
   "cell_type": "code",
   "execution_count": null,
   "id": "22c57925-c782-4536-b1b3-4bdbf3f93bf9",
   "metadata": {},
   "outputs": [],
   "source": [
    "df_fed[\"2022-02-01\":\"2022-07-01\"]"
   ]
  },
  {
   "cell_type": "code",
   "execution_count": null,
   "id": "df54250f-cdcb-4a1c-866b-c87a49918375",
   "metadata": {},
   "outputs": [],
   "source": [
    "df_fed.loc[df_fed[\"rate\"].idxmax()]"
   ]
  },
  {
   "cell_type": "markdown",
   "id": "30baa42f-8a84-4777-85fe-19a5064ba6f6",
   "metadata": {},
   "source": [
    "the fed took about a year to start rising the rates, when inflation was no longer perceived as transitory.\n",
    "rates increased very slowly at first, and on May started rising fast, until it peaked on august of 2023, staynin the same since."
   ]
  },
  {
   "cell_type": "code",
   "execution_count": null,
   "id": "0fd42b38-d9db-4584-89a3-5e91007aecf6",
   "metadata": {},
   "outputs": [],
   "source": [
    "df_cpi[\"2023-04-01\":\"2023-07-01\"]"
   ]
  },
  {
   "cell_type": "code",
   "execution_count": null,
   "id": "7dd5de5a-c33d-4393-916c-d6daf2f2f22a",
   "metadata": {},
   "outputs": [],
   "source": [
    "df_cpi[\"2023-06-01\":].mean()"
   ]
  },
  {
   "cell_type": "code",
   "execution_count": null,
   "id": "8fdb03e8-e725-4583-9660-2e46fcfcfad6",
   "metadata": {},
   "outputs": [],
   "source": [
    "df_fed[\"2023-06-01\":].mean() - df_cpi[\"2023-06-01\":].mean()"
   ]
  },
  {
   "cell_type": "markdown",
   "id": "9d669b6d-808c-4860-9afe-c8e8632c5cd9",
   "metadata": {},
   "source": [
    "inflation came down until june of 2023, where it stabilized at about 3,3% (still above 2% mark) and became \"sticky\" since. \n",
    "about 2 percentage points on average the diff"
   ]
  },
  {
   "cell_type": "code",
   "execution_count": null,
   "id": "2fcc16cb-5a74-48ab-8199-21b1ca0a621a",
   "metadata": {},
   "outputs": [],
   "source": []
  }
 ],
 "metadata": {
  "kernelspec": {
   "display_name": "Python 3 (ipykernel)",
   "language": "python",
   "name": "python3"
  },
  "language_info": {
   "codemirror_mode": {
    "name": "ipython",
    "version": 3
   },
   "file_extension": ".py",
   "mimetype": "text/x-python",
   "name": "python",
   "nbconvert_exporter": "python",
   "pygments_lexer": "ipython3",
   "version": "3.12.3"
  }
 },
 "nbformat": 4,
 "nbformat_minor": 5
}
