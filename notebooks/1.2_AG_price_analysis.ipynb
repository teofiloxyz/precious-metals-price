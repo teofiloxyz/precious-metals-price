{
 "cells": [
  {
   "cell_type": "markdown",
   "id": "f2e5a385-8821-432d-b0ad-2a3f1ea57cec",
   "metadata": {},
   "source": [
    "# Analysis of the historical price of a troy ounce of silver"
   ]
  },
  {
   "cell_type": "markdown",
   "id": "5c14ed5b-a73b-4ccc-8ec8-fa251005600b",
   "metadata": {},
   "source": [
    "## Setup"
   ]
  },
  {
   "cell_type": "code",
   "execution_count": null,
   "id": "497f8e9c-5caa-4f8b-ad12-4d6e4e0f4608",
   "metadata": {},
   "outputs": [],
   "source": [
    "import matplotlib.pyplot as plt\n",
    "import pandas as pd\n",
    "import seaborn as sns\n",
    "from scipy import signal\n",
    "from statsmodels.tsa.seasonal import STL"
   ]
  },
  {
   "cell_type": "code",
   "execution_count": null,
   "id": "8fa00d40-73e7-4cab-92d6-f9cc4227a0d6",
   "metadata": {},
   "outputs": [],
   "source": [
    "# Get silver price df\n",
    "df_ag = pd.read_csv(\"../data/AG.csv\")"
   ]
  },
  {
   "cell_type": "code",
   "execution_count": null,
   "id": "2fbfff98-c36e-4093-b4b6-21b9b5d3cd5f",
   "metadata": {},
   "outputs": [],
   "source": [
    "# Set date as index of the df\n",
    "df_ag[\"date\"] = pd.to_datetime(df_ag[\"date\"])\n",
    "df_ag.set_index(\"date\", inplace=True)"
   ]
  },
  {
   "cell_type": "code",
   "execution_count": null,
   "id": "c791df2c-c177-4853-aa76-95a762bfe86e",
   "metadata": {},
   "outputs": [],
   "source": [
    "# Set charts theme\n",
    "sns.set_theme(style=\"darkgrid\", rc={\"grid.alpha\": 0.33})\n",
    "plt.style.use(\"dark_background\")"
   ]
  },
  {
   "cell_type": "code",
   "execution_count": null,
   "id": "ce5f8394-6bf9-406c-9c60-d91d94f2140a",
   "metadata": {},
   "outputs": [],
   "source": [
    "# Save chart as png function\n",
    "def save_chart_as_png(filename: str) -> None:\n",
    "    plt.savefig(\n",
    "        f\"../images/{filename}.png\",\n",
    "        format=\"png\",\n",
    "        dpi=300,\n",
    "        orientation=\"landscape\",\n",
    "        bbox_inches=\"tight\",\n",
    "    )"
   ]
  },
  {
   "cell_type": "markdown",
   "id": "26936cb4-d31a-4316-86c7-c2ad86e8da23",
   "metadata": {},
   "source": [
    "## Dataset basic info"
   ]
  },
  {
   "cell_type": "code",
   "execution_count": null,
   "id": "d7962cfb-ad79-4e94-8436-a0fc5588fc04",
   "metadata": {},
   "outputs": [],
   "source": [
    "# First and last entries\n",
    "pd.concat([df_ag.head(1), df_ag.tail(1)]).T"
   ]
  },
  {
   "cell_type": "code",
   "execution_count": null,
   "id": "7323c400-3f7c-45c3-8e20-81df9a2bcea4",
   "metadata": {},
   "outputs": [],
   "source": [
    "df_ag.describe().T"
   ]
  },
  {
   "cell_type": "code",
   "execution_count": null,
   "id": "fb25161f-eee8-4cce-8b21-11bc03e08b66",
   "metadata": {},
   "outputs": [],
   "source": [
    "# How many trading days per year on average\n",
    "days_per_year = df_ag[df_ag.index.year != 2024].index.year.value_counts()\n",
    "days_per_year.mean().round(2)"
   ]
  },
  {
   "cell_type": "markdown",
   "id": "25767cba-030f-4e7f-946e-4707115632a0",
   "metadata": {},
   "source": [
    "## Price of silver across time (long-term analysis)"
   ]
  },
  {
   "cell_type": "code",
   "execution_count": null,
   "id": "b1c8ba10-c6ad-4da1-bd1d-191b87d41228",
   "metadata": {},
   "outputs": [],
   "source": [
    "# Get 1-year moving average (252 trading days per year)\n",
    "df_ag[\"price_1y_ma\"] = df_ag[\"price\"].rolling(window=252).mean()"
   ]
  },
  {
   "cell_type": "code",
   "execution_count": null,
   "id": "8e3c36a1-b7f9-4970-b2d3-042eb86f2611",
   "metadata": {},
   "outputs": [],
   "source": [
    "plt.figure(figsize=(10, 6))\n",
    "\n",
    "sns.lineplot(data=df_ag, x=df_ag.index, y=\"price\", color=\"lightgrey\", linewidth=0.25)\n",
    "sns.lineplot(data=df_ag, x=df_ag.index, y=\"price_1y_ma\", label=\"Moving average (1-year)\", color=\"aqua\", linewidth=0.75)\n",
    "\n",
    "plt.title(\"Price of a troy ounce of silver across time\")\n",
    "plt.xlabel(\"\")\n",
    "plt.ylabel(\"\")\n",
    "\n",
    "plt.show()"
   ]
  },
  {
   "cell_type": "markdown",
   "id": "9583f45c-f9e1-4dd1-a4e2-9ae29d5fd7a7",
   "metadata": {},
   "source": [
    "**It's easier to see the early price fluctuations with a logarithmic scale on the y-axis**"
   ]
  },
  {
   "cell_type": "code",
   "execution_count": null,
   "id": "c6b4378d-f854-4e70-bef0-652b3ea05d58",
   "metadata": {},
   "outputs": [],
   "source": [
    "plt.figure(figsize=(10, 6))\n",
    "\n",
    "sns.lineplot(data=df_ag, x=df_ag.index, y=\"price\", color=\"lightgrey\", linewidth=0.25)\n",
    "sns.lineplot(data=df_ag, x=df_ag.index, y=\"price_1y_ma\", label=\"Moving average (1-year)\", color=\"aqua\", linewidth=0.75)\n",
    "\n",
    "# Compress the y axis to see early price fluctuations\n",
    "plt.yscale(\"log\")\n",
    "\n",
    "plt.title(\"Price of a troy ounce of silver across time\")\n",
    "plt.xlabel(\"\")\n",
    "plt.ylabel(\"\")\n",
    "\n",
    "plt.show()"
   ]
  },
  {
   "cell_type": "code",
   "execution_count": null,
   "id": "323ac8e4-8e45-4983-bef4-ac06657ddf31",
   "metadata": {},
   "outputs": [],
   "source": [
    "# All-time high\n",
    "ath_date = df_ag[\"price\"].idxmax()\n",
    "df_ag.loc[[ath_date]]"
   ]
  },
  {
   "cell_type": "code",
   "execution_count": null,
   "id": "cb5a2654-a787-4922-81e0-d199060baa61",
   "metadata": {},
   "outputs": [],
   "source": [
    "# All-time low\n",
    "atl_date = df_ag[\"price\"].idxmin()\n",
    "df_ag.loc[[atl_date]]"
   ]
  },
  {
   "cell_type": "code",
   "execution_count": null,
   "id": "96ee1971-e7d7-4414-a98d-d4738ef6739c",
   "metadata": {},
   "outputs": [],
   "source": [
    "# Peaks\n",
    "peaks, _ = signal.find_peaks(df_ag[\"price\"], distance=1000)\n",
    "df_ag.iloc[peaks].nlargest(12, \"price\").sort_values(\"date\")[[\"price\"]].T"
   ]
  },
  {
   "cell_type": "code",
   "execution_count": null,
   "id": "c8b83157-c684-4957-af81-47194a423777",
   "metadata": {},
   "outputs": [],
   "source": [
    "# Valleys\n",
    "valleys, _ = signal.find_peaks(-df_ag[\"price\"], distance=1000)\n",
    "df_ag.iloc[valleys].nsmallest(12, \"price\").sort_values(\"date\")[[\"price\"]].T"
   ]
  },
  {
   "cell_type": "code",
   "execution_count": null,
   "id": "59b066c9-d533-4072-946e-313a90239229",
   "metadata": {},
   "outputs": [],
   "source": [
    "# Price appreciation since first entry\n",
    "first_entry_price = df_ag.iloc[0][\"price\"]\n",
    "last_entry_price = df_ag.iloc[-1][\"price\"]\n",
    "(last_entry_price - first_entry_price) / first_entry_price"
   ]
  },
  {
   "cell_type": "markdown",
   "id": "45dc3b84-b6a2-4109-adb9-f8dc40adb486",
   "metadata": {},
   "source": [
    "**Key takeaways:**\n",
    "- Silver hit its historic low in 1970, hovering around \\$1.3.\n",
    "- Similar to gold, its value surged swiftly from the early 1970s.\n",
    "- The pinnacle was reached in 1980, soaring to \\$49.5.\n",
    "- Following this peak, a period of decline ensued until the early 1990s, stabilizing thereafter until the early 2000s.\n",
    "- Subsequently, there was a consistent ascent until the early 2010s, culminating in a peak of approximately \\$48.7 in 2011.\n",
    "- Despite some fluctuations, there was a general downtrend and stabilization until the onset of the pandemic, after which a renewed ascent began.\n",
    "- The price has appreciated by approximately 1,270% since its initial point."
   ]
  },
  {
   "cell_type": "markdown",
   "id": "fa37ad54-8c4e-49f5-84d7-9c45eb7d3a43",
   "metadata": {},
   "source": [
    "### Price change year-over-year"
   ]
  },
  {
   "cell_type": "code",
   "execution_count": null,
   "id": "5b7e6da4-d2a0-4e48-9c5f-a9a7bda36a2a",
   "metadata": {},
   "outputs": [],
   "source": [
    "# Get YoY returns\n",
    "# Get yearly silver price df with first and last prices\n",
    "df_ag_yearly = df_ag.groupby(df_ag.index.year)[\"price\"].agg(\n",
    "    first_price=\"first\",\n",
    "    last_price=\"last\"\n",
    ")\n",
    "# Get YoY return\n",
    "df_ag_yearly[\"price_change\"] = (df_ag_yearly[\"last_price\"] - df_ag_yearly[\"first_price\"]) / df_ag_yearly[\"first_price\"]"
   ]
  },
  {
   "cell_type": "code",
   "execution_count": null,
   "id": "c6f45553-11ea-4053-af21-b36a348121c4",
   "metadata": {},
   "outputs": [],
   "source": [
    "plt.figure(figsize=(10, 6))\n",
    "\n",
    "sns.barplot(data=df_ag_yearly, x=df_ag_yearly.index, y=\"price_change\", color=\"silver\")\n",
    "\n",
    "# Compress the y axis to see smaller bars\n",
    "plt.yscale(\"symlog\")\n",
    "\n",
    "plt.title(\"Year-over-year return of silver across time\")\n",
    "plt.xlabel(\"\")\n",
    "plt.ylabel(\"\")\n",
    "\n",
    "# Show only beginning of decade\n",
    "ax = plt.gca()\n",
    "for index, label in enumerate(ax.get_xticklabels()):\n",
    "    if index % 10 - 2 != 0:\n",
    "        label.set_visible(False)\n",
    "\n",
    "plt.show()"
   ]
  },
  {
   "cell_type": "code",
   "execution_count": null,
   "id": "2d65bf9e-5c17-45bf-ac1b-5640e893d2f8",
   "metadata": {},
   "outputs": [],
   "source": [
    "# Highest YoY return\n",
    "df_ag_yearly.loc[[df_ag_yearly[\"price_change\"].idxmax()]]"
   ]
  },
  {
   "cell_type": "code",
   "execution_count": null,
   "id": "99cd30c5-b5be-4581-b43b-d8342149d78b",
   "metadata": {},
   "outputs": [],
   "source": [
    "# Lowest YoY return\n",
    "df_ag_yearly.loc[[df_ag_yearly[\"price_change\"].idxmin()]]"
   ]
  },
  {
   "cell_type": "code",
   "execution_count": null,
   "id": "12a421e6-1271-459d-ac49-c2bfb64a39f4",
   "metadata": {},
   "outputs": [],
   "source": [
    "# Average YoY return\n",
    "df_ag_yearly[\"price_change\"].mean().round(4)"
   ]
  },
  {
   "cell_type": "code",
   "execution_count": null,
   "id": "78411396-b288-466d-bd28-ddace310cea5",
   "metadata": {},
   "outputs": [],
   "source": [
    "# Average YoY return excluding 1979\n",
    "df_ag_yearly.loc[df_ag_yearly.index != 1979,\"price_change\"].mean().round(4)"
   ]
  },
  {
   "cell_type": "code",
   "execution_count": null,
   "id": "7e9bdbd3-3892-448e-854e-102bd5f060ff",
   "metadata": {},
   "outputs": [],
   "source": [
    "# Median YoY return\n",
    "df_ag_yearly[\"price_change\"].median().round(4)"
   ]
  },
  {
   "cell_type": "code",
   "execution_count": null,
   "id": "771c21b6-e3b7-463c-a22e-dd94638239b3",
   "metadata": {},
   "outputs": [],
   "source": [
    "# Standard deviation YoY return\n",
    "df_ag_yearly[\"price_change\"].std().round(4)"
   ]
  },
  {
   "cell_type": "code",
   "execution_count": null,
   "id": "eccc2254-eb03-4283-962c-6acc163916fd",
   "metadata": {},
   "outputs": [],
   "source": [
    "# Cumulative product YoY return\n",
    "(1 + df_ag_yearly[\"price_change\"]).cumprod().iloc[-1].round(4) - 1"
   ]
  },
  {
   "cell_type": "code",
   "execution_count": null,
   "id": "f41c3a92-8c28-4315-ac4d-830cea25db59",
   "metadata": {},
   "outputs": [],
   "source": [
    "# Get max, min, average, median, standard deviation and cumulative product YoY return per decade\n",
    "df_ag_yearly[\"decade\"] = (df_ag_yearly.index // 10) * 10\n",
    "df_ag_yearly.groupby(\"decade\").agg(\n",
    "    max_yoy_price_change=(\"price_change\", lambda x: x.max().round(4)),\n",
    "    min_yoy_price_change=(\"price_change\", lambda x: x.min().round(4)),\n",
    "    avg_yoy_price_change=(\"price_change\", lambda x: x.mean().round(4)),\n",
    "    median_yoy_price_change=(\"price_change\", lambda x: x.median().round(4)),\n",
    "    std_yoy_price_change=(\"price_change\", lambda x: x.std().round(4)),\n",
    "    cumprod_yoy_price_change=(\"price_change\", lambda x: (1 + x).cumprod().iloc[-1].round(4) - 1),\n",
    "    dod_price_change=(\"decade\", lambda x: (df_ag_yearly.loc[x.index, \"last_price\"].iloc[-1] - df_ag_yearly.loc[x.index, \"first_price\"].iloc[0]) / df_ag_yearly.loc[x.index, \"first_price\"].iloc[0])\n",
    ").T"
   ]
  },
  {
   "cell_type": "markdown",
   "id": "03dc0d4b-b45c-4f02-b381-449fd94e4f17",
   "metadata": {},
   "source": [
    "**Key takeaways:**\n",
    "- In 1979, silver experienced an astonishing surge, with a remarkable 430% increase.\n",
    "- However, the following year, it plummeted, marking the lowest return at approximately -61.2%.\n",
    "- Over the years, silver has shown an average year-over-year return of approximately 11.8%, surpassing gold. Yet, the median return stands at -1.5%.\n",
    "- When 1979 is ignored, the average YoY drops significantly to about 4.4%.\n",
    "- Mirroring gold's performance, the 1970s emerged as the standout decade for silver, boasting an average YoY return of around 58%, with a much lower median.\n",
    "- The 1980s, in contrast, witnessed a downturn, with an average return of approximately -14%.\n",
    "- Transitioning into the 2000s, the average return was approximately 15%.\n",
    "- As we go through the current decade, silver continues to show promise with an average return of around 11.8%. However, the median return hovers around 4.6%."
   ]
  },
  {
   "cell_type": "markdown",
   "id": "17b9980d-d95f-4d8e-bacc-1e3503f0fce8",
   "metadata": {},
   "source": [
    "### Yearly volatility"
   ]
  },
  {
   "cell_type": "code",
   "execution_count": null,
   "id": "340a5b76-3471-413b-b048-f4c12eb899b6",
   "metadata": {},
   "outputs": [],
   "source": [
    "# Get daily price change\n",
    "df_ag[\"price_change\"] = df_ag[\"price\"].pct_change()"
   ]
  },
  {
   "cell_type": "code",
   "execution_count": null,
   "id": "4ad8f229-db8d-4c2a-95c3-557be294fb43",
   "metadata": {},
   "outputs": [],
   "source": [
    "# Biggest price changes\n",
    "df_ag.loc[df_ag[\"price_change\"].abs().sort_values(ascending=False).head(10).index, [\"price_change\"]].T"
   ]
  },
  {
   "cell_type": "code",
   "execution_count": null,
   "id": "a0269dd2-f03f-4e8f-b5c1-9b9c95748097",
   "metadata": {},
   "outputs": [],
   "source": [
    "# Get 1-year moving standard deviation\n",
    "df_ag[\"volatility_1y\"] = df_ag[\"price_change\"].rolling(window=252).std()"
   ]
  },
  {
   "cell_type": "code",
   "execution_count": null,
   "id": "2d5107d0-f03c-492a-902d-09417a8e7661",
   "metadata": {},
   "outputs": [],
   "source": [
    "plt.figure(figsize=(10, 6))\n",
    "\n",
    "sns.lineplot(data=df_ag,x=df_ag.index,y=\"volatility_1y\", color=\"red\", linewidth=0.75)\n",
    "\n",
    "plt.title(\"Yearly volatility of the price of silver across time\")\n",
    "plt.xlabel(\"\")\n",
    "plt.ylabel(\"\")\n",
    "\n",
    "plt.show()"
   ]
  },
  {
   "cell_type": "code",
   "execution_count": null,
   "id": "57cd729c-c195-4a61-8cf4-284a6cd47c09",
   "metadata": {},
   "outputs": [],
   "source": [
    "# All-time high\n",
    "ath_date = df_ag[\"volatility_1y\"].idxmax()\n",
    "df_ag.loc[[ath_date], [\"price\", \"volatility_1y\"]]"
   ]
  },
  {
   "cell_type": "code",
   "execution_count": null,
   "id": "3eee644c-ea26-4ac4-ac58-a9ad106624b2",
   "metadata": {},
   "outputs": [],
   "source": [
    "# All-time low\n",
    "atl_date = df_ag[\"volatility_1y\"].idxmin()\n",
    "df_ag.loc[[atl_date], [\"price\", \"volatility_1y\"]]"
   ]
  },
  {
   "cell_type": "code",
   "execution_count": null,
   "id": "5cecbc40-b4e8-4234-ba62-b4a7f8c8636d",
   "metadata": {},
   "outputs": [],
   "source": [
    "# Top 5 peaks\n",
    "peaks, _ = signal.find_peaks(df_ag[\"volatility_1y\"], distance=500)\n",
    "df_ag.iloc[peaks].nlargest(5, \"volatility_1y\").sort_values(\"date\")[[\"volatility_1y\"]].T"
   ]
  },
  {
   "cell_type": "code",
   "execution_count": null,
   "id": "e450906d-3c32-4f4e-9da4-3ee1545fea8a",
   "metadata": {},
   "outputs": [],
   "source": [
    "# Top 5 valleys\n",
    "valleys, _ = signal.find_peaks(-df_ag[\"volatility_1y\"], distance=500)\n",
    "df_ag.iloc[valleys].nsmallest(5, \"volatility_1y\").sort_values(\"date\")[[\"volatility_1y\"]].T"
   ]
  },
  {
   "cell_type": "code",
   "execution_count": null,
   "id": "c94e2336-5b6a-4d74-9e0e-2caa11069638",
   "metadata": {},
   "outputs": [],
   "source": [
    "# Average 1-year volatility\n",
    "df_ag[\"volatility_1y\"].mean().round(3)"
   ]
  },
  {
   "cell_type": "code",
   "execution_count": null,
   "id": "b9708406-e15f-4d6a-a48a-aef7451b7202",
   "metadata": {},
   "outputs": [],
   "source": [
    "# Average 1-year volatility per decade\n",
    "df_ag_dec = df_ag.groupby((df_ag.index.year // 10) * 10)\n",
    "df_ag_dec = df_ag_dec[\"volatility_1y\"].mean().round(3).reset_index()\n",
    "df_ag_dec.columns = [\"decade\", \"average_volatility_1y\"]\n",
    "df_ag_dec.set_index(\"decade\").T"
   ]
  },
  {
   "cell_type": "markdown",
   "id": "a99191ce-525b-4c8b-8c1e-85168182cebe",
   "metadata": {},
   "source": [
    "**Key takeaways:**\n",
    "- The 1980s witnessed the largest daily price fluctuations.\n",
    "- Over the years, the average yearly volatility has been 2%.\n",
    "- The all-time high was in in 1980, and the all-time low in 2001.\n",
    "- Periods of heightened volatility occurred during the mid-70s and early 80s, and also during major economic events such as the Great Recession, EU sovereign debt crisis, and the pandemic.\n",
    "- Conversely, the market was very stable during the 90s, early 2000s, and late 2010s."
   ]
  },
  {
   "cell_type": "markdown",
   "id": "226d81ae-5bfe-4917-a675-16873d97f101",
   "metadata": {},
   "source": [
    "### STL decomposition (trend, seasonality, and residuals)"
   ]
  },
  {
   "cell_type": "code",
   "execution_count": null,
   "id": "39d20028-eadb-4d0d-b7db-cba6bd4bceac",
   "metadata": {},
   "outputs": [],
   "source": [
    "stl = STL(df_ag[\"price\"], period=252).fit()"
   ]
  },
  {
   "cell_type": "code",
   "execution_count": null,
   "id": "0f7eb99d-dd05-47b8-8490-8d6df24350e9",
   "metadata": {},
   "outputs": [],
   "source": [
    "fig, axes = plt.subplots(4, 1, figsize=(10, 6), sharex=True)\n",
    "\n",
    "axes[0].plot(df_ag.index, df_ag[\"price\"], label=\"Original\", color=\"lightgrey\", linewidth=0.5)\n",
    "axes[0].set_title(\"Price of a troy ounce of silver across time\")\n",
    "\n",
    "axes[1].plot(df_ag.index, stl.trend, label=\"Trend\", color=\"aqua\", linewidth=1)\n",
    "axes[1].set_title(\"Trend component\")\n",
    "\n",
    "axes[2].plot(df_ag.index, stl.seasonal, label=\"Seasonal\", color=\"fuchsia\", linewidth=0.5)\n",
    "axes[2].set_title(\"Seasonal component\")\n",
    "\n",
    "axes[3].plot(df_ag.index, stl.resid, label=\"Residual\", color=\"orangered\", linewidth=0.5)\n",
    "axes[3].set_title(\"Residual component\")\n",
    "\n",
    "plt.tight_layout()\n",
    "plt.show()"
   ]
  },
  {
   "cell_type": "markdown",
   "id": "2dbbe93a-e24b-42f4-a635-cbea92c34fe5",
   "metadata": {},
   "source": [
    "#### Trend analysis"
   ]
  },
  {
   "cell_type": "code",
   "execution_count": null,
   "id": "96051bd6-b891-4999-971a-4de923543928",
   "metadata": {},
   "outputs": [],
   "source": [
    "plt.figure(figsize=(10, 6))\n",
    "\n",
    "plt.plot(stl.trend, color=\"aqua\", linewidth=1)\n",
    "\n",
    "plt.title(\"Trend component of the price of silver across time\")\n",
    "plt.xlabel(\"\")\n",
    "plt.ylabel(\"Trend\")\n",
    "\n",
    "plt.yscale(\"log\")\n",
    "\n",
    "plt.show()"
   ]
  },
  {
   "cell_type": "markdown",
   "id": "1a5ad46d-cfa6-4358-9346-22ea78b05274",
   "metadata": {},
   "source": [
    "**Key takeaways:**\n",
    "- The trend grew significantly throughout the 1970s.\n",
    "- Following this peak, there was a gradual decline until the 1990s.\n",
    "- After that, there was a resurgence from the early 2000s until the early 2010s.\n",
    "- There's 30-year valley spanning from the 1980s to the 2010s."
   ]
  },
  {
   "cell_type": "markdown",
   "id": "03cb0d66-b73d-48d7-a931-8f5168c29c6b",
   "metadata": {},
   "source": [
    "#### Seasonality analysis"
   ]
  },
  {
   "cell_type": "code",
   "execution_count": null,
   "id": "01f0ee30-9eea-4d33-b0be-2243d92fe4ed",
   "metadata": {},
   "outputs": [],
   "source": [
    "seasonal = stl.seasonal\n",
    "monthly_avgs = seasonal.groupby(seasonal.index.month).mean()\n",
    "\n",
    "plt.figure(figsize=(10, 6))\n",
    "\n",
    "plt.plot(monthly_avgs.index, monthly_avgs.values, marker='o', color=\"fuchsia\", linewidth=1)\n",
    "\n",
    "plt.title(\"Average of the seasonal component of price of silver over the year\")\n",
    "plt.xlabel(\"Month\")\n",
    "plt.ylabel(\"Seasonality\")\n",
    "\n",
    "plt.show()"
   ]
  },
  {
   "cell_type": "markdown",
   "id": "a19077fe-1ada-40f8-bb35-d33f3a710ace",
   "metadata": {},
   "source": [
    "**Key takeaways:**\n",
    "- Seasonality has variations across different years.\n",
    "- Just like gold, based on monthly averages, there's favorable seasons during the first four months of the year, with an additional peak in September."
   ]
  },
  {
   "cell_type": "markdown",
   "id": "f298dd2b-35cd-435f-b027-b90906af873f",
   "metadata": {},
   "source": [
    "## Price of silver year-to-date (short-term analysis)"
   ]
  },
  {
   "cell_type": "code",
   "execution_count": null,
   "id": "3368d1b5-f251-4d69-a5ad-487881c71ae6",
   "metadata": {},
   "outputs": [],
   "source": [
    "# Get YTD df\n",
    "df_ag_ytd = df_ag[\"2024\":].copy()"
   ]
  },
  {
   "cell_type": "code",
   "execution_count": null,
   "id": "da1e775f-d65f-43db-a465-3aeef4d2d6b0",
   "metadata": {},
   "outputs": [],
   "source": [
    "plt.figure(figsize=(10, 6))\n",
    "\n",
    "sns.lineplot(data=df_ag_ytd, x=df_ag_ytd.index, y=\"price\", color=\"lightgrey\", linewidth=1)\n",
    "\n",
    "plt.xticks(fontsize=8)\n",
    "\n",
    "plt.title(\"Price of a troy ounce of silver since 2024\")\n",
    "plt.xlabel(\"\")\n",
    "plt.ylabel(\"\")\n",
    "\n",
    "plt.show()"
   ]
  },
  {
   "cell_type": "code",
   "execution_count": null,
   "id": "f4801941-e863-421c-be3e-f1b3b1662d11",
   "metadata": {},
   "outputs": [],
   "source": [
    "# Price change YTD\n",
    "first_price = df_ag_ytd.iloc[0][\"price\"]\n",
    "last_price = df_ag_ytd.iloc[-1][\"price\"]\n",
    "(last_price - first_price) / first_price"
   ]
  },
  {
   "cell_type": "code",
   "execution_count": null,
   "id": "8f12e278-d099-43d5-abd4-35db656b376c",
   "metadata": {},
   "outputs": [],
   "source": [
    "# When the price quickly began to rise\n",
    "rise_start = df_ag_ytd.loc[df_ag_ytd[\"price\"].diff() > 0.75].index[0]\n",
    "df_ag_ytd.loc[[rise_start], [\"price\", \"price_change\"]].round(2)"
   ]
  },
  {
   "cell_type": "code",
   "execution_count": null,
   "id": "ab039ebb-a7a5-45a7-ab0f-70a14ced7730",
   "metadata": {},
   "outputs": [],
   "source": [
    "# When the price sort of peaked\n",
    "peak_date = df_ag_ytd[:\"2024-05-01\"][\"price\"].idxmax()\n",
    "df_ag_ytd.loc[[peak_date], [\"price\", \"price_change\"]].round(2)"
   ]
  },
  {
   "cell_type": "code",
   "execution_count": null,
   "id": "f95a3f2f-3a42-4203-b51b-54df11764071",
   "metadata": {},
   "outputs": [],
   "source": [
    "# Average daily price change during the rise\n",
    "df_ag_ytd.loc[rise_start:peak_date][\"price_change\"].mean().round(5)"
   ]
  },
  {
   "cell_type": "code",
   "execution_count": null,
   "id": "bf10f2d3-2f9d-45d4-9517-fa22d521e23e",
   "metadata": {},
   "outputs": [],
   "source": [
    "# Average price before the rise\n",
    "avg_price_before = df_ag_ytd.loc[:rise_start][\"price\"].mean().round(0)\n",
    "avg_price_before"
   ]
  },
  {
   "cell_type": "code",
   "execution_count": null,
   "id": "daebb9b0-8df5-48b3-bd1d-5f8803fa34c7",
   "metadata": {},
   "outputs": [],
   "source": [
    "# Average price after the peak\n",
    "avg_price_after = df_ag_ytd.loc[peak_date:][\"price\"].mean().round(0)\n",
    "avg_price_after"
   ]
  },
  {
   "cell_type": "code",
   "execution_count": null,
   "id": "38499e98-2782-4a45-8d53-9777cc46082a",
   "metadata": {},
   "outputs": [],
   "source": [
    "# Difference between the average prices\n",
    "((avg_price_after - avg_price_before) / avg_price_before).round(3)"
   ]
  },
  {
   "cell_type": "markdown",
   "id": "481c3a2e-1fa5-4b83-9761-3385c5d8a090",
   "metadata": {},
   "source": [
    "**Key takeaways:**\n",
    "- The year-to-date price change stands at approximately 24%.\n",
    "- Prior to the breakout, the average price lingered around \\$23.\n",
    "- A notable price breakout occurred in early March.\n",
    "- Post-breakout, the price exhibited an average daily increase of about 0.9%.\n",
    "- The price peaked around \\$29 in mid-April.\n",
    "- Since reaching its peak, the average price has stabilized around \\$28."
   ]
  },
  {
   "cell_type": "markdown",
   "id": "9ea4fabb-47cd-4d23-a977-00c3f546a3f7",
   "metadata": {},
   "source": [
    "### Weekly volatility"
   ]
  },
  {
   "cell_type": "code",
   "execution_count": null,
   "id": "05a08511-eb15-485c-b70c-5b7406e63e41",
   "metadata": {},
   "outputs": [],
   "source": [
    "# Get 1-week moving standard deviation (5 trading days per week)\n",
    "df_ag_ytd[\"volatility_1w\"] = df_ag_ytd[\"price_change\"].rolling(window=5).std()"
   ]
  },
  {
   "cell_type": "code",
   "execution_count": null,
   "id": "6a4807e3-860e-45e7-8b6c-1329204269ca",
   "metadata": {},
   "outputs": [],
   "source": [
    "plt.figure(figsize=(10, 6))\n",
    "\n",
    "sns.lineplot(data=df_ag_ytd, x=df_ag_ytd.index, y=\"volatility_1w\", color=\"red\", linewidth=1)\n",
    "\n",
    "plt.xticks(fontsize=8)\n",
    "\n",
    "plt.title(\"Weekly volatility of the price of silver across time\")\n",
    "plt.xlabel(\"\")\n",
    "plt.ylabel(\"\")\n",
    "\n",
    "plt.show()"
   ]
  },
  {
   "cell_type": "code",
   "execution_count": null,
   "id": "d373ac12-d40b-4176-a414-0be70639dfd0",
   "metadata": {},
   "outputs": [],
   "source": [
    "# Average volatility\n",
    "df_ag_ytd[\"volatility_1w\"].mean().round(4)"
   ]
  },
  {
   "cell_type": "markdown",
   "id": "ffa9ba05-8425-4976-b24b-1e77be26aa15",
   "metadata": {},
   "source": [
    "**Key takeaways:**\n",
    "- Average weekly volatility has been gradually increasing over time.\n",
    "- Unlike gold, silver has not shown any clear breakout trends."
   ]
  }
 ],
 "metadata": {
  "kernelspec": {
   "display_name": "Python 3 (ipykernel)",
   "language": "python",
   "name": "python3"
  },
  "language_info": {
   "codemirror_mode": {
    "name": "ipython",
    "version": 3
   },
   "file_extension": ".py",
   "mimetype": "text/x-python",
   "name": "python",
   "nbconvert_exporter": "python",
   "pygments_lexer": "ipython3",
   "version": "3.12.3"
  }
 },
 "nbformat": 4,
 "nbformat_minor": 5
}
