{
 "cells": [
  {
   "cell_type": "markdown",
   "id": "c0854b7a-681a-44ff-824b-7522ef2386f9",
   "metadata": {},
   "source": [
    "# Probabilistic forecasting of the gold price using Monte Carlo method"
   ]
  },
  {
   "cell_type": "markdown",
   "id": "41290e3b-af31-4ce0-a9de-72139f775d93",
   "metadata": {},
   "source": [
    "## Setup"
   ]
  },
  {
   "cell_type": "code",
   "execution_count": null,
   "id": "10e76297-5589-4ff6-b4a3-f4562dffcf2d",
   "metadata": {},
   "outputs": [],
   "source": [
    "import matplotlib.pyplot as plt\n",
    "import numpy as np\n",
    "import pandas as pd\n",
    "import seaborn as sns"
   ]
  },
  {
   "cell_type": "code",
   "execution_count": null,
   "id": "ce84034a-675e-405c-9a69-fb85d80e51bf",
   "metadata": {},
   "outputs": [],
   "source": [
    "# Get gold price df\n",
    "df_au = pd.read_csv(\"../data/AU.csv\")"
   ]
  },
  {
   "cell_type": "code",
   "execution_count": null,
   "id": "5cc27af4-4aa6-4a6d-9d9d-f042420824cb",
   "metadata": {},
   "outputs": [],
   "source": [
    "# Set date as index of the df\n",
    "df_au[\"date\"] = pd.to_datetime(df_au[\"date\"])\n",
    "df_au.set_index(\"date\", inplace=True)"
   ]
  },
  {
   "cell_type": "code",
   "execution_count": null,
   "id": "e05eafc3-c6aa-4338-96df-f7ab39ea8b09",
   "metadata": {},
   "outputs": [],
   "source": [
    "# Set charts theme\n",
    "sns.set_theme(style=\"darkgrid\", rc={\"grid.alpha\": 0.33})\n",
    "plt.style.use(\"dark_background\")"
   ]
  },
  {
   "cell_type": "code",
   "execution_count": null,
   "id": "86933bd5-bfa0-409f-b84a-aa4c548fa8bb",
   "metadata": {},
   "outputs": [],
   "source": [
    "# Save chart as png function\n",
    "def save_chart_as_png(filename: str) -> None:\n",
    "    plt.savefig(\n",
    "        f\"../images/{filename}.png\",\n",
    "        format=\"png\",\n",
    "        dpi=300,\n",
    "        orientation=\"landscape\",\n",
    "        bbox_inches=\"tight\",\n",
    "    )"
   ]
  },
  {
   "cell_type": "markdown",
   "id": "10e19bf1-3869-4627-944d-619470d27d65",
   "metadata": {},
   "source": [
    "## Short-term forecast (1 year)"
   ]
  },
  {
   "cell_type": "code",
   "execution_count": null,
   "id": "340a5b76-3471-413b-b048-f4c12eb899b6",
   "metadata": {},
   "outputs": [],
   "source": [
    "# Get daily price change\n",
    "df_au[\"price_change\"] = df_au[\"price\"].pct_change()\n",
    "# Get the mean and standard deviation of price changes\n",
    "price_change_avg = df_au[\"price_change\"].mean()\n",
    "price_change_std = df_au[\"price_change\"].std()"
   ]
  },
  {
   "cell_type": "code",
   "execution_count": null,
   "id": "bd7b62e7-7736-4da0-be0c-5ccf9b1148f6",
   "metadata": {},
   "outputs": [],
   "source": [
    "# Get simulation parameters\n",
    "num_simulations = 10000\n",
    "num_days = 252\n",
    "# Initialize df and pre-allocate for efficiency\n",
    "df_mcs = pd.DataFrame(index=range(num_days + 1), columns=range(num_simulations))\n",
    "# Get last price as starting point\n",
    "last_price = df_au[\"price\"].iloc[-1]\n",
    "# Append last price to df\n",
    "df_mcs.iloc[0, :] = last_price\n",
    "# Generate random simulations\n",
    "for simulation in range(num_simulations):\n",
    "    # Generate random daily returns series\n",
    "    daily_returns = np.random.normal(price_change_avg, price_change_std, num_days)\n",
    "    # Get price series from daily returns series\n",
    "    price_series = last_price * (1 + daily_returns).cumprod()\n",
    "    # Append price series to df\n",
    "    df_mcs.iloc[1:, simulation] = price_series"
   ]
  },
  {
   "cell_type": "code",
   "execution_count": null,
   "id": "df3b0390-b310-432a-884d-415fb0ca1189",
   "metadata": {},
   "outputs": [],
   "source": [
    "plt.figure(figsize=(14, 8))\n",
    "\n",
    "plt.plot(df_mcs)\n",
    "\n",
    "plt.title(\"Monte Carlo simulation of gold prices for the next year\")\n",
    "plt.xlabel(\"Day\")\n",
    "plt.ylabel(\"Price\")\n",
    "\n",
    "plt.show()"
   ]
  },
  {
   "cell_type": "code",
   "execution_count": null,
   "id": "c2758d42-bbc5-468c-b75b-b6734831faaf",
   "metadata": {},
   "outputs": [],
   "source": [
    "# Get final prices of all the simulations\n",
    "final_prices = df_mcs.iloc[-1, :]"
   ]
  },
  {
   "cell_type": "code",
   "execution_count": null,
   "id": "673563ab-eaac-45cb-87cf-0a41ec23f867",
   "metadata": {},
   "outputs": [],
   "source": [
    "plt.figure(figsize=(14, 8))\n",
    "\n",
    "sns.histplot(final_prices, bins=25, stat=\"probability\", color=\"gold\", edgecolor=\"white\", alpha=0.5)\n",
    "\n",
    "# Add limits to x axis, to be able to see better the most likely values \n",
    "plt.xlim(1000, 5000)\n",
    "\n",
    "plt.title(\"Distribution of the final prices from the simulation\")\n",
    "plt.xlabel(\"Price of gold in one year\")\n",
    "plt.ylabel(\"Probability\")\n",
    "\n",
    "plt.show()"
   ]
  },
  {
   "cell_type": "code",
   "execution_count": null,
   "id": "4ae16cf9-7eb1-485d-9d0c-fc9cafe4f5d3",
   "metadata": {},
   "outputs": [],
   "source": [
    "# Get chance of price getting higher than ATH after 1 year\n",
    "au_max = df_au[\"price\"].max()\n",
    "final_prices[final_prices > au_max].count() / final_prices.count()"
   ]
  },
  {
   "cell_type": "code",
   "execution_count": null,
   "id": "126ba7e2-7194-4f0e-b650-870ef1fab7d4",
   "metadata": {},
   "outputs": [],
   "source": [
    "# Get chance of price getting higher than 3k after 1 year\n",
    "final_prices[final_prices > 3000].count() / final_prices.count()"
   ]
  },
  {
   "cell_type": "code",
   "execution_count": null,
   "id": "88d69d3e-f2b4-4df2-81d0-860f825fb730",
   "metadata": {},
   "outputs": [],
   "source": [
    "# Get chance of price getting lower than 2k after 1 year\n",
    "final_prices[final_prices < 2000].count() / final_prices.count()"
   ]
  },
  {
   "cell_type": "markdown",
   "id": "03c3d982-6441-42fe-af6c-fa560190d808",
   "metadata": {},
   "source": [
    "## Long-term forecast (10 years)"
   ]
  },
  {
   "cell_type": "code",
   "execution_count": null,
   "id": "acfb4879",
   "metadata": {},
   "outputs": [],
   "source": [
    "# Get simulation parameters\n",
    "num_simulations = 10000\n",
    "num_days = 2520\n",
    "# Initialize df and pre-allocate for efficiency\n",
    "df_mcs = pd.DataFrame(index=range(num_days + 1), columns=range(num_simulations))\n",
    "# Get last price as starting point\n",
    "last_price = df_au[\"price\"].iloc[-1]\n",
    "# Append last price to df\n",
    "df_mcs.iloc[0, :] = last_price\n",
    "# Generate random simulations\n",
    "for simulation in range(num_simulations):\n",
    "    # Generate random daily returns series\n",
    "    daily_returns = np.random.normal(price_change_avg, price_change_std, num_days)\n",
    "    # Get price series from daily returns series\n",
    "    price_series = last_price * (1 + daily_returns).cumprod()\n",
    "    # Append price series to df\n",
    "    df_mcs.iloc[1:, simulation] = price_series"
   ]
  },
  {
   "cell_type": "code",
   "execution_count": null,
   "id": "04d2321d",
   "metadata": {},
   "outputs": [],
   "source": [
    "plt.figure(figsize=(14, 8))\n",
    "\n",
    "plt.plot(df_mcs)\n",
    "\n",
    "plt.title(\"Monte Carlo simulation of gold prices for the next 10 years\")\n",
    "plt.xlabel(\"Day\")\n",
    "plt.ylabel(\"Price\")\n",
    "\n",
    "plt.show()"
   ]
  },
  {
   "cell_type": "code",
   "execution_count": null,
   "id": "120fb852",
   "metadata": {},
   "outputs": [],
   "source": [
    "# Get final prices of all the simulations\n",
    "final_prices = df_mcs.iloc[-1, :]"
   ]
  },
  {
   "cell_type": "code",
   "execution_count": null,
   "id": "eac818c6-2425-48f6-b0e2-fd6cdb7cdb9f",
   "metadata": {},
   "outputs": [],
   "source": [
    "plt.figure(figsize=(14, 8))\n",
    "\n",
    "sns.histplot(final_prices, bins=100, stat=\"probability\", color=\"gold\", edgecolor=\"white\", alpha=0.5)\n",
    "\n",
    "# Add limit to x axis, to be able to see better the most likely values \n",
    "plt.xlim(0, 20000)\n",
    "\n",
    "plt.title(\"Distribution of final prices from the simulation\")\n",
    "plt.xlabel(\"Price of gold in ten years\")\n",
    "plt.ylabel(\"Probability\")\n",
    "\n",
    "plt.show()"
   ]
  },
  {
   "cell_type": "code",
   "execution_count": null,
   "id": "b57ee23a-f783-4423-9ee6-453d36584022",
   "metadata": {},
   "outputs": [],
   "source": [
    "# Get chance of price getting higher than ATH after 10 years\n",
    "au_max = df_au[\"price\"].max()\n",
    "final_prices[final_prices > au_max].count() / final_prices.count()"
   ]
  },
  {
   "cell_type": "code",
   "execution_count": null,
   "id": "8899b78c-92bc-419a-89b1-3a8a41cdfedd",
   "metadata": {},
   "outputs": [],
   "source": [
    "# Get chance of price getting higher than 5k after 10 years\n",
    "final_prices[final_prices > 5000].count() / final_prices.count()"
   ]
  },
  {
   "cell_type": "code",
   "execution_count": null,
   "id": "d918d92e-336b-48a0-967d-77492650b7d3",
   "metadata": {},
   "outputs": [],
   "source": [
    "# Get chance of price getting lower than 2k after 10 years\n",
    "final_prices[final_prices < 2000].count() / final_prices.count()"
   ]
  }
 ],
 "metadata": {
  "kernelspec": {
   "display_name": "Python 3 (ipykernel)",
   "language": "python",
   "name": "python3"
  },
  "language_info": {
   "codemirror_mode": {
    "name": "ipython",
    "version": 3
   },
   "file_extension": ".py",
   "mimetype": "text/x-python",
   "name": "python",
   "nbconvert_exporter": "python",
   "pygments_lexer": "ipython3",
   "version": "3.12.3"
  }
 },
 "nbformat": 4,
 "nbformat_minor": 5
}
