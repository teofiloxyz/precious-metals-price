{
 "cells": [
  {
   "cell_type": "markdown",
   "id": "f2e5a385-8821-432d-b0ad-2a3f1ea57cec",
   "metadata": {},
   "source": [
    "# Analysis of the historical price of a troy ounce of gold"
   ]
  },
  {
   "cell_type": "markdown",
   "id": "5c14ed5b-a73b-4ccc-8ec8-fa251005600b",
   "metadata": {},
   "source": [
    "## Setup"
   ]
  },
  {
   "cell_type": "code",
   "execution_count": null,
   "id": "497f8e9c-5caa-4f8b-ad12-4d6e4e0f4608",
   "metadata": {},
   "outputs": [],
   "source": [
    "import matplotlib.pyplot as plt\n",
    "import pandas as pd\n",
    "import seaborn as sns\n",
    "from scipy import signal\n",
    "from statsmodels.tsa.seasonal import STL"
   ]
  },
  {
   "cell_type": "code",
   "execution_count": null,
   "id": "8fa00d40-73e7-4cab-92d6-f9cc4227a0d6",
   "metadata": {},
   "outputs": [],
   "source": [
    "# Get gold price df\n",
    "df_au = pd.read_csv(\"../data/AU.csv\")"
   ]
  },
  {
   "cell_type": "code",
   "execution_count": null,
   "id": "2fbfff98-c36e-4093-b4b6-21b9b5d3cd5f",
   "metadata": {},
   "outputs": [],
   "source": [
    "# Set date as index of the df, for more efficiency and simplicity\n",
    "df_au[\"date\"] = pd.to_datetime(df_au[\"date\"])\n",
    "df_au.set_index(\"date\", inplace=True)"
   ]
  },
  {
   "cell_type": "code",
   "execution_count": null,
   "id": "c791df2c-c177-4853-aa76-95a762bfe86e",
   "metadata": {},
   "outputs": [],
   "source": [
    "# Set charts theme\n",
    "sns.set_theme(style=\"darkgrid\", rc={\"grid.alpha\": 0.33})\n",
    "plt.style.use(\"dark_background\")"
   ]
  },
  {
   "cell_type": "markdown",
   "id": "26936cb4-d31a-4316-86c7-c2ad86e8da23",
   "metadata": {},
   "source": [
    "## Dataset basic info"
   ]
  },
  {
   "cell_type": "code",
   "execution_count": null,
   "id": "d7962cfb-ad79-4e94-8436-a0fc5588fc04",
   "metadata": {},
   "outputs": [],
   "source": [
    "df_au"
   ]
  },
  {
   "cell_type": "code",
   "execution_count": null,
   "id": "7323c400-3f7c-45c3-8e20-81df9a2bcea4",
   "metadata": {},
   "outputs": [],
   "source": [
    "df_au.describe()"
   ]
  },
  {
   "cell_type": "code",
   "execution_count": null,
   "id": "fb25161f-eee8-4cce-8b21-11bc03e08b66",
   "metadata": {},
   "outputs": [],
   "source": [
    "# check actual year period. 252 days?"
   ]
  },
  {
   "cell_type": "markdown",
   "id": "25767cba-030f-4e7f-946e-4707115632a0",
   "metadata": {},
   "source": [
    "## Price of gold across time (long-term)"
   ]
  },
  {
   "cell_type": "code",
   "execution_count": null,
   "id": "b1c8ba10-c6ad-4da1-bd1d-191b87d41228",
   "metadata": {},
   "outputs": [],
   "source": [
    "# Get 1-year moving average (252 trading days per year)\n",
    "df_au[\"price_1y_ma\"] = df_au[\"price\"].rolling(window=252).mean()"
   ]
  },
  {
   "cell_type": "code",
   "execution_count": null,
   "id": "8e3c36a1-b7f9-4970-b2d3-042eb86f2611",
   "metadata": {},
   "outputs": [],
   "source": [
    "plt.figure(figsize=(14, 8))\n",
    "\n",
    "sns.lineplot(data=df_au, x=df_au.index, y=\"price\", label=\"Price\", color=\"yellow\", linewidth=0.25)\n",
    "sns.lineplot(data=df_au, x=df_au.index, y=\"price_1y_ma\", label=\"Moving average (1-year)\", color=\"aqua\", linewidth=0.75)\n",
    "\n",
    "plt.title(\"Price of a troy ounce of gold across time\")\n",
    "plt.xlabel(\"Date\")\n",
    "plt.ylabel(\"Price\")\n",
    "\n",
    "plt.show()"
   ]
  },
  {
   "cell_type": "markdown",
   "id": "2bde2185-8f04-4dac-887c-2c03cb5b2648",
   "metadata": {},
   "source": [
    "it's more easy to see with log x ..."
   ]
  },
  {
   "cell_type": "code",
   "execution_count": null,
   "id": "c6b4378d-f854-4e70-bef0-652b3ea05d58",
   "metadata": {},
   "outputs": [],
   "source": [
    "plt.figure(figsize=(14, 8))\n",
    "\n",
    "sns.lineplot(data=df_au, x=df_au.index, y=\"price\", label=\"Price\", color=\"yellow\", linewidth=0.25)\n",
    "sns.lineplot(data=df_au, x=df_au.index, y=\"price_1y_ma\", label=\"Moving average (1-year)\", color=\"aqua\", linewidth=0.75)\n",
    "\n",
    "# Gotta compress the axis to see early price fluctuations\n",
    "plt.yscale(\"log\")\n",
    "\n",
    "plt.title(\"Price of a troy ounce of gold across time\")\n",
    "plt.xlabel(\"Date\")\n",
    "plt.ylabel(\"Price\")\n",
    "\n",
    "plt.show()"
   ]
  },
  {
   "cell_type": "code",
   "execution_count": null,
   "id": "cb5a2654-a787-4922-81e0-d199060baa61",
   "metadata": {},
   "outputs": [],
   "source": [
    "# All time low (of the dataset)\n",
    "df_au.loc[df_au['price'].idxmin()]"
   ]
  },
  {
   "cell_type": "code",
   "execution_count": null,
   "id": "323ac8e4-8e45-4983-bef4-ac06657ddf31",
   "metadata": {},
   "outputs": [],
   "source": [
    "# All time high\n",
    "df_au.loc[df_au['price'].idxmax()]"
   ]
  },
  {
   "cell_type": "code",
   "execution_count": null,
   "id": "96ee1971-e7d7-4414-a98d-d4738ef6739c",
   "metadata": {},
   "outputs": [],
   "source": [
    "# Peaks\n",
    "peaks, _ = signal.find_peaks(df_au[\"price\"], distance=1000)\n",
    "df_au.iloc[peaks].nlargest(12, \"price\").sort_values(\"date\")[[\"price\"]].transpose()"
   ]
  },
  {
   "cell_type": "code",
   "execution_count": null,
   "id": "c8b83157-c684-4957-af81-47194a423777",
   "metadata": {},
   "outputs": [],
   "source": [
    "# Valleys\n",
    "valleys, _ = signal.find_peaks(-df_au[\"price\"], distance=1000)\n",
    "df_au.iloc[valleys].nsmallest(12, \"price\").sort_values(\"date\")[[\"price\"]].transpose()"
   ]
  },
  {
   "cell_type": "code",
   "execution_count": null,
   "id": "5b7e6da4-d2a0-4e48-9c5f-a9a7bda36a2a",
   "metadata": {},
   "outputs": [],
   "source": [
    "# how much does the price change yearly on avg? make table\n",
    "#..."
   ]
  },
  {
   "cell_type": "markdown",
   "id": "0dd49a29-6e27-4655-b1cf-19e9323b5d48",
   "metadata": {},
   "source": [
    "**Main info**\n",
    "- The price rose rapidly since the early 70s, following the collapse of the Bretton Woods system in 1973.\n",
    "- Peaked in 1980.\n",
    "- Declined and stabilized until the early 2000s.\n",
    "- Rose consistently until the early 2010s.\n",
    "- Stabilized up until 2019.\n",
    "- Started rising again in 2019."
   ]
  },
  {
   "cell_type": "markdown",
   "id": "17b9980d-d95f-4d8e-bacc-1e3503f0fce8",
   "metadata": {},
   "source": [
    "### Volatility"
   ]
  },
  {
   "cell_type": "code",
   "execution_count": null,
   "id": "340a5b76-3471-413b-b048-f4c12eb899b6",
   "metadata": {},
   "outputs": [],
   "source": [
    "# Get daily price change\n",
    "df_au[\"price_change\"] = df_au[\"price\"].pct_change()"
   ]
  },
  {
   "cell_type": "code",
   "execution_count": null,
   "id": "a0269dd2-f03f-4e8f-b5c1-9b9c95748097",
   "metadata": {},
   "outputs": [],
   "source": [
    "# Get 1-year moving standard deviation\n",
    "df_au[\"volatility_1y\"] = df_au[\"price_change\"].rolling(window=252).std()\n",
    "df_au.dropna(subset=[\"volatility_1y\"], inplace=True)"
   ]
  },
  {
   "cell_type": "code",
   "execution_count": null,
   "id": "2d5107d0-f03c-492a-902d-09417a8e7661",
   "metadata": {},
   "outputs": [],
   "source": [
    "plt.figure(figsize=(14, 8))\n",
    "\n",
    "sns.lineplot(data=df_au,x=df_au.index,y=\"volatility_1y\", color=\"red\", linewidth=0.75)\n",
    "\n",
    "plt.title(\"Yearly volatility of the price of gold across time\")\n",
    "plt.xlabel(\"Date\")\n",
    "plt.ylabel(\"Volatility\")\n",
    "\n",
    "plt.show()"
   ]
  },
  {
   "cell_type": "code",
   "execution_count": null,
   "id": "4ad8f229-db8d-4c2a-95c3-557be294fb43",
   "metadata": {},
   "outputs": [],
   "source": [
    "# Biggest price changes\n",
    "df_au.loc[df_au[\"price_change\"].abs().sort_values(ascending=False).head(10).index, [\"price_change\"]].transpose()"
   ]
  },
  {
   "cell_type": "code",
   "execution_count": null,
   "id": "c967fe1b-6de6-4a84-bba9-e5de65fcdfe1",
   "metadata": {},
   "outputs": [],
   "source": [
    "# First time volatility 1,5%\n",
    "df_au[df_au[\"volatility_1y\"] > 0.015].iloc[0]"
   ]
  },
  {
   "cell_type": "code",
   "execution_count": null,
   "id": "98d7a000-4d62-4db7-a7f3-498fad9ae110",
   "metadata": {},
   "outputs": [],
   "source": [
    "# First time volatility above 1,5% since mid 80s\n",
    "df_au.query(\"volatility_1y > 0.02\").loc[\"1985-01-02\":].iloc[0]"
   ]
  },
  {
   "cell_type": "code",
   "execution_count": null,
   "id": "b9708406-e15f-4d6a-a48a-aef7451b7202",
   "metadata": {},
   "outputs": [],
   "source": [
    "# get volatility yearly on avg?\n",
    "#..."
   ]
  },
  {
   "cell_type": "markdown",
   "id": "3de541bf-a709-495c-b7e9-008c3522a055",
   "metadata": {},
   "source": [
    "Biggest 5 price changes were during the beginning of 1980.\n",
    "very volatile from mid 70s and peaking on early 80s; dotcom bubble; great recession and EU sovereign debt crisis; right now is not volatile.\n",
    "very stable during the 90s, and also now without counting  \n",
    "right at the end of collapse of the Bretton Woods system (1973) the volatility rose a lot."
   ]
  },
  {
   "cell_type": "markdown",
   "id": "226d81ae-5bfe-4917-a675-16873d97f101",
   "metadata": {},
   "source": [
    "### STL decomposition (trend, seasonality, and residuals)"
   ]
  },
  {
   "cell_type": "code",
   "execution_count": null,
   "id": "39d20028-eadb-4d0d-b7db-cba6bd4bceac",
   "metadata": {},
   "outputs": [],
   "source": [
    "stl = STL(df_au[\"price\"], period=252).fit()"
   ]
  },
  {
   "cell_type": "code",
   "execution_count": null,
   "id": "0f7eb99d-dd05-47b8-8490-8d6df24350e9",
   "metadata": {},
   "outputs": [],
   "source": [
    "fig, axes = plt.subplots(4, 1, figsize=(14, 8), sharex=True)\n",
    "\n",
    "axes[0].plot(df_au.index, df_au[\"price\"], label=\"Original\", color=\"yellow\", linewidth=0.5)\n",
    "axes[0].set_title(\"Price of a troy ounce of gold across time\")\n",
    "\n",
    "axes[1].plot(df_au.index, stl.trend, label=\"Trend\", color=\"aqua\", linewidth=1)\n",
    "axes[1].set_title(\"Trend component\")\n",
    "\n",
    "axes[2].plot(df_au.index, stl.seasonal, label=\"Seasonal\", color=\"fuchsia\", linewidth=0.5)\n",
    "axes[2].set_title(\"Seasonal component\")\n",
    "\n",
    "axes[3].plot(df_au.index, stl.resid, label=\"Residual\", color=\"orangered\", linewidth=0.5)\n",
    "axes[3].set_title(\"Residual component\")\n",
    "\n",
    "# plt.tight_layout()\n",
    "plt.show()"
   ]
  },
  {
   "cell_type": "code",
   "execution_count": null,
   "id": "96051bd6-b891-4999-971a-4de923543928",
   "metadata": {},
   "outputs": [],
   "source": [
    "plt.figure(figsize=(14, 8))\n",
    "\n",
    "plt.plot(stl.trend, color=\"aqua\", linewidth=1)\n",
    "\n",
    "plt.title(\"Trend component of the price of gold across time\")\n",
    "plt.xlabel(\"Date\")\n",
    "plt.ylabel(\"Trend\")\n",
    "\n",
    "plt.yscale(\"log\")\n",
    "\n",
    "plt.show()"
   ]
  },
  {
   "cell_type": "code",
   "execution_count": null,
   "id": "01f0ee30-9eea-4d33-b0be-2243d92fe4ed",
   "metadata": {},
   "outputs": [],
   "source": [
    "# try an average. 70s 80s ... all?\n",
    "seasonal = stl.seasonal\n",
    "specific_year = 2008\n",
    "seasonal_year = seasonal[seasonal.index.year == specific_year]\n",
    "#monthly_means = seasonal.groupby(seasonal.index.month).mean()\n",
    "\n",
    "# Convert the monthly means into a pandas Series with month names for readability\n",
    "#monthly_means.index = pd.to_datetime(monthly_means.index, format='%m').strftime('%B')\n",
    "plt.figure(figsize=(14, 8))\n",
    "\n",
    "plt.plot(seasonal_year.index, seasonal_year, color=\"fuchsia\", linewidth=0.75)\n",
    "\n",
    "plt.title(f\"Seasonal component of price of gold for the year {specific_year}\")\n",
    "plt.xlabel(\"Date\")\n",
    "plt.ylabel(\"Seasonality\")\n",
    "\n",
    "plt.show()"
   ]
  },
  {
   "cell_type": "markdown",
   "id": "9d87f735-b558-44d6-bc60-56e9637074f0",
   "metadata": {},
   "source": [
    "- Some analysts say that in mid-November gold enters a very good seasonal phase, which lasts until the second half of February.\n",
    "- Gotta work on this..."
   ]
  },
  {
   "cell_type": "markdown",
   "id": "f298dd2b-35cd-435f-b027-b90906af873f",
   "metadata": {},
   "source": [
    "## Price of gold year-to-date (short-term)"
   ]
  },
  {
   "cell_type": "code",
   "execution_count": null,
   "id": "3368d1b5-f251-4d69-a5ad-487881c71ae6",
   "metadata": {},
   "outputs": [],
   "source": [
    "# Get YTD df\n",
    "df_au_ytd = df_au[\"2024\":]"
   ]
  },
  {
   "cell_type": "code",
   "execution_count": null,
   "id": "da1e775f-d65f-43db-a465-3aeef4d2d6b0",
   "metadata": {},
   "outputs": [],
   "source": [
    "plt.figure(figsize=(14, 8))\n",
    "\n",
    "sns.lineplot(data=df_au_ytd, x=df_au_ytd.index, y=\"price\", color=\"yellow\", linewidth=1)\n",
    "\n",
    "plt.title(\"Price of a troy ounce of gold since 2024\")\n",
    "plt.xlabel(\"Date\")\n",
    "plt.ylabel(\"Price\")\n",
    "\n",
    "plt.show()"
   ]
  },
  {
   "cell_type": "code",
   "execution_count": null,
   "id": "8f12e278-d099-43d5-abd4-35db656b376c",
   "metadata": {},
   "outputs": [],
   "source": [
    "df_au[df_au[\"price\"] > 2070].iloc[0]"
   ]
  },
  {
   "cell_type": "code",
   "execution_count": null,
   "id": "ab039ebb-a7a5-45a7-ab0f-70a14ced7730",
   "metadata": {},
   "outputs": [],
   "source": [
    "df_au_ytd.loc[df_au_ytd[\"price\"].idxmax()]"
   ]
  },
  {
   "cell_type": "code",
   "execution_count": null,
   "id": "bf10f2d3-2f9d-45d4-9517-fa22d521e23e",
   "metadata": {},
   "outputs": [],
   "source": [
    "# get avg of jan-mar and apr-may\n",
    "#"
   ]
  },
  {
   "cell_type": "markdown",
   "id": "a89df5a3-9426-4b13-b577-7cb0f3b46d92",
   "metadata": {},
   "source": [
    "- Price broke out on early march,\n",
    "- peaking on mid april,\n",
    "- and recently rising again."
   ]
  },
  {
   "cell_type": "markdown",
   "id": "9ea4fabb-47cd-4d23-a977-00c3f546a3f7",
   "metadata": {},
   "source": [
    "### Volatility"
   ]
  },
  {
   "cell_type": "code",
   "execution_count": null,
   "id": "05a08511-eb15-485c-b70c-5b7406e63e41",
   "metadata": {},
   "outputs": [],
   "source": [
    "# Get 1-week moving standard deviation (5 trading days per week)\n",
    "df_au_ytd[\"volatility_1w\"] = df_au_ytd[\"price_change\"].rolling(window=5).std()\n",
    "df_au_ytd.dropna(subset=[\"volatility_1w\"], inplace=True)"
   ]
  },
  {
   "cell_type": "code",
   "execution_count": null,
   "id": "6a4807e3-860e-45e7-8b6c-1329204269ca",
   "metadata": {},
   "outputs": [],
   "source": [
    "plt.figure(figsize=(14, 8))\n",
    "\n",
    "sns.lineplot(data=df_au_ytd, x=df_au_ytd.index, y=\"volatility_1w\", color=\"red\", linewidth=1)\n",
    "\n",
    "plt.title(\"Weekly volatility of the price of gold across time\")\n",
    "plt.xlabel(\"Date\")\n",
    "plt.ylabel(\"Volatility\")\n",
    "\n",
    "plt.show()"
   ]
  },
  {
   "cell_type": "code",
   "execution_count": null,
   "id": "0b6ddf8b-51f3-4e8f-bee9-83aa23793eab",
   "metadata": {},
   "outputs": [],
   "source": [
    "# Breakout point\n",
    "df_au_ytd[df_au_ytd[\"volatility_1w\"] > 0.0125].iloc[0]"
   ]
  },
  {
   "cell_type": "code",
   "execution_count": null,
   "id": "b1589b6c-e2f3-4e2c-a9fb-05e494859cc2",
   "metadata": {},
   "outputs": [],
   "source": [
    "# get avg vol jan-mar and apr-may\n",
    "#"
   ]
  },
  {
   "cell_type": "markdown",
   "id": "eaa76a97-cb61-48f3-b145-c2b2d10d7de5",
   "metadata": {},
   "source": [
    "- the avg was ...\n",
    "- then broke out in march 21st\n",
    "- and avg became ... since."
   ]
  }
 ],
 "metadata": {
  "kernelspec": {
   "display_name": "Python 3 (ipykernel)",
   "language": "python",
   "name": "python3"
  },
  "language_info": {
   "codemirror_mode": {
    "name": "ipython",
    "version": 3
   },
   "file_extension": ".py",
   "mimetype": "text/x-python",
   "name": "python",
   "nbconvert_exporter": "python",
   "pygments_lexer": "ipython3",
   "version": "3.12.3"
  }
 },
 "nbformat": 4,
 "nbformat_minor": 5
}
