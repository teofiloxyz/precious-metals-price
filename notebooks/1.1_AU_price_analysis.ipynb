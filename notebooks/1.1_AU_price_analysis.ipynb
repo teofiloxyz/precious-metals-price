{
 "cells": [
  {
   "cell_type": "markdown",
   "id": "f2e5a385-8821-432d-b0ad-2a3f1ea57cec",
   "metadata": {},
   "source": [
    "# Analysis of the historical price of a troy ounce of gold"
   ]
  },
  {
   "cell_type": "markdown",
   "id": "5c14ed5b-a73b-4ccc-8ec8-fa251005600b",
   "metadata": {},
   "source": [
    "## Setup"
   ]
  },
  {
   "cell_type": "code",
   "execution_count": null,
   "id": "497f8e9c-5caa-4f8b-ad12-4d6e4e0f4608",
   "metadata": {},
   "outputs": [],
   "source": [
    "import matplotlib.pyplot as plt\n",
    "import pandas as pd\n",
    "import seaborn as sns\n",
    "from scipy import signal\n",
    "from statsmodels.tsa.seasonal import STL"
   ]
  },
  {
   "cell_type": "code",
   "execution_count": null,
   "id": "8fa00d40-73e7-4cab-92d6-f9cc4227a0d6",
   "metadata": {},
   "outputs": [],
   "source": [
    "# Get gold price df\n",
    "df_au = pd.read_csv(\"../data/AU.csv\")"
   ]
  },
  {
   "cell_type": "code",
   "execution_count": null,
   "id": "2fbfff98-c36e-4093-b4b6-21b9b5d3cd5f",
   "metadata": {},
   "outputs": [],
   "source": [
    "# Set date as index of the df, for more efficiency and simplicity\n",
    "df_au[\"date\"] = pd.to_datetime(df_au[\"date\"])\n",
    "df_au.set_index(\"date\", inplace=True)"
   ]
  },
  {
   "cell_type": "code",
   "execution_count": null,
   "id": "c791df2c-c177-4853-aa76-95a762bfe86e",
   "metadata": {},
   "outputs": [],
   "source": [
    "# Set charts theme\n",
    "sns.set_theme(style=\"darkgrid\", rc={\"grid.alpha\": 0.33})\n",
    "plt.style.use(\"dark_background\")"
   ]
  },
  {
   "cell_type": "code",
   "execution_count": null,
   "id": "f1a09c22-d30a-47ca-9c6a-fe118fef5156",
   "metadata": {},
   "outputs": [],
   "source": [
    "# Save chart as png function\n",
    "def save_chart_as_png(filename: str) -> None:\n",
    "    plt.savefig(\n",
    "        f\"../images/{filename}.png\",\n",
    "        format=\"png\",\n",
    "        dpi=300,\n",
    "        orientation=\"landscape\",\n",
    "        bbox_inches=\"tight\",\n",
    "    )"
   ]
  },
  {
   "cell_type": "markdown",
   "id": "26936cb4-d31a-4316-86c7-c2ad86e8da23",
   "metadata": {},
   "source": [
    "## Dataset basic info"
   ]
  },
  {
   "cell_type": "code",
   "execution_count": null,
   "id": "d7962cfb-ad79-4e94-8436-a0fc5588fc04",
   "metadata": {},
   "outputs": [],
   "source": [
    "# First and last entries\n",
    "pd.concat([df_au.head(1), df_au.tail(1)]).T"
   ]
  },
  {
   "cell_type": "code",
   "execution_count": null,
   "id": "7323c400-3f7c-45c3-8e20-81df9a2bcea4",
   "metadata": {},
   "outputs": [],
   "source": [
    "df_au.describe().T"
   ]
  },
  {
   "cell_type": "code",
   "execution_count": null,
   "id": "fb25161f-eee8-4cce-8b21-11bc03e08b66",
   "metadata": {},
   "outputs": [],
   "source": [
    "# How many trading days per year on average\n",
    "days_per_year = df_au[df_au.index.year != 2024].index.year.value_counts()\n",
    "days_per_year.mean().round(2)"
   ]
  },
  {
   "cell_type": "markdown",
   "id": "25767cba-030f-4e7f-946e-4707115632a0",
   "metadata": {},
   "source": [
    "## Price of gold across time (long-term analysis)"
   ]
  },
  {
   "cell_type": "code",
   "execution_count": null,
   "id": "b1c8ba10-c6ad-4da1-bd1d-191b87d41228",
   "metadata": {},
   "outputs": [],
   "source": [
    "# Get 1-year moving average (252 trading days per year)\n",
    "df_au[\"price_1y_ma\"] = df_au[\"price\"].rolling(window=252).mean()"
   ]
  },
  {
   "cell_type": "code",
   "execution_count": null,
   "id": "8e3c36a1-b7f9-4970-b2d3-042eb86f2611",
   "metadata": {},
   "outputs": [],
   "source": [
    "plt.figure(figsize=(10, 6))\n",
    "\n",
    "sns.lineplot(data=df_au, x=df_au.index, y=\"price\", color=\"yellow\", linewidth=0.25)\n",
    "sns.lineplot(data=df_au, x=df_au.index, y=\"price_1y_ma\", label=\"Moving average (1-year)\", color=\"aqua\", linewidth=0.75)\n",
    "\n",
    "plt.title(\"Price of a troy ounce of gold across time\")\n",
    "plt.xlabel(\"\")\n",
    "plt.ylabel(\"\")\n",
    "\n",
    "#save_chart_as_png(\"1.1_AU_price\")\n",
    "plt.show()"
   ]
  },
  {
   "cell_type": "markdown",
   "id": "2bde2185-8f04-4dac-887c-2c03cb5b2648",
   "metadata": {},
   "source": [
    "**It's easier to see the early price fluctuations with a logarithmic scale on the y-axis**"
   ]
  },
  {
   "cell_type": "code",
   "execution_count": null,
   "id": "c6b4378d-f854-4e70-bef0-652b3ea05d58",
   "metadata": {},
   "outputs": [],
   "source": [
    "plt.figure(figsize=(10, 6))\n",
    "\n",
    "sns.lineplot(data=df_au, x=df_au.index, y=\"price\", color=\"yellow\", linewidth=0.25)\n",
    "sns.lineplot(data=df_au, x=df_au.index, y=\"price_1y_ma\", label=\"Moving average (1-year)\", color=\"aqua\", linewidth=0.75)\n",
    "\n",
    "# Compress the y axis to see early price fluctuations\n",
    "plt.yscale(\"log\")\n",
    "\n",
    "plt.title(\"Price of a troy ounce of gold across time\")\n",
    "plt.xlabel(\"\")\n",
    "plt.ylabel(\"\")\n",
    "\n",
    "#save_chart_as_png(\"test2\")\n",
    "plt.show()"
   ]
  },
  {
   "cell_type": "code",
   "execution_count": null,
   "id": "323ac8e4-8e45-4983-bef4-ac06657ddf31",
   "metadata": {},
   "outputs": [],
   "source": [
    "# All-time high\n",
    "ath_date = df_au[\"price\"].idxmax()\n",
    "df_au.loc[[ath_date]]"
   ]
  },
  {
   "cell_type": "code",
   "execution_count": null,
   "id": "cb5a2654-a787-4922-81e0-d199060baa61",
   "metadata": {},
   "outputs": [],
   "source": [
    "# All-time low\n",
    "atl_date = df_au[\"price\"].idxmin()\n",
    "df_au.loc[[atl_date]]"
   ]
  },
  {
   "cell_type": "code",
   "execution_count": null,
   "id": "96ee1971-e7d7-4414-a98d-d4738ef6739c",
   "metadata": {},
   "outputs": [],
   "source": [
    "# Peaks\n",
    "peaks, _ = signal.find_peaks(df_au[\"price\"], distance=1000)\n",
    "df_au.iloc[peaks].nlargest(12, \"price\").sort_values(\"date\")[[\"price\"]].T"
   ]
  },
  {
   "cell_type": "code",
   "execution_count": null,
   "id": "c8b83157-c684-4957-af81-47194a423777",
   "metadata": {},
   "outputs": [],
   "source": [
    "# Valleys\n",
    "valleys, _ = signal.find_peaks(-df_au[\"price\"], distance=1000)\n",
    "df_au.iloc[valleys].nsmallest(12, \"price\").sort_values(\"date\")[[\"price\"]].T"
   ]
  },
  {
   "cell_type": "code",
   "execution_count": null,
   "id": "59b066c9-d533-4072-946e-313a90239229",
   "metadata": {},
   "outputs": [],
   "source": [
    "# Price appreciation since first entry\n",
    "first_entry_price = df_au.iloc[0][\"price\"]\n",
    "last_entry_price = df_au.iloc[-1][\"price\"]\n",
    "(last_entry_price - first_entry_price) / first_entry_price"
   ]
  },
  {
   "cell_type": "markdown",
   "id": "0dd49a29-6e27-4655-b1cf-19e9323b5d48",
   "metadata": {},
   "source": [
    "**Key takeaways:**\n",
    "- The all-time low occurred in 1970, with the price at approximately \\$35.\n",
    "- Prices surged rapidly from the early 1970s, following the collapse of the Bretton Woods system in 1973.\n",
    "- Reached a peak in 1980 at around \\$850.\n",
    "- Experienced a decline over the next 20 years.\n",
    "- Prices rose consistently until the early 2010s, peaking in 2011 at about \\$1,500.\n",
    "- Declined slightly until 2019, then started rising again.\n",
    "- An all-time high was achieved in April 2024, with prices nearing \\$2,400.\n",
    "- The price of gold has appreciated by approximately 6,670% since the first entry."
   ]
  },
  {
   "cell_type": "markdown",
   "id": "fa37ad54-8c4e-49f5-84d7-9c45eb7d3a43",
   "metadata": {},
   "source": [
    "### Price change year-over-year"
   ]
  },
  {
   "cell_type": "code",
   "execution_count": null,
   "id": "5b7e6da4-d2a0-4e48-9c5f-a9a7bda36a2a",
   "metadata": {},
   "outputs": [],
   "source": [
    "# Get YoY returns\n",
    "# Get yearly gold price df with first and last prices\n",
    "df_au_yearly = df_au.groupby(df_au.index.year)[\"price\"].agg(\n",
    "    first_price=\"first\",\n",
    "    last_price=\"last\"\n",
    ")\n",
    "# Get YoY return\n",
    "df_au_yearly[\"price_change\"] = (df_au_yearly[\"last_price\"] - df_au_yearly[\"first_price\"]) / df_au_yearly[\"first_price\"]"
   ]
  },
  {
   "cell_type": "code",
   "execution_count": null,
   "id": "c6f45553-11ea-4053-af21-b36a348121c4",
   "metadata": {},
   "outputs": [],
   "source": [
    "plt.figure(figsize=(10, 6))\n",
    "\n",
    "sns.barplot(data=df_au_yearly, x=df_au_yearly.index, y=\"price_change\", color=\"gold\")\n",
    "\n",
    "plt.title(\"Year-over-year return of gold across time\")\n",
    "plt.xlabel(\"\")\n",
    "plt.ylabel(\"\")\n",
    "\n",
    "# Show only beginning of decade\n",
    "ax = plt.gca()\n",
    "for index, label in enumerate(ax.get_xticklabels()):\n",
    "    if index % 10 - 2 != 0:\n",
    "        label.set_visible(False)\n",
    "\n",
    "plt.show()"
   ]
  },
  {
   "cell_type": "code",
   "execution_count": null,
   "id": "21991cd2-e639-4682-8843-90876b144494",
   "metadata": {},
   "outputs": [],
   "source": [
    "# Highest YoY return\n",
    "df_au_yearly.loc[[df_au_yearly[\"price_change\"].idxmax()]]"
   ]
  },
  {
   "cell_type": "code",
   "execution_count": null,
   "id": "074e7c6b-86d2-4fe2-8711-15d35b85509a",
   "metadata": {},
   "outputs": [],
   "source": [
    "# Lowest YoY return\n",
    "df_au_yearly.loc[[df_au_yearly[\"price_change\"].idxmin()]]"
   ]
  },
  {
   "cell_type": "code",
   "execution_count": null,
   "id": "12a421e6-1271-459d-ac49-c2bfb64a39f4",
   "metadata": {},
   "outputs": [],
   "source": [
    "# Average YoY return\n",
    "df_au_yearly[\"price_change\"].mean().round(4)"
   ]
  },
  {
   "cell_type": "code",
   "execution_count": null,
   "id": "453f7e95-b5aa-43b9-8325-e6defc068e31",
   "metadata": {},
   "outputs": [],
   "source": [
    "# Median YoY return\n",
    "df_au_yearly[\"price_change\"].median().round(4)"
   ]
  },
  {
   "cell_type": "code",
   "execution_count": null,
   "id": "771c21b6-e3b7-463c-a22e-dd94638239b3",
   "metadata": {},
   "outputs": [],
   "source": [
    "# Standard deviation YoY return\n",
    "df_au_yearly[\"price_change\"].std().round(4)"
   ]
  },
  {
   "cell_type": "code",
   "execution_count": null,
   "id": "ea2f4d80-83e5-4148-87cb-44ef837f7374",
   "metadata": {},
   "outputs": [],
   "source": [
    "# Cumulative product YoY return\n",
    "# This metric only differs from the \"price appreciation since first entry\" due to fluctuations between the price of last day of each year and the price of first day of the next year.\n",
    "(1 + df_au_yearly[\"price_change\"]).cumprod().iloc[-1].round(4) - 1"
   ]
  },
  {
   "cell_type": "code",
   "execution_count": null,
   "id": "95e69bd8-5ee1-49dd-adc2-4e845de81814",
   "metadata": {},
   "outputs": [],
   "source": [
    "# Get max, min, average, median, standard deviation and cumulative product YoY return per decade\n",
    "df_au_yearly[\"decade\"] = (df_au_yearly.index // 10) * 10\n",
    "df_au_yearly.groupby(\"decade\").agg(\n",
    "    max_yoy_price_change=(\"price_change\", lambda x: x.max().round(4)),\n",
    "    min_yoy_price_change=(\"price_change\", lambda x: x.min().round(4)),\n",
    "    avg_yoy_price_change=(\"price_change\", lambda x: x.mean().round(4)),\n",
    "    median_yoy_price_change=(\"price_change\", lambda x: x.median().round(4)),\n",
    "    std_yoy_price_change=(\"price_change\", lambda x: x.std().round(4)),\n",
    "    cumprod_yoy_price_change=(\"price_change\", lambda x: (1 + x).cumprod().iloc[-1].round(4) - 1),\n",
    "    dod_price_change=(\"decade\", lambda x: (df_au_yearly.loc[x.index, \"last_price\"].iloc[-1] - df_au_yearly.loc[x.index, \"first_price\"].iloc[0]) / df_au_yearly.loc[x.index, \"first_price\"].iloc[0])\n",
    ").T"
   ]
  },
  {
   "cell_type": "markdown",
   "id": "50c4ee68-a59e-439a-9348-685027a6db71",
   "metadata": {},
   "source": [
    "**Key takeaways:**\n",
    "- In 1979, gold achieved a remarkable year-over-year return of 130%.\n",
    "- Two years later, gold experienced its lowest return, dropping approximately 32.4%.\n",
    "- The average annual return for gold has been around 9.8%, with a median return of about 5.5%.\n",
    "- The 1970s were the most lucrative decade for gold, boasting an average annual return of 36%.\n",
    "- During the 1980s and 1990s, gold's performance lagged, with an average annual return of around -2%.\n",
    "- The 2000s delivered strong performance, with an average annual return of 15% and a median return of 21%.\n",
    "- The current decade has shown promising results so far, with an average annual return of 9.2% and a median return of 12.4%."
   ]
  },
  {
   "cell_type": "markdown",
   "id": "17b9980d-d95f-4d8e-bacc-1e3503f0fce8",
   "metadata": {},
   "source": [
    "### Yearly volatility"
   ]
  },
  {
   "cell_type": "code",
   "execution_count": null,
   "id": "340a5b76-3471-413b-b048-f4c12eb899b6",
   "metadata": {},
   "outputs": [],
   "source": [
    "# Get daily price change\n",
    "df_au[\"price_change\"] = df_au[\"price\"].pct_change()"
   ]
  },
  {
   "cell_type": "code",
   "execution_count": null,
   "id": "4ad8f229-db8d-4c2a-95c3-557be294fb43",
   "metadata": {},
   "outputs": [],
   "source": [
    "# Biggest price changes\n",
    "df_au.loc[df_au[\"price_change\"].abs().sort_values(ascending=False).head(10).index, [\"price_change\"]].T"
   ]
  },
  {
   "cell_type": "code",
   "execution_count": null,
   "id": "a0269dd2-f03f-4e8f-b5c1-9b9c95748097",
   "metadata": {},
   "outputs": [],
   "source": [
    "# Get 1-year moving standard deviation\n",
    "df_au[\"volatility_1y\"] = df_au[\"price_change\"].rolling(window=252).std()"
   ]
  },
  {
   "cell_type": "code",
   "execution_count": null,
   "id": "2d5107d0-f03c-492a-902d-09417a8e7661",
   "metadata": {},
   "outputs": [],
   "source": [
    "plt.figure(figsize=(10, 6))\n",
    "\n",
    "sns.lineplot(data=df_au, x=df_au.index, y=\"volatility_1y\", color=\"red\", linewidth=0.75)\n",
    "\n",
    "plt.title(\"Yearly volatility of the price of gold across time\")\n",
    "plt.xlabel(\"\")\n",
    "plt.ylabel(\"\")\n",
    "\n",
    "plt.show()"
   ]
  },
  {
   "cell_type": "code",
   "execution_count": null,
   "id": "57cd729c-c195-4a61-8cf4-284a6cd47c09",
   "metadata": {},
   "outputs": [],
   "source": [
    "# All-time high\n",
    "ath_date = df_au[\"volatility_1y\"].idxmax()\n",
    "df_au.loc[[ath_date], [\"price\", \"volatility_1y\"]]"
   ]
  },
  {
   "cell_type": "code",
   "execution_count": null,
   "id": "3eee644c-ea26-4ac4-ac58-a9ad106624b2",
   "metadata": {},
   "outputs": [],
   "source": [
    "# All-time low\n",
    "atl_date = df_au[\"volatility_1y\"].idxmin()\n",
    "df_au.loc[[atl_date], [\"price\", \"volatility_1y\"]]"
   ]
  },
  {
   "cell_type": "code",
   "execution_count": null,
   "id": "5cecbc40-b4e8-4234-ba62-b4a7f8c8636d",
   "metadata": {},
   "outputs": [],
   "source": [
    "# Top 5 peaks\n",
    "peaks, _ = signal.find_peaks(df_au[\"volatility_1y\"], distance=500)\n",
    "df_au.iloc[peaks].nlargest(5, \"volatility_1y\").sort_values(\"date\")[[\"volatility_1y\"]].T"
   ]
  },
  {
   "cell_type": "code",
   "execution_count": null,
   "id": "e450906d-3c32-4f4e-9da4-3ee1545fea8a",
   "metadata": {},
   "outputs": [],
   "source": [
    "# Top 5 valleys\n",
    "valleys, _ = signal.find_peaks(-df_au[\"volatility_1y\"], distance=500)\n",
    "df_au.iloc[valleys].nsmallest(5, \"volatility_1y\").sort_values(\"date\")[[\"volatility_1y\"]].T"
   ]
  },
  {
   "cell_type": "code",
   "execution_count": null,
   "id": "c94e2336-5b6a-4d74-9e0e-2caa11069638",
   "metadata": {},
   "outputs": [],
   "source": [
    "# Average 1-year volatility\n",
    "df_au[\"volatility_1y\"].mean().round(3)"
   ]
  },
  {
   "cell_type": "code",
   "execution_count": null,
   "id": "b9708406-e15f-4d6a-a48a-aef7451b7202",
   "metadata": {},
   "outputs": [],
   "source": [
    "# Average 1-year volatility per decade\n",
    "df_au_dec = df_au.groupby((df_au.index.year // 10) * 10)\n",
    "df_au_dec = df_au_dec[\"volatility_1y\"].mean().round(3).reset_index()\n",
    "df_au_dec.columns = [\"decade\", \"average_volatility_1y\"]\n",
    "df_au_dec.set_index(\"decade\").T"
   ]
  },
  {
   "cell_type": "markdown",
   "id": "3de541bf-a709-495c-b7e9-008c3522a055",
   "metadata": {},
   "source": [
    "**Key takeaways:**\n",
    "- The largest five daily price changes occurred at the beginning of 1980.\n",
    "- The average yearly volatility is 1.1%.\n",
    "- The all-time low occurred in 1970, whereas the all-time high was observed a decade later, with yearly volatility almost tenfold higher.\n",
    "- Volatility significantly increased following the collapse of the Bretton Woods system in 1973.\n",
    "- The market was highly volatile from the mid-1970s through the early 1980s, and during the dotcom bubble, the Great Recession, and the EU sovereign debt crisis.\n",
    "- The market remained very stable during the 1990s, and also during the current decade excluding the pandemic period."
   ]
  },
  {
   "cell_type": "markdown",
   "id": "226d81ae-5bfe-4917-a675-16873d97f101",
   "metadata": {},
   "source": [
    "### STL decomposition (trend, seasonality, and residuals)"
   ]
  },
  {
   "cell_type": "code",
   "execution_count": null,
   "id": "39d20028-eadb-4d0d-b7db-cba6bd4bceac",
   "metadata": {},
   "outputs": [],
   "source": [
    "stl = STL(df_au[\"price\"], period=252).fit()"
   ]
  },
  {
   "cell_type": "code",
   "execution_count": null,
   "id": "0f7eb99d-dd05-47b8-8490-8d6df24350e9",
   "metadata": {},
   "outputs": [],
   "source": [
    "fig, axes = plt.subplots(4, 1, figsize=(10, 6), sharex=True)\n",
    "\n",
    "axes[0].plot(df_au.index, df_au[\"price\"], label=\"Original\", color=\"yellow\", linewidth=0.5)\n",
    "axes[0].set_title(\"Price of a troy ounce of gold across time\")\n",
    "\n",
    "axes[1].plot(df_au.index, stl.trend, label=\"Trend\", color=\"aqua\", linewidth=1)\n",
    "axes[1].set_title(\"Trend component\")\n",
    "\n",
    "axes[2].plot(df_au.index, stl.seasonal, label=\"Seasonal\", color=\"fuchsia\", linewidth=0.5)\n",
    "axes[2].set_title(\"Seasonal component\")\n",
    "\n",
    "axes[3].plot(df_au.index, stl.resid, label=\"Residual\", color=\"orangered\", linewidth=0.5)\n",
    "axes[3].set_title(\"Residual component\")\n",
    "\n",
    "plt.tight_layout()\n",
    "plt.show()"
   ]
  },
  {
   "cell_type": "markdown",
   "id": "2dbbe93a-e24b-42f4-a635-cbea92c34fe5",
   "metadata": {},
   "source": [
    "#### Trend analysis"
   ]
  },
  {
   "cell_type": "code",
   "execution_count": null,
   "id": "96051bd6-b891-4999-971a-4de923543928",
   "metadata": {},
   "outputs": [],
   "source": [
    "plt.figure(figsize=(10, 6))\n",
    "\n",
    "plt.plot(stl.trend, color=\"aqua\", linewidth=1)\n",
    "\n",
    "plt.title(\"Trend component of the price of gold across time\")\n",
    "plt.xlabel(\"\")\n",
    "plt.ylabel(\"Trend\")\n",
    "\n",
    "plt.yscale(\"log\")\n",
    "\n",
    "plt.show()"
   ]
  },
  {
   "cell_type": "markdown",
   "id": "caf4e2ba-2c94-4449-978f-b355ceadecc5",
   "metadata": {},
   "source": [
    "**Key takeaways:**\n",
    "- The trend experienced significant growth during the 1970s.\n",
    "- There was a slow decline over the following 20 years.\n",
    "- Since then, it has been rising with notable consistency."
   ]
  },
  {
   "cell_type": "markdown",
   "id": "03cb0d66-b73d-48d7-a931-8f5168c29c6b",
   "metadata": {},
   "source": [
    "#### Seasonality analysis"
   ]
  },
  {
   "cell_type": "code",
   "execution_count": null,
   "id": "01f0ee30-9eea-4d33-b0be-2243d92fe4ed",
   "metadata": {},
   "outputs": [],
   "source": [
    "seasonal = stl.seasonal\n",
    "monthly_avgs = seasonal.groupby(seasonal.index.month).mean()\n",
    "\n",
    "plt.figure(figsize=(10, 6))\n",
    "\n",
    "plt.plot(monthly_avgs.index, monthly_avgs.values, marker='o', color=\"fuchsia\", linewidth=1)\n",
    "\n",
    "plt.title(\"Average of the seasonal component of price of gold over the year\")\n",
    "plt.xlabel(\"Month\")\n",
    "plt.ylabel(\"Seasonality\")\n",
    "\n",
    "plt.show()"
   ]
  },
  {
   "cell_type": "markdown",
   "id": "9d87f735-b558-44d6-bc60-56e9637074f0",
   "metadata": {},
   "source": [
    "**Key takeaways:**\n",
    "- Seasonal patterns exhibit variations over the years.\n",
    "- Based on monthly averages, it reveals favorable seasons during the first four months of the year and in September.\n",
    "- Some analysts suggest that gold experiences a strong seasonal phase starting in mid-November, extending until the second half of February."
   ]
  },
  {
   "cell_type": "markdown",
   "id": "f298dd2b-35cd-435f-b027-b90906af873f",
   "metadata": {},
   "source": [
    "## Price of gold year-to-date (short-term analysis)"
   ]
  },
  {
   "cell_type": "code",
   "execution_count": null,
   "id": "3368d1b5-f251-4d69-a5ad-487881c71ae6",
   "metadata": {},
   "outputs": [],
   "source": [
    "# Get YTD df\n",
    "df_au_ytd = df_au[\"2024\":].copy()"
   ]
  },
  {
   "cell_type": "code",
   "execution_count": null,
   "id": "da1e775f-d65f-43db-a465-3aeef4d2d6b0",
   "metadata": {},
   "outputs": [],
   "source": [
    "plt.figure(figsize=(10, 6))\n",
    "\n",
    "sns.lineplot(data=df_au_ytd, x=df_au_ytd.index, y=\"price\", color=\"yellow\", linewidth=1)\n",
    "\n",
    "plt.xticks(fontsize=8)\n",
    "\n",
    "plt.title(\"Price of a troy ounce of gold since 2024\")\n",
    "plt.xlabel(\"\")\n",
    "plt.ylabel(\"\")\n",
    "\n",
    "plt.show()"
   ]
  },
  {
   "cell_type": "code",
   "execution_count": null,
   "id": "f4801941-e863-421c-be3e-f1b3b1662d11",
   "metadata": {},
   "outputs": [],
   "source": [
    "# Price change YTD\n",
    "first_price = df_au_ytd.iloc[0][\"price\"]\n",
    "last_price = df_au_ytd.iloc[-1][\"price\"]\n",
    "(last_price - first_price) / first_price"
   ]
  },
  {
   "cell_type": "code",
   "execution_count": null,
   "id": "8f12e278-d099-43d5-abd4-35db656b376c",
   "metadata": {},
   "outputs": [],
   "source": [
    "# When the price quickly began to rise\n",
    "rise_start = df_au_ytd.loc[df_au_ytd[\"price\"].diff() > 20].index[0]\n",
    "df_au_ytd.loc[[rise_start], [\"price\", \"price_change\"]].round(2)"
   ]
  },
  {
   "cell_type": "code",
   "execution_count": null,
   "id": "ab039ebb-a7a5-45a7-ab0f-70a14ced7730",
   "metadata": {},
   "outputs": [],
   "source": [
    "# When the price peaked (which is also the ATH)\n",
    "peak_date = df_au_ytd[\"price\"].idxmax()\n",
    "df_au_ytd.loc[[peak_date], [\"price\", \"price_change\"]].round(2)"
   ]
  },
  {
   "cell_type": "code",
   "execution_count": null,
   "id": "f95a3f2f-3a42-4203-b51b-54df11764071",
   "metadata": {},
   "outputs": [],
   "source": [
    "# Average daily price change during the rise\n",
    "df_au_ytd.loc[rise_start:peak_date][\"price_change\"].mean().round(5)"
   ]
  },
  {
   "cell_type": "code",
   "execution_count": null,
   "id": "bf10f2d3-2f9d-45d4-9517-fa22d521e23e",
   "metadata": {},
   "outputs": [],
   "source": [
    "# Average price before the rise\n",
    "avg_price_before = df_au_ytd.loc[:rise_start][\"price\"].mean().round(0)\n",
    "avg_price_before"
   ]
  },
  {
   "cell_type": "code",
   "execution_count": null,
   "id": "daebb9b0-8df5-48b3-bd1d-5f8803fa34c7",
   "metadata": {},
   "outputs": [],
   "source": [
    "# Average price after the peak\n",
    "avg_price_after = df_au_ytd.loc[peak_date:][\"price\"].mean().round(0)\n",
    "avg_price_after"
   ]
  },
  {
   "cell_type": "code",
   "execution_count": null,
   "id": "38499e98-2782-4a45-8d53-9777cc46082a",
   "metadata": {},
   "outputs": [],
   "source": [
    "# Difference between the average prices\n",
    "((avg_price_after - avg_price_before) / avg_price_before).round(3)"
   ]
  },
  {
   "cell_type": "markdown",
   "id": "a89df5a3-9426-4b13-b577-7cb0f3b46d92",
   "metadata": {},
   "source": [
    "**Key takeaways:**\n",
    "- The year-to-date price change stands at a notable 17.4%, showcasing strong market movement.\n",
    "- Before the breakout, the average price hovered around \\$2,032.\n",
    "- The breakout occurred in early March.\n",
    "- Post-breakout, the price grew quickly, averaging a daily increase of approximately 0.5%.\n",
    "- By mid-April, the price peaked at \\$2,400.\n",
    "- After reaching all-time high in mid-April, the average price has since stabilized around \\$2,343, suggesting a period of consolidation."
   ]
  },
  {
   "cell_type": "markdown",
   "id": "9ea4fabb-47cd-4d23-a977-00c3f546a3f7",
   "metadata": {},
   "source": [
    "### Weekly volatility"
   ]
  },
  {
   "cell_type": "code",
   "execution_count": null,
   "id": "05a08511-eb15-485c-b70c-5b7406e63e41",
   "metadata": {},
   "outputs": [],
   "source": [
    "# Get 1-week moving standard deviation (5 trading days per week)\n",
    "df_au_ytd[\"volatility_1w\"] = df_au_ytd[\"price_change\"].rolling(window=5).std()"
   ]
  },
  {
   "cell_type": "code",
   "execution_count": null,
   "id": "6a4807e3-860e-45e7-8b6c-1329204269ca",
   "metadata": {},
   "outputs": [],
   "source": [
    "plt.figure(figsize=(10, 6))\n",
    "\n",
    "sns.lineplot(data=df_au_ytd, x=df_au_ytd.index, y=\"volatility_1w\", color=\"red\", linewidth=1)\n",
    "\n",
    "plt.xticks(fontsize=8)\n",
    "\n",
    "plt.title(\"Weekly volatility of the price of gold across time\")\n",
    "plt.xlabel(\"\")\n",
    "plt.ylabel(\"\")\n",
    "\n",
    "plt.show()"
   ]
  },
  {
   "cell_type": "code",
   "execution_count": null,
   "id": "0b6ddf8b-51f3-4e8f-bee9-83aa23793eab",
   "metadata": {},
   "outputs": [],
   "source": [
    "# Breakout point\n",
    "breakout_date = df_au_ytd[df_au_ytd[\"volatility_1w\"] > 0.0125].index[0]\n",
    "df_au_ytd.loc[[breakout_date], [\"price\", \"price_change\", \"volatility_1w\"]].round(2)"
   ]
  },
  {
   "cell_type": "code",
   "execution_count": null,
   "id": "d373ac12-d40b-4176-a414-0be70639dfd0",
   "metadata": {},
   "outputs": [],
   "source": [
    "# Average volatility before breakout\n",
    "avg_vol_before = df_au_ytd.loc[:breakout_date - pd.Timedelta(days=1)][\"volatility_1w\"].mean().round(4)\n",
    "avg_vol_before"
   ]
  },
  {
   "cell_type": "code",
   "execution_count": null,
   "id": "7d01a711-1316-44bc-bde9-1c5ee0742ec3",
   "metadata": {},
   "outputs": [],
   "source": [
    "# Average volatility after breakout\n",
    "avg_vol_after = df_au_ytd.loc[breakout_date:][\"volatility_1w\"].mean().round(4)\n",
    "avg_vol_after"
   ]
  },
  {
   "cell_type": "code",
   "execution_count": null,
   "id": "ff1244c8-2bde-4f95-a6ec-d93f47a337b7",
   "metadata": {},
   "outputs": [],
   "source": [
    "# Percent change between the average volatilities\n",
    "((avg_vol_after - avg_vol_before) / avg_vol_before).round(3)"
   ]
  },
  {
   "cell_type": "markdown",
   "id": "eaa76a97-cb61-48f3-b145-c2b2d10d7de5",
   "metadata": {},
   "source": [
    "**Key takeaways:**\n",
    "- In the beginning, weekly volatility averaged at 0.6%, indicating relative stability.\n",
    "- A breakout occurred on March 21st, dramatically altering the landscape.\n",
    "- Following the breakout, the average volatility surged to 1.3%, more than doubling its previous level."
   ]
  }
 ],
 "metadata": {
  "kernelspec": {
   "display_name": "Python 3 (ipykernel)",
   "language": "python",
   "name": "python3"
  },
  "language_info": {
   "codemirror_mode": {
    "name": "ipython",
    "version": 3
   },
   "file_extension": ".py",
   "mimetype": "text/x-python",
   "name": "python",
   "nbconvert_exporter": "python",
   "pygments_lexer": "ipython3",
   "version": "3.12.3"
  }
 },
 "nbformat": 4,
 "nbformat_minor": 5
}
