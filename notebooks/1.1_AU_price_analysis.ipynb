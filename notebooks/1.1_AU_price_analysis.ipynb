{
 "cells": [
  {
   "cell_type": "markdown",
   "id": "f2e5a385-8821-432d-b0ad-2a3f1ea57cec",
   "metadata": {},
   "source": [
    "# Analysis of the historical price of a troy ounce of gold"
   ]
  },
  {
   "cell_type": "code",
   "execution_count": null,
   "id": "497f8e9c-5caa-4f8b-ad12-4d6e4e0f4608",
   "metadata": {},
   "outputs": [],
   "source": [
    "import matplotlib.pyplot as plt\n",
    "import numpy as np\n",
    "import pandas as pd\n",
    "import seaborn as sns\n",
    "from scipy import signal\n",
    "from statsmodels.tsa.seasonal import STL"
   ]
  },
  {
   "cell_type": "code",
   "execution_count": null,
   "id": "c791df2c-c177-4853-aa76-95a762bfe86e",
   "metadata": {},
   "outputs": [],
   "source": [
    "# Set charts theme\n",
    "sns.set_theme(style=\"darkgrid\", rc={\"grid.alpha\": 0.33})\n",
    "plt.style.use(\"dark_background\")"
   ]
  },
  {
   "cell_type": "code",
   "execution_count": null,
   "id": "8fa00d40-73e7-4cab-92d6-f9cc4227a0d6",
   "metadata": {},
   "outputs": [],
   "source": [
    "# Get gold price df\n",
    "df_au = pd.read_csv(\"../data/AU.csv\")"
   ]
  },
  {
   "cell_type": "code",
   "execution_count": null,
   "id": "2fbfff98-c36e-4093-b4b6-21b9b5d3cd5f",
   "metadata": {},
   "outputs": [],
   "source": [
    "# Set date as index of the df, for more efficiency and simplicity\n",
    "df_au[\"date\"] = pd.to_datetime(df_au[\"date\"])\n",
    "df_au.set_index(\"date\", inplace=True)"
   ]
  },
  {
   "cell_type": "code",
   "execution_count": null,
   "id": "4b22abe7-f683-4350-b505-46e40e8af91f",
   "metadata": {},
   "outputs": [],
   "source": [
    "df_au.info()"
   ]
  },
  {
   "cell_type": "code",
   "execution_count": null,
   "id": "7323c400-3f7c-45c3-8e20-81df9a2bcea4",
   "metadata": {},
   "outputs": [],
   "source": [
    "df_au.describe()"
   ]
  },
  {
   "cell_type": "markdown",
   "id": "25767cba-030f-4e7f-946e-4707115632a0",
   "metadata": {},
   "source": [
    "## The price of gold across time"
   ]
  },
  {
   "cell_type": "code",
   "execution_count": null,
   "id": "b1c8ba10-c6ad-4da1-bd1d-191b87d41228",
   "metadata": {},
   "outputs": [],
   "source": [
    "# 1-year moving average (252 trading days per year)\n",
    "df_au[\"price_1y_ma\"] = df_au[\"price\"].rolling(window=252).mean()"
   ]
  },
  {
   "cell_type": "code",
   "execution_count": null,
   "id": "8e3c36a1-b7f9-4970-b2d3-042eb86f2611",
   "metadata": {},
   "outputs": [],
   "source": [
    "plt.figure(figsize=(14, 7))\n",
    "\n",
    "sns.lineplot(data=df_au,x=df_au.index,y=\"price\", label=\"Price\", color=\"gold\", linewidth=0.25)\n",
    "sns.lineplot(data=df_au,x=df_au.index,y=\"price_1y_ma\", label=\"Moving average (1-year)\", color=\"cyan\", linewidth=0.75)\n",
    "\n",
    "plt.title(\"Price of a troy ounce of gold across time\")\n",
    "plt.xlabel(\"Date\")\n",
    "plt.ylabel(\"Price per troy ounce\")\n",
    "\n",
    "# Gotta compress the axis to see early price changes\n",
    "plt.yscale(\"log\")\n",
    "\n",
    "plt.tight_layout()\n",
    "plt.show()"
   ]
  },
  {
   "cell_type": "code",
   "execution_count": null,
   "id": "cb5a2654-a787-4922-81e0-d199060baa61",
   "metadata": {},
   "outputs": [],
   "source": [
    "df_au.loc[df_au[\"price\"].idxmin()]"
   ]
  },
  {
   "cell_type": "code",
   "execution_count": null,
   "id": "323ac8e4-8e45-4983-bef4-ac06657ddf31",
   "metadata": {},
   "outputs": [],
   "source": [
    "df_au.loc[df_au[\"price\"].idxmax()]"
   ]
  },
  {
   "cell_type": "code",
   "execution_count": null,
   "id": "d3468f21-63f0-4994-bdf4-21e401ca8f24",
   "metadata": {},
   "outputs": [],
   "source": [
    "# need to get the three peaks\n",
    "peaks, _ = signal.find_peaks(df_au[\"price\"], distance=1000)\n",
    "df_au.iloc[peaks].nlargest(5, \"price\")\n",
    "# When broke all time high?"
   ]
  },
  {
   "cell_type": "markdown",
   "id": "0dd49a29-6e27-4655-b1cf-19e9323b5d48",
   "metadata": {},
   "source": [
    "- The price rose rapidly since the early 70s, following the collapse of the Bretton Woods system in 1973.\n",
    "- Peaked in 1980.\n",
    "- Declined and stabilized until the early 2000s.\n",
    "- Rose consistently until the early 2010s.\n",
    "- Stabilized up until 2019.\n",
    "- Started rising again in 2019."
   ]
  },
  {
   "cell_type": "code",
   "execution_count": null,
   "id": "340a5b76-3471-413b-b048-f4c12eb899b6",
   "metadata": {},
   "outputs": [],
   "source": [
    "df_au[\"price_change\"] = df_au[\"price\"].pct_change()"
   ]
  },
  {
   "cell_type": "markdown",
   "id": "e3900e4a-26d0-49ac-8fce-c25ccfeb0c0b",
   "metadata": {},
   "source": [
    "What were the top 10 days with the highest price change"
   ]
  },
  {
   "cell_type": "code",
   "execution_count": null,
   "id": "4ad8f229-db8d-4c2a-95c3-557be294fb43",
   "metadata": {},
   "outputs": [],
   "source": [
    "df_au.loc[df_au[\"price_change\"].abs().sort_values(ascending=False).head(10).index, [\"price_change\"]]"
   ]
  },
  {
   "cell_type": "markdown",
   "id": "bc965332-627e-4afc-a97d-c888baace5bc",
   "metadata": {},
   "source": [
    "Biggest 5 price changes were during the beginning of 1980."
   ]
  },
  {
   "cell_type": "code",
   "execution_count": null,
   "id": "a0269dd2-f03f-4e8f-b5c1-9b9c95748097",
   "metadata": {},
   "outputs": [],
   "source": [
    "# 1-year moving standard deviation (252 trading days per year)\n",
    "df_au[\"volatility_1y\"] = df_au[\"price_change\"].rolling(window=252).std()\n",
    "df_au.dropna(subset=[\"volatility_1y\"], inplace=True)"
   ]
  },
  {
   "cell_type": "code",
   "execution_count": null,
   "id": "2d5107d0-f03c-492a-902d-09417a8e7661",
   "metadata": {},
   "outputs": [],
   "source": [
    "plt.figure(figsize=(14, 7))\n",
    "\n",
    "sns.lineplot(data=df_au,x=df_au.index,y=\"volatility_1y\", color=\"gold\", linewidth=0.75)\n",
    "\n",
    "plt.title(\"Yearly volatility of the price of gold across time\")\n",
    "plt.xlabel(\"Date\")\n",
    "plt.ylabel(\"Volatility\")\n",
    "\n",
    "plt.tight_layout()\n",
    "plt.show()"
   ]
  },
  {
   "cell_type": "code",
   "execution_count": null,
   "id": "c967fe1b-6de6-4a84-bba9-e5de65fcdfe1",
   "metadata": {},
   "outputs": [],
   "source": [
    "# First time volatility 1,5%\n",
    "df_au[df_au[\"volatility_1y\"] > 0.015].iloc[0]"
   ]
  },
  {
   "cell_type": "code",
   "execution_count": null,
   "id": "98d7a000-4d62-4db7-a7f3-498fad9ae110",
   "metadata": {},
   "outputs": [],
   "source": [
    "# First time volatility above 1,5% since mid 80s\n",
    "df_au.query(\"volatility_1y > 0.02\").loc[\"1985-01-02\":].iloc[0]"
   ]
  },
  {
   "cell_type": "markdown",
   "id": "3de541bf-a709-495c-b7e9-008c3522a055",
   "metadata": {},
   "source": [
    "very volatile from mid 70s and peaking on early 80s; dotcom bubble; great recession and EU sovereign debt crisis; right now is not volatile.\n",
    "very stable during the 90s, and also now without counting  \n",
    "right at the end of collapse of the Bretton Woods system (1973) the volatility rose a lot."
   ]
  },
  {
   "cell_type": "markdown",
   "id": "f298dd2b-35cd-435f-b027-b90906af873f",
   "metadata": {},
   "source": [
    "### Short-term price analysis (year-to-date)"
   ]
  },
  {
   "cell_type": "code",
   "execution_count": null,
   "id": "2248f8c1-239e-4d7a-8cf1-aa76903408c6",
   "metadata": {},
   "outputs": [],
   "source": [
    "# Get gold YTD df\n",
    "df_au_ytd = df_au[\"2024-01-01\":].copy()"
   ]
  },
  {
   "cell_type": "code",
   "execution_count": null,
   "id": "da1e775f-d65f-43db-a465-3aeef4d2d6b0",
   "metadata": {},
   "outputs": [],
   "source": [
    "plt.figure(figsize=(14, 7))\n",
    "\n",
    "sns.lineplot(data=df_au_ytd,x=df_au_ytd.index,y=\"price\", color=\"gold\", linewidth=1)\n",
    "\n",
    "plt.title(\"Price of a troy ounce of gold across time\")\n",
    "plt.xlabel(\"Date\")\n",
    "plt.ylabel(\"Price\")\n",
    "\n",
    "plt.tight_layout()\n",
    "plt.show()"
   ]
  },
  {
   "cell_type": "code",
   "execution_count": null,
   "id": "8f12e278-d099-43d5-abd4-35db656b376c",
   "metadata": {},
   "outputs": [],
   "source": [
    "df_au_ytd[\"2024-02-29\":\"2024-03-07\"]"
   ]
  },
  {
   "cell_type": "code",
   "execution_count": null,
   "id": "ab039ebb-a7a5-45a7-ab0f-70a14ced7730",
   "metadata": {},
   "outputs": [],
   "source": [
    "df_au_ytd.loc[df_au_ytd[\"price\"].idxmax()]"
   ]
  },
  {
   "cell_type": "code",
   "execution_count": null,
   "id": "5809eb9c-2a68-4e20-b81c-54038ff4c05d",
   "metadata": {},
   "outputs": [],
   "source": [
    "# Price broke out on early march, peaking on mid april, and recently rising again."
   ]
  },
  {
   "cell_type": "code",
   "execution_count": null,
   "id": "0e6dd218-8d87-4eea-b921-e3666cdb0dae",
   "metadata": {},
   "outputs": [],
   "source": [
    "# lets get weekly volatility YTD!"
   ]
  },
  {
   "cell_type": "code",
   "execution_count": null,
   "id": "05a08511-eb15-485c-b70c-5b7406e63e41",
   "metadata": {},
   "outputs": [],
   "source": [
    "# 1-week moving standard deviation (5 trading days per week)\n",
    "df_au_ytd[\"volatility_1w\"] = df_au_ytd[\"price_change\"].rolling(window=5).std()\n",
    "df_au_ytd.dropna(subset=[\"volatility_1w\"], inplace=True)"
   ]
  },
  {
   "cell_type": "code",
   "execution_count": null,
   "id": "6a4807e3-860e-45e7-8b6c-1329204269ca",
   "metadata": {},
   "outputs": [],
   "source": [
    "plt.figure(figsize=(14, 7))\n",
    "\n",
    "sns.lineplot(data=df_au_ytd,x=df_au_ytd.index,y=\"volatility_1w\", color=\"gold\", linewidth=1)\n",
    "\n",
    "plt.title(\"Weekly volatility of the price of gold across time\")\n",
    "plt.xlabel(\"Date\")\n",
    "plt.ylabel(\"Volatility\")\n",
    "\n",
    "plt.tight_layout()\n",
    "plt.show()"
   ]
  },
  {
   "cell_type": "code",
   "execution_count": null,
   "id": "0b6ddf8b-51f3-4e8f-bee9-83aa23793eab",
   "metadata": {},
   "outputs": [],
   "source": [
    "# Breakout point\n",
    "df_au_ytd[df_au_ytd[\"volatility_1w\"] > 0.0125].iloc[0]"
   ]
  },
  {
   "cell_type": "code",
   "execution_count": null,
   "id": "b1589b6c-e2f3-4e2c-a9fb-05e494859cc2",
   "metadata": {},
   "outputs": [],
   "source": [
    "# weekly volatility was low, and suddenly increased on march 21st."
   ]
  },
  {
   "cell_type": "markdown",
   "id": "226d81ae-5bfe-4917-a675-16873d97f101",
   "metadata": {},
   "source": [
    "## Time series STL decomposition to observe trend, seasonality, and residuals"
   ]
  },
  {
   "cell_type": "code",
   "execution_count": null,
   "id": "0f7eb99d-dd05-47b8-8490-8d6df24350e9",
   "metadata": {},
   "outputs": [],
   "source": [
    "stl = STL(df_au[\"price\"], period=252)\n",
    "result = stl.fit()\n",
    "\n",
    "fig, axes = plt.subplots(4, 1, figsize=(14, 8), sharex=True)\n",
    "\n",
    "axes[0].plot(df_au.index, df_au[\"price\"], label=\"Original\", linewidth=0.5)\n",
    "axes[0].set_title(\"Original price\")\n",
    "\n",
    "axes[1].plot(df_au.index, result.trend, label=\"Trend\", color=\"C1\", linewidth=1)\n",
    "axes[1].set_title(\"Trend component\")\n",
    "\n",
    "axes[2].plot(df_au.index, result.seasonal, label=\"Seasonal\", color=\"C2\", linewidth=0.5)\n",
    "axes[2].set_title(\"Seasonal component\")\n",
    "\n",
    "axes[3].plot(df_au.index, result.resid, label=\"Residual\", color=\"C3\", linewidth=0.5)\n",
    "axes[3].set_title(\"Residual component\")\n",
    "\n",
    "plt.tight_layout()\n",
    "plt.show()"
   ]
  },
  {
   "cell_type": "code",
   "execution_count": null,
   "id": "96051bd6-b891-4999-971a-4de923543928",
   "metadata": {},
   "outputs": [],
   "source": [
    "plt.figure(figsize=(18, 7))\n",
    "\n",
    "plt.plot(result.trend, color=\"gold\", linewidth=1)\n",
    "\n",
    "plt.title(\"Trend\")\n",
    "plt.xlabel(\"Date\")\n",
    "plt.ylabel(\"Gold price trend\")\n",
    "\n",
    "plt.yscale(\"log\")\n",
    "\n",
    "plt.tight_layout()\n",
    "plt.show()"
   ]
  },
  {
   "cell_type": "code",
   "execution_count": null,
   "id": "01f0ee30-9eea-4d33-b0be-2243d92fe4ed",
   "metadata": {},
   "outputs": [],
   "source": [
    "seasonal = result.seasonal\n",
    "specific_year = 2008\n",
    "seasonal_year = seasonal[seasonal.index.year == specific_year]\n",
    "\n",
    "plt.figure(figsize=(16, 7))\n",
    "\n",
    "plt.plot(seasonal_year.index, seasonal_year, color=\"lightblue\", linewidth=0.75)\n",
    "\n",
    "plt.title(f\"Seasonal component for the year {specific_year}\")\n",
    "plt.xlabel(\"Date\")\n",
    "plt.ylabel(\"Seasonality\")\n",
    "\n",
    "plt.tight_layout()\n",
    "plt.show()"
   ]
  },
  {
   "cell_type": "code",
   "execution_count": null,
   "id": "6035fe65-0819-493d-8fd8-7b091d646d30",
   "metadata": {},
   "outputs": [],
   "source": [
    "# Some analysts say that in mid-November gold enters a very good seasonal phase, which lasts until the second half of February.\n",
    "# Gotta work on the seasonality of gold next..."
   ]
  }
 ],
 "metadata": {
  "kernelspec": {
   "display_name": "Python 3 (ipykernel)",
   "language": "python",
   "name": "python3"
  },
  "language_info": {
   "codemirror_mode": {
    "name": "ipython",
    "version": 3
   },
   "file_extension": ".py",
   "mimetype": "text/x-python",
   "name": "python",
   "nbconvert_exporter": "python",
   "pygments_lexer": "ipython3",
   "version": "3.12.3"
  }
 },
 "nbformat": 4,
 "nbformat_minor": 5
}
