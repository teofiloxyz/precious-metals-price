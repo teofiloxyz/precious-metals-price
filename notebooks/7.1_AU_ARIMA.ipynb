{
 "cells": [
  {
   "cell_type": "markdown",
   "id": "a6ab4558-8edf-4b23-8a50-6da80b136a5b",
   "metadata": {},
   "source": [
    "# Deterministic forecasting of the gold price using ARIMA method"
   ]
  },
  {
   "cell_type": "markdown",
   "id": "cbfe300f-a15c-4363-82a5-45b708a194df",
   "metadata": {},
   "source": [
    "## Setup"
   ]
  },
  {
   "cell_type": "code",
   "execution_count": null,
   "id": "5ba52249-cd78-40b5-b0c5-098977d635e2",
   "metadata": {},
   "outputs": [],
   "source": [
    "import matplotlib.pyplot as plt\n",
    "import numpy as np\n",
    "import pandas as pd\n",
    "import pmdarima as pm\n",
    "import seaborn as sns\n",
    "from sklearn.metrics import mean_absolute_error, mean_squared_error, r2_score\n",
    "from statsmodels.graphics.tsaplots import plot_acf, plot_pacf\n",
    "from statsmodels.tsa.arima.model import ARIMA\n",
    "from statsmodels.tsa.stattools import adfuller"
   ]
  },
  {
   "cell_type": "code",
   "execution_count": null,
   "id": "7f65294a-4f78-4456-b5fb-9d52a25870cc",
   "metadata": {},
   "outputs": [],
   "source": [
    "# Get gold price df and set date as index\n",
    "df_au = pd.read_csv(\"../data/AU.csv\", index_col=\"date\", parse_dates=True)"
   ]
  },
  {
   "cell_type": "code",
   "execution_count": null,
   "id": "07a37a6d-ccbc-4b2e-b084-f6c4adfcb341",
   "metadata": {},
   "outputs": [],
   "source": [
    "# Set charts theme\n",
    "sns.set_theme(style=\"darkgrid\", rc={\"grid.alpha\": 0.33})\n",
    "plt.style.use(\"dark_background\")\n",
    "\n",
    "# Save chart as png function\n",
    "def save_chart_as_png(filename: str) -> None:\n",
    "    plt.savefig(\n",
    "        f\"../images/{filename}.png\",\n",
    "        format=\"png\",\n",
    "        dpi=300,\n",
    "        orientation=\"landscape\",\n",
    "        bbox_inches=\"tight\",\n",
    "    )"
   ]
  },
  {
   "cell_type": "markdown",
   "id": "fb7e5fee-2a79-4fc4-b787-b01167512bd2",
   "metadata": {},
   "source": [
    "## Preparing the time series to fit the ARIMA models"
   ]
  },
  {
   "cell_type": "markdown",
   "id": "f5a49797-1adb-4d36-b54b-caf64fa5875b",
   "metadata": {},
   "source": [
    "### Resample to weekly prices"
   ]
  },
  {
   "cell_type": "code",
   "execution_count": null,
   "id": "0f292ff6-2109-41d7-8363-9b2dae92885a",
   "metadata": {},
   "outputs": [],
   "source": [
    "# Resample to weekly prices (taking the mean of the week)\n",
    "df_au = df_au.resample(\"W\").mean()\n",
    "df_au = df_au.asfreq(\"W\")\n",
    "# Front fill missing values\n",
    "df_au.ffill(inplace=True)"
   ]
  },
  {
   "cell_type": "markdown",
   "id": "70369fe4-dfbe-440c-9a14-7cd98beff1b2",
   "metadata": {},
   "source": [
    "### Split data into train and test"
   ]
  },
  {
   "cell_type": "code",
   "execution_count": null,
   "id": "512cc910-9934-40b5-aff6-62b1948fd348",
   "metadata": {},
   "outputs": [],
   "source": [
    "# Split the data into train and test sets based on date\n",
    "split_date = pd.Timestamp(\"2022-01-01\")\n",
    "df_au_train = df_au.loc[df_au.index < split_date].copy()\n",
    "df_au_test = df_au.loc[df_au.index >= split_date].copy()"
   ]
  },
  {
   "cell_type": "code",
   "execution_count": null,
   "id": "c67e0210-a839-4eed-898d-ac84ee17aa29",
   "metadata": {},
   "outputs": [],
   "source": [
    "# Check for missing values\n",
    "print(df_au_train.isnull().sum())\n",
    "print(df_au_test.isnull().sum())"
   ]
  },
  {
   "cell_type": "markdown",
   "id": "2f3a3378-4c75-4f58-a81a-275c4714df69",
   "metadata": {},
   "source": [
    "### Check if the time series is stationary"
   ]
  },
  {
   "cell_type": "code",
   "execution_count": null,
   "id": "c958dc56-a9b6-498c-b336-170e0936b2b7",
   "metadata": {},
   "outputs": [],
   "source": [
    "# Plot the df\n",
    "df_au_train.plot()"
   ]
  },
  {
   "cell_type": "markdown",
   "id": "11f9845d-01d6-49c5-96d8-84fe8b79ad8e",
   "metadata": {},
   "source": [
    "The plot clearly shows an upward trend, indicating the series is not stationary. Let's confirm this with other methods."
   ]
  },
  {
   "cell_type": "markdown",
   "id": "74cd66d7-9f52-4372-bcf9-599d60798d64",
   "metadata": {},
   "source": [
    "#### Autocorrelation function (ACF) and partial autocorrelation function (PACF)"
   ]
  },
  {
   "cell_type": "code",
   "execution_count": null,
   "id": "c2207c57-b692-4341-b9e3-f346c7ff0e43",
   "metadata": {},
   "outputs": [],
   "source": [
    "# Plot the acf and pacf\n",
    "acf = plot_acf(df_au_train)\n",
    "pacf = plot_pacf(df_au_train)"
   ]
  },
  {
   "cell_type": "markdown",
   "id": "e16e8af2-2be7-4cdd-b750-a8d80f0f01eb",
   "metadata": {},
   "source": [
    "- The autocorrelation function (ACF) plot shows that the correlations decline slowly, indicating a strong and persistent correlation over time. This slow decay suggests that the time series data is non-stationary.\n",
    "- The partial autocorrelation function (PACF) plot reveals that only the lag 1 value is significantly different from zero, indicating a strong correlation at lag 1 but not beyond. This pattern is typical of an autoregressive process.\n",
    "- Together, these observations suggest that the time series data is non-stationary and shows a high degree of autocorrelation."
   ]
  },
  {
   "cell_type": "markdown",
   "id": "0c867536-e683-48cd-bbcd-0971e9c373cf",
   "metadata": {},
   "source": [
    "#### Augmented Dickey–Fuller (ADF) test"
   ]
  },
  {
   "cell_type": "code",
   "execution_count": null,
   "id": "020048bd-d0da-47f9-929c-ecd3e421d8df",
   "metadata": {},
   "outputs": [],
   "source": [
    "# Perform ADF test\n",
    "adf_test  = adfuller(df_au_train)\n",
    "print(f\"p-value: {adf_test[1]}\")"
   ]
  },
  {
   "cell_type": "markdown",
   "id": "ff5b7b4d-fbc1-4ef4-9135-c17ea4a28ef1",
   "metadata": {},
   "source": [
    "- The ADF test results in a p-value close to 1, which is significantly greater than the 0.05 threshold.\n",
    "- A high p-value indicates that we fail to reject the null hypothesis of the ADF test, which states that the time series has a unit root (non-stationary)"
   ]
  },
  {
   "cell_type": "markdown",
   "id": "a08c032f-1066-4c86-9e5e-52ca25191a33",
   "metadata": {},
   "source": [
    "### Transform time series into stationary using differencing"
   ]
  },
  {
   "cell_type": "code",
   "execution_count": null,
   "id": "600adfd2-0de1-4add-91c8-cc4b6eabdb41",
   "metadata": {},
   "outputs": [],
   "source": [
    "# Create diff from df\n",
    "df_au_train_diff = df_au_train.diff().dropna()"
   ]
  },
  {
   "cell_type": "markdown",
   "id": "101f2723-d948-4063-a257-a23b4aa823da",
   "metadata": {},
   "source": [
    "### Check again for stationarity and determine ARIMA parameters"
   ]
  },
  {
   "cell_type": "code",
   "execution_count": null,
   "id": "ee7b9ffb-fd4b-40d7-a224-ffe11c1dfd7a",
   "metadata": {},
   "outputs": [],
   "source": [
    "# Plot the acf and pacf\n",
    "acf = plot_acf(df_au_train_diff)\n",
    "pacf = plot_pacf(df_au_train_diff)"
   ]
  },
  {
   "cell_type": "code",
   "execution_count": null,
   "id": "e2172276-231f-4b2c-874f-288ce000f09f",
   "metadata": {},
   "outputs": [],
   "source": [
    "# Perform ADF test\n",
    "adf_test  = adfuller(df_au_train_diff)\n",
    "print(f\"p-value: {adf_test[1]}\")"
   ]
  },
  {
   "cell_type": "markdown",
   "id": "1fcfef9b-2728-41a2-9e30-51c1211786bf",
   "metadata": {},
   "source": [
    "- After differencing, we can conclude that the time series is stationary with \"d\" = 1.\n",
    "- Based on the ACF and PACF plots, \"q\" is 1 and \"p\" is 1.\n",
    "- Let's use the pmdarima module to obtain the \"auto\" parameters."
   ]
  },
  {
   "cell_type": "markdown",
   "id": "db91b101-7aa3-4612-bee2-239c196871ec",
   "metadata": {},
   "source": [
    "### Determine the ARIMA parameters using pmdarima"
   ]
  },
  {
   "cell_type": "code",
   "execution_count": null,
   "id": "532d0a6d-175a-497e-9cc1-bb0c5536c848",
   "metadata": {},
   "outputs": [],
   "source": [
    "model_auto = pm.auto_arima(df_au_train, seasonal=True, m=52, trace=True, error_action=\"ignore\", suppress_warnings=True, stepwise=True)\n",
    "model_auto.summary()"
   ]
  },
  {
   "cell_type": "markdown",
   "id": "a02733f4-fb10-4ad0-b7c1-d7182a9a6266",
   "metadata": {},
   "source": [
    "## Fit the ARIMA models"
   ]
  },
  {
   "cell_type": "markdown",
   "id": "5c75892f-2445-4f4f-9f51-dbfae017bb4c",
   "metadata": {},
   "source": [
    "### Train the ARIMA models"
   ]
  },
  {
   "cell_type": "markdown",
   "id": "5a030641-1d4a-42ff-b1d9-b442adbdaa7d",
   "metadata": {},
   "source": [
    "#### Manual model"
   ]
  },
  {
   "cell_type": "code",
   "execution_count": null,
   "id": "2ab46e92-0894-477e-82e0-6e58d2e2883c",
   "metadata": {},
   "outputs": [],
   "source": [
    "manual_model = ARIMA(df_au_train, order=(1, 1, 1))\n",
    "manual_model_fit = manual_model.fit()\n",
    "manual_model_fit.summary()"
   ]
  },
  {
   "cell_type": "markdown",
   "id": "9ecb42a3-d582-4d36-84c5-045a5e59e3d9",
   "metadata": {},
   "source": [
    "#### Auto model"
   ]
  },
  {
   "cell_type": "code",
   "execution_count": null,
   "id": "8f72ab30-4ddc-42ed-881a-f19d038a3b07",
   "metadata": {},
   "outputs": [],
   "source": [
    "# Auto model is seasonal\n",
    "auto_model = ARIMA(df_au_train, order=model_auto.order, seasonal_order=model_auto.seasonal_order)\n",
    "auto_model_fit = auto_model.fit()\n",
    "auto_model_fit.summary()"
   ]
  },
  {
   "cell_type": "markdown",
   "id": "224b420d-c027-4aa0-8f20-c6ee61a7281d",
   "metadata": {},
   "source": [
    "### Check models residuals"
   ]
  },
  {
   "cell_type": "markdown",
   "id": "08b0626b-22ea-4b53-81c2-81fda5f7a635",
   "metadata": {},
   "source": [
    "#### Manual model"
   ]
  },
  {
   "cell_type": "code",
   "execution_count": null,
   "id": "ccae6cb5-ff00-46e6-87ff-7f9cbd3d9ded",
   "metadata": {},
   "outputs": [],
   "source": [
    "residuals = manual_model_fit.resid[1:]\n",
    "\n",
    "fig, axes = plt.subplots(1, 2, figsize=(12, 5))\n",
    "\n",
    "plot_acf(residuals)\n",
    "plot_pacf(residuals)\n",
    "residuals.plot(title=\"Residuals\", ax=axes[0])\n",
    "residuals.plot(title=\"Density\", ax=axes[1], kind=\"kde\")"
   ]
  },
  {
   "cell_type": "markdown",
   "id": "463a4b77-ccbc-41e3-b4a5-8f53fa24bd46",
   "metadata": {},
   "source": [
    "#### Auto model"
   ]
  },
  {
   "cell_type": "code",
   "execution_count": null,
   "id": "a28f0122-d7ec-40ef-8ff8-15b0bbf69743",
   "metadata": {},
   "outputs": [],
   "source": [
    "residuals = auto_model_fit.resid[1:]\n",
    "\n",
    "fig, axes = plt.subplots(1, 2, figsize=(12, 5))\n",
    "\n",
    "plot_acf(residuals)\n",
    "plot_pacf(residuals)\n",
    "residuals.plot(title=\"Residuals\", ax=axes[0])\n",
    "residuals.plot(title=\"Density\", ax=axes[1], kind=\"kde\")"
   ]
  },
  {
   "cell_type": "markdown",
   "id": "378b2cf4-44ba-4772-9abc-c7e266260c88",
   "metadata": {},
   "source": [
    "- Residuals resemble white noise in both models.\n",
    "- Their density is normally distributed.\n",
    "- ACF and PACF plots show no significant spikes for both models.\n",
    "- Therefore, the models appear to be well-fitted and meet the necessary diagnostic criteria."
   ]
  },
  {
   "cell_type": "markdown",
   "id": "5fff35ee-aaf3-470d-b7bc-08ddb17ba73d",
   "metadata": {},
   "source": [
    "### Forecast on the training data"
   ]
  },
  {
   "cell_type": "code",
   "execution_count": null,
   "id": "c287324b-5c9d-4e4e-8596-89d13b89a703",
   "metadata": {},
   "outputs": [],
   "source": [
    "# Get number of periods to forecast from test\n",
    "n_forecast = len(df_au_test)"
   ]
  },
  {
   "cell_type": "markdown",
   "id": "c4a63e96-3922-43df-a4a8-9e44e4f181c9",
   "metadata": {},
   "source": [
    "#### Manual model"
   ]
  },
  {
   "cell_type": "code",
   "execution_count": null,
   "id": "6dd69dd4-bc29-4d20-86ff-62f91d65d8db",
   "metadata": {},
   "outputs": [],
   "source": [
    "# Get forecast values\n",
    "manual_forecast = manual_model_fit.get_forecast(steps=n_forecast)\n",
    "manual_forecast_values = manual_forecast.predicted_mean\n",
    "manual_conf_int = manual_forecast.conf_int()"
   ]
  },
  {
   "cell_type": "code",
   "execution_count": null,
   "id": "c351532b-58eb-4357-ae30-c408ea59038c",
   "metadata": {},
   "outputs": [],
   "source": [
    "plt.figure(figsize=(10, 6))\n",
    "\n",
    "# Plot the training data\n",
    "plt.plot(df_au_train.loc[\"2020-01-01\":].index, df_au_train.loc[\"2020-01-01\":].values, label=\"Train\")\n",
    "\n",
    "# Plot the test data\n",
    "plt.plot(df_au_test.loc[\"2020-01-01\":].index, df_au_test.loc[\"2020-01-01\":].values, label=\"Test\")\n",
    "\n",
    "# Plot the forecast data\n",
    "plt.plot(df_au_test.loc[\"2020-01-01\":].index, manual_forecast_values, label=\"Forecast\")\n",
    "\n",
    "# Fill the confidence interval\n",
    "plt.fill_between(df_au_test.loc[\"2020-01-01\":].index, manual_conf_int.iloc[:, 0], manual_conf_int.iloc[:, 1], color=\"pink\", alpha=0.3)\n",
    "\n",
    "plt.title(\"ARIMA forecast of the gold price\")\n",
    "plt.xlabel(\"\")\n",
    "plt.ylabel(\"\")\n",
    "plt.legend(loc=\"upper left\")"
   ]
  },
  {
   "cell_type": "markdown",
   "id": "71c61ff0-d26a-452f-8e16-a8a22680f5c6",
   "metadata": {},
   "source": [
    "#### Auto model"
   ]
  },
  {
   "cell_type": "code",
   "execution_count": null,
   "id": "a7547588-c4d3-4931-b236-73b6803024d9",
   "metadata": {},
   "outputs": [],
   "source": [
    "# Get forecast values\n",
    "auto_forecast = auto_model_fit.get_forecast(steps=n_forecast)\n",
    "auto_forecast_values = auto_forecast.predicted_mean\n",
    "auto_conf_int = auto_forecast.conf_int()"
   ]
  },
  {
   "cell_type": "code",
   "execution_count": null,
   "id": "2b2ba966-2e3a-4b61-9fe0-cb17b0ecc876",
   "metadata": {},
   "outputs": [],
   "source": [
    "plt.figure(figsize=(10, 6))\n",
    "\n",
    "# Plot the training data\n",
    "plt.plot(df_au_train.loc[\"2020-01-01\":].index, df_au_train.loc[\"2020-01-01\":].values, label=\"Train\")\n",
    "\n",
    "# Plot the test data\n",
    "plt.plot(df_au_test.loc[\"2020-01-01\":].index, df_au_test.loc[\"2020-01-01\":].values, label=\"Test\")\n",
    "\n",
    "# Plot the forecast data\n",
    "plt.plot(df_au_test.loc[\"2020-01-01\":].index, auto_forecast_values, label=\"Forecast\")\n",
    "\n",
    "# Fill the confidence interval\n",
    "plt.fill_between(df_au_test.loc[\"2020-01-01\":].index, auto_conf_int.iloc[:, 0], auto_conf_int.iloc[:, 1], color=\"pink\", alpha=0.3)\n",
    "\n",
    "plt.title(\"SARIMA forecast of the gold price\")\n",
    "plt.xlabel(\"\")\n",
    "plt.ylabel(\"\")\n",
    "plt.legend(loc=\"upper left\")"
   ]
  },
  {
   "cell_type": "markdown",
   "id": "c4a4cc7b-7506-4fc9-88db-693d14bd0a42",
   "metadata": {},
   "source": [
    "### Evaluate both models"
   ]
  },
  {
   "cell_type": "markdown",
   "id": "528e095b-b27f-4de0-99a4-d60e329d1be0",
   "metadata": {},
   "source": [
    "#### Manual model"
   ]
  },
  {
   "cell_type": "code",
   "execution_count": null,
   "id": "d93e2c53-1dfc-44ca-a80e-d73c9e89237e",
   "metadata": {},
   "outputs": [],
   "source": [
    "# Evaluate model\n",
    "mae = mean_absolute_error(df_au_test, manual_forecast_values)\n",
    "rmse = np.sqrt(mean_squared_error(df_au_test, manual_forecast_values))\n",
    "r2 = r2_score(df_au_test, manual_forecast_values)\n",
    "\n",
    "print(f\"MAE: {mae}\")\n",
    "print(f\"RMSE: {rmse}\")\n",
    "print(f\"R²: {r2}\")"
   ]
  },
  {
   "cell_type": "markdown",
   "id": "7eb87f3a-a191-4224-b298-3b6faa23b62e",
   "metadata": {},
   "source": [
    "#### Auto model"
   ]
  },
  {
   "cell_type": "code",
   "execution_count": null,
   "id": "bb82567e-a747-44b1-a0eb-4e78c59e09ff",
   "metadata": {},
   "outputs": [],
   "source": [
    "# Evaluate model\n",
    "mae = mean_absolute_error(df_au_test, auto_forecast_values)\n",
    "rmse = np.sqrt(mean_squared_error(df_au_test, auto_forecast_values))\n",
    "r2 = r2_score(df_au_test, auto_forecast_values)\n",
    "\n",
    "print(f\"MAE: {mae}\")\n",
    "print(f\"RMSE: {rmse}\")\n",
    "print(f\"R²: {r2}\")"
   ]
  },
  {
   "cell_type": "markdown",
   "id": "885dbe3a-ec4d-4bc3-bfef-e94e7fd23d9d",
   "metadata": {},
   "source": [
    "**Unfortunately, neither the manual nor the auto models provided acceptable results. We need to try a different strategy.**"
   ]
  },
  {
   "cell_type": "markdown",
   "id": "5fd03008-39f6-4bcd-9b44-d95dfd462765",
   "metadata": {},
   "source": [
    "### Fine tune a model"
   ]
  },
  {
   "cell_type": "code",
   "execution_count": null,
   "id": "4dc97baf-68bb-45f9-a6d1-8b0445013d2d",
   "metadata": {},
   "outputs": [],
   "source": [
    "# Fit tuned model\n",
    "tuned_model = ARIMA(df_au_train, order=(3, 1, 0), seasonal_order=(0, 1, 1, 52))\n",
    "tuned_model_fit = tuned_model.fit()\n",
    "tuned_model_fit.summary()"
   ]
  },
  {
   "cell_type": "code",
   "execution_count": null,
   "id": "0e571899-6c38-4d20-994f-0e9a073c56d7",
   "metadata": {},
   "outputs": [],
   "source": [
    "# Get forecast values\n",
    "tuned_forecast = tuned_model_fit.get_forecast(steps=n_forecast)\n",
    "tuned_forecast_values = tuned_forecast.predicted_mean\n",
    "tuned_conf_int = tuned_forecast.conf_int()"
   ]
  },
  {
   "cell_type": "code",
   "execution_count": null,
   "id": "037cc52a-cd4d-4fb3-a7ed-02ccfde1911b",
   "metadata": {},
   "outputs": [],
   "source": [
    "plt.figure(figsize=(10, 6))\n",
    "\n",
    "# Plot the training data\n",
    "plt.plot(df_au_train.loc[\"2020-01-01\":].index, df_au_train.loc[\"2020-01-01\":].values, label=\"Train\")\n",
    "\n",
    "# Plot the test data\n",
    "plt.plot(df_au_test.loc[\"2020-01-01\":].index, df_au_test.loc[\"2020-01-01\":].values, label=\"Test\")\n",
    "\n",
    "# Plot the forecast data\n",
    "plt.plot(df_au_test.loc[\"2020-01-01\":].index, tuned_forecast_values, label=\"Forecast\")\n",
    "\n",
    "# Fill the confidence interval\n",
    "plt.fill_between(df_au_test.loc[\"2020-01-01\":].index, tuned_conf_int.iloc[:, 0], tuned_conf_int.iloc[:, 1], color=\"pink\", alpha=0.3)\n",
    "\n",
    "plt.title(\"SARIMA forecast of the gold price\")\n",
    "plt.xlabel(\"\")\n",
    "plt.ylabel(\"\")\n",
    "plt.legend(loc=\"upper left\")"
   ]
  },
  {
   "cell_type": "code",
   "execution_count": null,
   "id": "79defa7e-1a19-460e-83bb-87d2ad4c217d",
   "metadata": {},
   "outputs": [],
   "source": [
    "# Evaluate model\n",
    "mae = mean_absolute_error(df_au_test, tuned_forecast_values)\n",
    "rmse = np.sqrt(mean_squared_error(df_au_test, tuned_forecast_values))\n",
    "r2 = r2_score(df_au_test, tuned_forecast_values)\n",
    "\n",
    "print(f\"MAE: {mae}\")\n",
    "print(f\"RMSE: {rmse}\")\n",
    "print(f\"R²: {r2}\")"
   ]
  },
  {
   "cell_type": "markdown",
   "id": "446006ff-5e97-45b2-8f76-f7949169b6a6",
   "metadata": {},
   "source": [
    "**This model has provided acceptable results. Therefore it'll be used for the forecast.**"
   ]
  },
  {
   "cell_type": "markdown",
   "id": "69e1a407-92d1-4d45-bab6-972fd1ae7610",
   "metadata": {},
   "source": [
    "## The forecast"
   ]
  },
  {
   "cell_type": "code",
   "execution_count": null,
   "id": "d2b89423-10ba-4b4b-af15-a2a4252bf09d",
   "metadata": {},
   "outputs": [],
   "source": [
    "# Fit model\n",
    "model = ARIMA(df_au, order=(3, 1, 0), seasonal_order=(0, 1, 1, 52))\n",
    "model_fit = model.fit()\n",
    "model_fit.summary()"
   ]
  },
  {
   "cell_type": "code",
   "execution_count": null,
   "id": "97fc48b8-c9b7-4fbb-9bcf-e4c1e30ecf45",
   "metadata": {},
   "outputs": [],
   "source": [
    "# Get number of periods (weeks) to forecast\n",
    "n_forecast = 26"
   ]
  },
  {
   "cell_type": "code",
   "execution_count": null,
   "id": "189d4e3c-e2a3-474b-a67b-4b1d56252d32",
   "metadata": {},
   "outputs": [],
   "source": [
    "# Get forecast values\n",
    "forecast = model_fit.get_forecast(steps=n_forecast)\n",
    "forecast_values = forecast.predicted_mean\n",
    "conf_int = forecast.conf_int()\n",
    "forecast_index = pd.date_range(start=df_au.index[-1], periods=n_forecast + 1, freq=\"W\")[1:]"
   ]
  },
  {
   "cell_type": "code",
   "execution_count": null,
   "id": "41d8da21-d8d3-4788-8925-178372b38915",
   "metadata": {},
   "outputs": [],
   "source": [
    "plt.figure(figsize=(10, 6))\n",
    "\n",
    "# Plot the original data\n",
    "sns.lineplot(x=df_au.loc[\"2022-01-01\":].index, y=df_au.loc[\"2022-01-01\":][\"price\"], label=\"Historic\", color=\"yellow\")\n",
    "\n",
    "# Plot the forecast data\n",
    "sns.lineplot(x=forecast_index, y=forecast_values, label=\"Forecast\", color=\"aqua\")\n",
    "\n",
    "# Fill the confidence interval\n",
    "plt.fill_between(forecast_index, conf_int.iloc[:, 0], conf_int.iloc[:, 1], label=\"Confidence interval\", color=\"aquamarine\", alpha=0.2)\n",
    "\n",
    "plt.title(\"SARIMA forecast of the gold price for the next 6 months\")\n",
    "plt.xlabel(\"\")\n",
    "plt.ylabel(\"\")\n",
    "plt.legend(loc=\"upper left\")\n",
    "\n",
    "save_chart_as_png(\"7.1_AU_ARIMA\")"
   ]
  }
 ],
 "metadata": {
  "kernelspec": {
   "display_name": "Python 3 (ipykernel)",
   "language": "python",
   "name": "python3"
  },
  "language_info": {
   "codemirror_mode": {
    "name": "ipython",
    "version": 3
   },
   "file_extension": ".py",
   "mimetype": "text/x-python",
   "name": "python",
   "nbconvert_exporter": "python",
   "pygments_lexer": "ipython3",
   "version": "3.12.3"
  }
 },
 "nbformat": 4,
 "nbformat_minor": 5
}
