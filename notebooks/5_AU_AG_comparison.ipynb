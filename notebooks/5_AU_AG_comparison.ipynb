{
 "cells": [
  {
   "cell_type": "markdown",
   "id": "1cc610f2-f775-4175-ad5c-e2057f82a538",
   "metadata": {},
   "source": [
    "# Comparison of gold and silver prices"
   ]
  },
  {
   "cell_type": "markdown",
   "id": "cf6a0bcb-b298-4b6a-add6-7f5e52bc91fb",
   "metadata": {},
   "source": [
    "## Setup"
   ]
  },
  {
   "cell_type": "code",
   "execution_count": null,
   "id": "4577de10-800c-442d-bace-05b312004467",
   "metadata": {},
   "outputs": [],
   "source": [
    "from matplotlib.lines import Line2D\n",
    "import matplotlib.pyplot as plt\n",
    "import pandas as pd\n",
    "import seaborn as sns"
   ]
  },
  {
   "cell_type": "code",
   "execution_count": null,
   "id": "0e605f3b-a326-45d7-8e8c-d2d6e956f812",
   "metadata": {},
   "outputs": [],
   "source": [
    "# Get gold and silver dfs\n",
    "df_au = pd.read_csv(\"../data/AU.csv\")\n",
    "df_ag = pd.read_csv(\"../data/AG.csv\")"
   ]
  },
  {
   "cell_type": "code",
   "execution_count": null,
   "id": "9a923bf3-9a61-485c-814f-f6b461997b8a",
   "metadata": {},
   "outputs": [],
   "source": [
    "# Set date as index for both dfs\n",
    "for df in df_au, df_ag:\n",
    "    df[\"date\"] = pd.to_datetime(df[\"date\"])\n",
    "    df.set_index(\"date\", inplace=True)"
   ]
  },
  {
   "cell_type": "code",
   "execution_count": null,
   "id": "ac90ec76-ac71-412c-a131-91ff51d2c07a",
   "metadata": {},
   "outputs": [],
   "source": [
    "# Set charts theme\n",
    "sns.set_theme(style=\"darkgrid\", rc={\"grid.alpha\": 0.33})\n",
    "plt.style.use(\"dark_background\")"
   ]
  },
  {
   "cell_type": "code",
   "execution_count": null,
   "id": "bfa1e6ae-7750-42a6-b3e9-143dd8db06f7",
   "metadata": {},
   "outputs": [],
   "source": [
    "# Save chart as png function\n",
    "def save_chart_as_png(filename: str) -> None:\n",
    "    plt.savefig(\n",
    "        f\"../images/{filename}.png\",\n",
    "        format=\"png\",\n",
    "        dpi=300,\n",
    "        orientation=\"landscape\",\n",
    "        bbox_inches=\"tight\",\n",
    "    )"
   ]
  },
  {
   "cell_type": "markdown",
   "id": "3108ebcb-2999-48ba-a508-c3aca5966feb",
   "metadata": {},
   "source": [
    "## Preparing data into a combined df"
   ]
  },
  {
   "cell_type": "code",
   "execution_count": null,
   "id": "6d449ae0-1f2f-49da-98c5-fff5d5c8408e",
   "metadata": {},
   "outputs": [],
   "source": [
    "# Get 1-year volatility of gold and silver\n",
    "for df, name in [(df_au, \"au\"), (df_ag, \"ag\")]:\n",
    "    df[\"price_change\"] = df[\"price\"].pct_change()\n",
    "    df[f\"{name}_volatility\"] = df[\"price_change\"].rolling(window=252).std()\n",
    "    df.drop(columns=[\"price_change\"], inplace=True)"
   ]
  },
  {
   "cell_type": "code",
   "execution_count": null,
   "id": "d9eb128e-6942-4e2a-8090-f7fe402c4ce9",
   "metadata": {},
   "outputs": [],
   "source": [
    "# Rename dfs cols\n",
    "df_au.rename(columns={\"price\": \"au_price\"}, inplace=True)\n",
    "df_ag.rename(columns={\"price\": \"ag_price\"}, inplace=True)"
   ]
  },
  {
   "cell_type": "code",
   "execution_count": null,
   "id": "854277a0-0227-4909-bf6b-80d23b63a0e3",
   "metadata": {},
   "outputs": [],
   "source": [
    "# Combine them in one df (avoiding any NaN values)\n",
    "df_combined = df_au.join(df_ag, how=\"inner\")"
   ]
  },
  {
   "cell_type": "markdown",
   "id": "a0c1493e-becf-4836-8dae-fedb6c8fdf03",
   "metadata": {},
   "source": [
    "## Comparison"
   ]
  },
  {
   "cell_type": "markdown",
   "id": "4f36d5e6-a3b3-4fb0-9154-5c0decbb5c63",
   "metadata": {},
   "source": [
    "### Prices"
   ]
  },
  {
   "cell_type": "code",
   "execution_count": null,
   "id": "3a8becb9-735f-47e0-8479-6ff4c85544bb",
   "metadata": {},
   "outputs": [],
   "source": [
    "# Add decade col\n",
    "df_combined[\"decade\"] = df_combined.index.year // 10 * 10"
   ]
  },
  {
   "cell_type": "code",
   "execution_count": null,
   "id": "156772eb-260c-420d-9a39-39f2c1785496",
   "metadata": {},
   "outputs": [],
   "source": [
    "plt.figure(figsize=(10, 6))\n",
    "custom_palette = [\"yellow\", \"purple\", \"lightsteelblue\", \"darkorange\", \"limegreen\", \"darkred\", \"teal\"]\n",
    "\n",
    "sns.scatterplot(data=df_combined, x=\"au_price\", y=\"ag_price\", hue=\"decade\", palette=custom_palette, alpha=0.7, linewidth=0.2)\n",
    "\n",
    "plt.title(\"Prices of a troy ounce of gold vs silver across time\")\n",
    "plt.xlabel(\"Gold price\")\n",
    "plt.ylabel(\"Silver price\")\n",
    "plt.legend(title=\"Decade\")\n",
    "\n",
    "save_chart_as_png(\"5_AU_AG_comparison_price_scatter\")"
   ]
  },
  {
   "cell_type": "markdown",
   "id": "b91c5ea9-f67a-40e5-b1ac-2a4c3fdcafdf",
   "metadata": {},
   "source": [
    "**Key takeaways:**\n",
    "- This scatter plot clearly shows the robust correlation (0.9) between gold and silver prices.\n",
    "- In the 1970s, 1980s, and 2000s, there were periods when silver prices rose more sharply than gold prices.\n",
    "- Overall, gold prices seem to have risen more than silver, though this varies by decade."
   ]
  },
  {
   "cell_type": "code",
   "execution_count": null,
   "id": "8edfc3e9-ced7-4a5c-826b-18e2a900352e",
   "metadata": {},
   "outputs": [],
   "source": [
    "fig, ax1 = plt.subplots(figsize=(10, 6))\n",
    "ax2 = ax1.twinx()\n",
    "\n",
    "au_color = \"yellow\"\n",
    "ag_color = \"lightgrey\"\n",
    "\n",
    "sns.lineplot(data=df_combined, x=df_combined.index, y=\"au_price\", ax=ax1, color=au_color, linewidth=0.4)\n",
    "sns.lineplot(data=df_combined, x=df_combined.index, y=\"ag_price\", ax=ax2, color=ag_color, linewidth=0.4)\n",
    "\n",
    "# Compress the y axis to see early price fluctuations\n",
    "ax1.set_yscale(\"log\")\n",
    "ax2.set_yscale(\"log\")\n",
    "\n",
    "plt.title(\"Prices of a troy ounce of gold and silver across time\")\n",
    "ax1.set_xlabel(\"\")\n",
    "ax1.set_ylabel(\"Gold price\")\n",
    "ax2.set_ylabel(\"Silver price\")\n",
    "\n",
    "# Manually create legend handles with a larger linewidth just to be able to see it\n",
    "legend_handles = [Line2D([0], [0], color=au_color, lw=1.5, label=\"Gold\"),\n",
    "                  Line2D([0], [0], color=ag_color, lw=1.5, label=\"Silver\")]\n",
    "ax1.legend(handles=legend_handles)\n",
    "\n",
    "save_chart_as_png(\"5_AU_AG_comparison_price\")"
   ]
  },
  {
   "cell_type": "markdown",
   "id": "d14880a4-9f03-47cc-b7a3-b4ed97881d15",
   "metadata": {},
   "source": [
    "**Key takeaways:**\n",
    "- During the 1970s, price fluctuations of gold and silver were close, but silver began losing momentum in the mid-1980s.\n",
    "- In the 1990s, price fluctuations diverged, with silver showing some recovery in the late 2000s and early 2010s before falling again since the 2010s.\n",
    "- To have a better notion, we need to analyze the gold-to-silver ratio."
   ]
  },
  {
   "cell_type": "markdown",
   "id": "ac174573-ceaa-4761-a1f6-f4f9abe68090",
   "metadata": {},
   "source": [
    "#### Price ratio"
   ]
  },
  {
   "cell_type": "code",
   "execution_count": null,
   "id": "6a8c3514-55dd-4194-bc5c-7c008cb95cfd",
   "metadata": {},
   "outputs": [],
   "source": [
    "# Get gold to silver price ratio col and its 1-year moving average\n",
    "df_combined[\"price_ratio\"] = df_combined[\"au_price\"] / df_combined[\"ag_price\"]\n",
    "df_combined[\"price_ratio_1y_ma\"] = df_combined[\"price_ratio\"].rolling(window=252).mean()"
   ]
  },
  {
   "cell_type": "code",
   "execution_count": null,
   "id": "867eeda3-92e3-446d-b42c-87734df0592d",
   "metadata": {},
   "outputs": [],
   "source": [
    "plt.figure(figsize=(10, 6))\n",
    "\n",
    "sns.lineplot(data=df_combined, x=df_combined.index, y=\"price_ratio\", color=\"tan\", linewidth=0.25)\n",
    "sns.lineplot(data=df_combined, x=df_combined.index, y=\"price_ratio_1y_ma\", label=\"Moving average (1-year)\", color=\"aqua\", linewidth=0.75)\n",
    "\n",
    "plt.title(\"Gold to silver price ratio across time\")\n",
    "plt.xlabel(\"\")\n",
    "plt.ylabel(\"G/S Ratio\")\n",
    "\n",
    "save_chart_as_png(\"5_AU_AG_comparison_price_ratio\")"
   ]
  },
  {
   "cell_type": "code",
   "execution_count": null,
   "id": "fa0ac08e-c829-4c17-89a6-140f622ccec8",
   "metadata": {},
   "outputs": [],
   "source": [
    "# Get average ratio per decade\n",
    "df_combined_dec = df_combined.groupby(\"decade\")\n",
    "df_combined_dec = df_combined_dec[\"price_ratio\"].mean().round(2).reset_index()\n",
    "df_combined_dec.columns = [\"decade\", \"average_price_ratio\"]\n",
    "df_combined_dec.set_index(\"decade\").T"
   ]
  },
  {
   "cell_type": "markdown",
   "id": "a7ee140f-e754-499b-ac0b-b8124d729361",
   "metadata": {},
   "source": [
    "**Key takeaways:**\n",
    "- The ratio was at its lowest before the mid-1980s.\n",
    "- Throughout the 1980s, silver lost ground to gold, with the ratio peaking in the early 1990s.\n",
    "- During this decade, silver partially recovered but then stabilized.\n",
    "- In the 2010s, the ratio increased again.\n",
    "- The current decade has the highest average ratio at 82.3, compared to 20.5 in the 1960s."
   ]
  },
  {
   "cell_type": "markdown",
   "id": "f3a3fdab-3d43-4fea-b46c-d6e6caa4b0c5",
   "metadata": {},
   "source": [
    "### Price change year-over-year"
   ]
  },
  {
   "cell_type": "code",
   "execution_count": null,
   "id": "f2a0383c-b492-44dd-a850-d4ecd419de25",
   "metadata": {},
   "outputs": [],
   "source": [
    "# Get YoY returns\n",
    "# Get yearly prices df with first and last prices\n",
    "df_combined_yearly = df_combined.groupby(df_combined.index.year).agg(\n",
    "    au_first_price=pd.NamedAgg(column=\"au_price\", aggfunc=\"first\"),\n",
    "    au_last_price=pd.NamedAgg(column=\"au_price\", aggfunc=\"last\"),\n",
    "    ag_first_price=pd.NamedAgg(column=\"ag_price\", aggfunc=\"first\"),\n",
    "    ag_last_price=pd.NamedAgg(column=\"ag_price\", aggfunc=\"last\")\n",
    ")\n",
    "# Get YoY return\n",
    "df_combined_yearly[\"au_price_change\"] = (df_combined_yearly[\"au_last_price\"] - df_combined_yearly[\"au_first_price\"]) / df_combined_yearly[\"au_first_price\"]\n",
    "df_combined_yearly[\"ag_price_change\"] = (df_combined_yearly[\"ag_last_price\"] - df_combined_yearly[\"ag_first_price\"]) / df_combined_yearly[\"ag_first_price\"]"
   ]
  },
  {
   "cell_type": "code",
   "execution_count": null,
   "id": "2ed00945-4c29-4d29-a866-3322b712702a",
   "metadata": {},
   "outputs": [],
   "source": [
    "# Get year col for id_vars (it must be a col and not index)\n",
    "df_combined_yearly[\"year\"] = df_combined_yearly.index\n",
    "# Reshape the df to a long format (with metal price changes cols as rows) to make it suited for a bar chart\n",
    "df_long = df_combined_yearly.melt(id_vars=\"year\", value_vars=[\"au_price_change\", \"ag_price_change\"], var_name=\"metal\", value_name=\"price_change\")\n",
    "df_long[\"metal\"] = df_long[\"metal\"].map({\"au_price_change\": \"Gold\", \"ag_price_change\": \"Silver\"})\n",
    "df_long.set_index(\"year\", inplace=True)"
   ]
  },
  {
   "cell_type": "code",
   "execution_count": null,
   "id": "5a92cfef-3d21-46c1-bf97-943600b7347a",
   "metadata": {},
   "outputs": [],
   "source": [
    "plt.figure(figsize=(10, 6))\n",
    "\n",
    "ax = sns.barplot(data=df_long, x=\"year\", y=\"price_change\", hue=\"metal\", palette={\"Gold\": \"gold\", \"Silver\": \"silver\"})\n",
    "\n",
    "# Compress the y axis to see smaller bars\n",
    "plt.yscale(\"symlog\", linthresh=0.75)\n",
    "\n",
    "plt.title(\"Year-over-year return of gold and silver across time\")\n",
    "plt.xlabel(\"\")\n",
    "plt.ylabel(\"\")\n",
    "plt.legend(title=\"Metal\")\n",
    "\n",
    "# Show only the beginning of the decade on the x-axis\n",
    "ax = plt.gca()\n",
    "for index, label in enumerate(ax.get_xticklabels()):\n",
    "    if index % 10 - 2 != 0:\n",
    "        label.set_visible(False)\n",
    "\n",
    "save_chart_as_png(\"5_AU_AG_comparison_YoY_return\")"
   ]
  },
  {
   "cell_type": "markdown",
   "id": "36f5c632-6bfc-4fb6-aae3-4db624b6f31b",
   "metadata": {},
   "source": [
    "**Since the 1980s, the absolute return on silver has generally been higher than gold, likely due to greater volatility. Comparing the difference of the return between bars will provide more insights.**"
   ]
  },
  {
   "cell_type": "markdown",
   "id": "36065086-6915-4744-80f4-5d6b41c214db",
   "metadata": {},
   "source": [
    "#### Price change year-over-year difference"
   ]
  },
  {
   "cell_type": "code",
   "execution_count": null,
   "id": "65ad8aac-72da-4d43-b7ff-17822243ae83",
   "metadata": {},
   "outputs": [],
   "source": [
    "# Get gold price change YoY advantage over silver's\n",
    "df_combined_yearly[\"au_price_change_adv\"] = df_combined_yearly[\"au_price_change\"] - df_combined_yearly[\"ag_price_change\"]\n",
    "# Get the metal which has better performance\n",
    "df_combined_yearly[\"best_metal\"] = df_combined_yearly[\"au_price_change_adv\"].apply(lambda x: \"Gold\" if x > 0 else \"Silver\")\n",
    "# Make advantage values absolute and as percentage\n",
    "df_combined_yearly[\"au_price_change_adv_pct\"] = df_combined_yearly[\"au_price_change_adv\"].abs() * 100"
   ]
  },
  {
   "cell_type": "code",
   "execution_count": null,
   "id": "ac09101c-3da1-469a-be31-8fb386eb603b",
   "metadata": {},
   "outputs": [],
   "source": [
    "plt.figure(figsize=(10, 6))\n",
    "\n",
    "sns.barplot(data=df_combined_yearly, x=df_combined_yearly.index, y=\"au_price_change_adv_pct\", hue=\"best_metal\", palette={\"Gold\": \"gold\", \"Silver\": \"silver\"}, alpha=0.9)\n",
    "\n",
    "# Compress the y axis to see smaller bars\n",
    "plt.yscale(\"log\")\n",
    "           \n",
    "plt.title(\"Year-over-year return advantage of each metal over time\")\n",
    "plt.xlabel(\"\")\n",
    "plt.ylabel(\"Percentage points difference\")\n",
    "plt.legend(title=\"Best performing metal\")\n",
    "\n",
    "# Show only beginning of decade\n",
    "ax = plt.gca()\n",
    "for index, label in enumerate(ax.get_xticklabels()):\n",
    "    if index % 10 - 2 != 0:\n",
    "        label.set_visible(False)\n",
    "\n",
    "save_chart_as_png(\"5_AU_AG_comparison_YoY_return_diff\")"
   ]
  },
  {
   "cell_type": "code",
   "execution_count": null,
   "id": "3d4dd4f1-3f62-4abb-b0ce-2a83442110ab",
   "metadata": {},
   "outputs": [],
   "source": [
    "# Number of bars of gold\n",
    "df_combined_yearly[df_combined_yearly[\"best_metal\"] == \"Gold\"][\"best_metal\"].count()"
   ]
  },
  {
   "cell_type": "code",
   "execution_count": null,
   "id": "b1782423-c14f-4f96-a1fd-8f58b1174097",
   "metadata": {},
   "outputs": [],
   "source": [
    "# Number of bars of silver\n",
    "df_combined_yearly[df_combined_yearly[\"best_metal\"] == \"Silver\"][\"best_metal\"].count()"
   ]
  },
  {
   "cell_type": "code",
   "execution_count": null,
   "id": "ffa4daee-01e6-45db-a7af-4592335d42e3",
   "metadata": {},
   "outputs": [],
   "source": [
    "# Average difference\n",
    "(df_combined_yearly[\"au_price_change\"].mean() - df_combined_yearly[\"ag_price_change\"].mean()).round(4)"
   ]
  },
  {
   "cell_type": "code",
   "execution_count": null,
   "id": "9a138f94-4b94-4355-9fd2-daae14210305",
   "metadata": {},
   "outputs": [],
   "source": [
    "# Average difference excluding 1979\n",
    "(df_combined_yearly.loc[df_combined_yearly.index != 1979, \"au_price_change\"].mean() - df_combined_yearly.loc[df_combined_yearly.index != 1979, \"ag_price_change\"].mean()).round(4)"
   ]
  },
  {
   "cell_type": "code",
   "execution_count": null,
   "id": "fcbcd1bb-2d69-4a41-91db-4dd74ee0b099",
   "metadata": {},
   "outputs": [],
   "source": [
    "# Median difference\n",
    "(df_combined_yearly[\"au_price_change\"].median() - df_combined_yearly[\"ag_price_change\"].median()).round(4)"
   ]
  },
  {
   "cell_type": "code",
   "execution_count": null,
   "id": "8a7b5c53-b710-47bd-b5f5-b38cc239edd9",
   "metadata": {},
   "outputs": [],
   "source": [
    "# Standard deviation difference\n",
    "(df_combined_yearly[\"au_price_change\"].std() - df_combined_yearly[\"ag_price_change\"].std()).round(4)"
   ]
  },
  {
   "cell_type": "code",
   "execution_count": null,
   "id": "6c655e11-79a9-4f4f-bb3f-70678656371c",
   "metadata": {},
   "outputs": [],
   "source": [
    "# Cumulative product difference\n",
    "((1 + df_combined_yearly[\"au_price_change\"]).cumprod().iloc[-1].round(4) - 1) - ((1 + df_combined_yearly[\"ag_price_change\"]).cumprod().iloc[-1].round(4) - 1)"
   ]
  },
  {
   "cell_type": "markdown",
   "id": "4b4603b0-dc0f-4469-abd9-0a3fe2873576",
   "metadata": {},
   "source": [
    "**Key takeaways:**\n",
    "- Gold has outperformed silver in 34 years, whereas silver outperformed gold in 23 years.\n",
    "- This year, silver is outperforming gold by approximately 10 percentage points.\n",
    "- On average, silver's year-over-year return is about 2 percentage points higher than gold's.\n",
    "- However, excluding the anomalous year of 1979 for both metals, gold takes the lead, boasting a return approximately 3.2 percentage points higher than silver.\n",
    "- Moreover, gold shines with a median YoY return about 7 percentage points greater than silver's.\n",
    "- Gold also outperforms silver by approximately 470 percentage points in cumulative YoY returns.\n",
    "- Given this, gold generally performs better than silver on a YoY basis."
   ]
  },
  {
   "cell_type": "markdown",
   "id": "586a40f2-c70c-4ba1-93b3-62f34ec09a2a",
   "metadata": {},
   "source": [
    "### Yearly volatility"
   ]
  },
  {
   "cell_type": "code",
   "execution_count": null,
   "id": "d466b072-cf3c-4a17-b0a5-a2e1c3ae1b63",
   "metadata": {},
   "outputs": [],
   "source": [
    "plt.figure(figsize=(10, 6))\n",
    "\n",
    "sns.lineplot(data=df_combined, x=df_combined.index, y=\"au_volatility\", label=\"Gold\", color=\"yellow\", linewidth=0.75)\n",
    "sns.lineplot(data=df_combined, x=df_combined.index, y=\"ag_volatility\", label=\"Silver\", color=\"lightgrey\", linewidth=0.75)\n",
    "\n",
    "plt.title(\"Yearly volatility of the price of gold and silver across time\")\n",
    "plt.xlabel(\"\")\n",
    "plt.ylabel(\"\")\n",
    "\n",
    "save_chart_as_png(\"5_AU_AG_comparison_Y_vlt\")"
   ]
  },
  {
   "cell_type": "markdown",
   "id": "303c5b50-b9ff-4538-adba-dce613076f61",
   "metadata": {},
   "source": [
    "**Silver has shown significantly higher volatility, particularly since the 1980s, with its average volatility almost double that of gold.**"
   ]
  },
  {
   "cell_type": "markdown",
   "id": "b3c93ee9-b22b-4990-80df-8794be72ecbc",
   "metadata": {},
   "source": [
    "#### Yearly volatility ratio"
   ]
  },
  {
   "cell_type": "code",
   "execution_count": null,
   "id": "bd9bdc6e-5d3c-4bb5-a1e5-78d232f01503",
   "metadata": {},
   "outputs": [],
   "source": [
    "# Get gold to silver yearly volatility ratio col\n",
    "df_combined[\"volatility_ratio\"] = df_combined[\"au_volatility\"] / df_combined[\"ag_volatility\"]"
   ]
  },
  {
   "cell_type": "code",
   "execution_count": null,
   "id": "afc580d7-bc91-4b06-bfa9-96a19fda5d93",
   "metadata": {},
   "outputs": [],
   "source": [
    "plt.figure(figsize=(10, 6))\n",
    "\n",
    "sns.lineplot(data=df_combined, x=df_combined.index, y=\"volatility_ratio\", color=\"tan\", linewidth=0.75)\n",
    "plt.axhline(y=1, label=\"Equal volatility\", color=\"red\", linewidth=2)\n",
    "\n",
    "plt.title(\"Gold to silver price yearly volatility ratio over time\")\n",
    "plt.xlabel(\"\")\n",
    "plt.ylabel(\"G/S Ratio\")\n",
    "plt.legend()\n",
    "\n",
    "save_chart_as_png(\"5_AU_AG_comparison_Y_vlt_ratio\")"
   ]
  },
  {
   "cell_type": "code",
   "execution_count": null,
   "id": "34112ca3-dfd7-4eab-a068-9390abbcc91a",
   "metadata": {},
   "outputs": [],
   "source": [
    "# Get the percentage of time in which ratio was at least 1\n",
    "(df_combined[df_combined[\"volatility_ratio\"] >= 1][\"volatility_ratio\"].count() / df_combined[\"volatility_ratio\"].count() * 100).round(2)"
   ]
  },
  {
   "cell_type": "markdown",
   "id": "66631ed5-8d0d-471d-bc57-170f2d237974",
   "metadata": {},
   "source": [
    "**Periods where gold was more volatile than silver are rare, occurring less than 6% of the time, mainly in the 1970s and also on early 2000s.**"
   ]
  }
 ],
 "metadata": {
  "kernelspec": {
   "display_name": "Python 3 (ipykernel)",
   "language": "python",
   "name": "python3"
  },
  "language_info": {
   "codemirror_mode": {
    "name": "ipython",
    "version": 3
   },
   "file_extension": ".py",
   "mimetype": "text/x-python",
   "name": "python",
   "nbconvert_exporter": "python",
   "pygments_lexer": "ipython3",
   "version": "3.12.3"
  }
 },
 "nbformat": 4,
 "nbformat_minor": 5
}
